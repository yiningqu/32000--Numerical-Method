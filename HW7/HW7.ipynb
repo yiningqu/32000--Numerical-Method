{
 "cells": [
  {
   "cell_type": "markdown",
   "metadata": {
    "id": "uy1pUOMx4GBP"
   },
   "source": [
    "# Question 1\n",
    "\n",
    "## (a)\n",
    "\n",
    "\n",
    "Two of the functions have one or more places where you are to \"FILL THIS IN\""
   ]
  },
  {
   "cell_type": "code",
   "execution_count": 1,
   "metadata": {
    "id": "F5muQAh24GBQ"
   },
   "outputs": [
    {
     "name": "stderr",
     "output_type": "stream",
     "text": [
      "/opt/anaconda3/lib/python3.8/site-packages/scipy/__init__.py:146: UserWarning: A NumPy version >=1.16.5 and <1.23.0 is required for this version of SciPy (detected version 1.24.4\n",
      "  warnings.warn(f\"A NumPy version >={np_minversion} and <{np_maxversion}\"\n"
     ]
    }
   ],
   "source": [
    "import numpy as np\n",
    "import scipy.optimize\n",
    "import statsmodels.api as sm"
   ]
  },
  {
   "cell_type": "code",
   "execution_count": 2,
   "metadata": {
    "id": "EVrtWCVN4GBR"
   },
   "outputs": [],
   "source": [
    "class GBM:\n",
    "\n",
    "    def __init__(self,S0,r,sigma):\n",
    "        self.S0 = 1\n",
    "        self.r = 0.03\n",
    "        self.sigma = 0.20"
   ]
  },
  {
   "cell_type": "code",
   "execution_count": 3,
   "metadata": {
    "id": "nsUtWRWg4GBR"
   },
   "outputs": [],
   "source": [
    "hw7dynamics = GBM(S0=1,r=0.03,sigma=0.20)"
   ]
  },
  {
   "cell_type": "code",
   "execution_count": 4,
   "metadata": {
    "id": "rKfu_mkO4GBR"
   },
   "outputs": [],
   "source": [
    "class Put:\n",
    "\n",
    "    def __init__(self,K,T):\n",
    "        self.K = K\n",
    "        self.T = T"
   ]
  },
  {
   "cell_type": "code",
   "execution_count": 5,
   "metadata": {
    "id": "lW_W1mKf4GBR"
   },
   "outputs": [],
   "source": [
    "hw7contract = Put(K=1.1,T=4)"
   ]
  },
  {
   "cell_type": "code",
   "execution_count": 8,
   "metadata": {
    "id": "94XU4gKI4GBR"
   },
   "outputs": [],
   "source": [
    "class MCengine:\n",
    "\n",
    "    def __init__(self,M,N,seed,algorithm):\n",
    "\n",
    "        self.M = M # Number of paths\n",
    "        self.N = N     # Number of time periods\n",
    "        self.rng = np.random.default_rng(seed=seed) # Seeding the random number generator with a specified number helps make the calculations reproducible\n",
    "\n",
    "        self.algorithm = algorithm\n",
    "        #'value' for Value-based approach (Longstaff-Schwartz) -- problem 1a\n",
    "        #'policy' for Policy optimization -- problem 1b\n",
    "\n",
    "    def price_americanPut_GBM(self,contract,dynamics):\n",
    "\n",
    "        r=dynamics.r\n",
    "        sigma=dynamics.sigma\n",
    "        S0=dynamics.S0\n",
    "\n",
    "        K=contract.K\n",
    "        T=contract.T\n",
    "\n",
    "        N=self.N\n",
    "        M=self.M\n",
    "        dt=T/N\n",
    "\n",
    "        Z = self.rng.normal(size=(M,N))\n",
    "\n",
    "        paths = S0*np.exp((r-sigma**2/2)*dt*np.tile(np.arange(1,N+1),(M,1))+sigma*np.sqrt(dt)*np.cumsum(Z,axis=1))\n",
    "\n",
    "        payoffDiscounted = np.maximum(0,K-paths[:,-1])\n",
    "\n",
    "        for nn in np.arange(N-1,0,-1):\n",
    "            continuationPayoffDiscounted = np.exp(-r*dt)*payoffDiscounted\n",
    "\n",
    "            X=paths[:,nn-1]\n",
    "            exerciseValue = K-X\n",
    "            \n",
    "            if self.algorithm == 'value':\n",
    "                # This is the value function (Longstaff-Schwartz) approach.  For problem 1a\n",
    "\n",
    "                # should be 1, X, X^2 matrix\n",
    "                # set axis = 1 so that the matrix will make each row a column\n",
    "                basisfunctions = np.stack([np.ones(M), X, X**2], axis = 1)\n",
    "                # FILL THIS IN.  You may use np.stack\n",
    "                # This will be an M-by-3 array containing the basis functions (Same ones as L7.9-7.10, and Excel)\n",
    "\n",
    "                # find beta by OLS, y should eb continuationpayoffdiscounted, x should be the basis function\n",
    "                # note that we should use only in-the-money paths to fit the regression model\n",
    "                model_ols = sm.OLS(continuationPayoffDiscounted[exerciseValue>0], basisfunctions[exerciseValue>0])\n",
    "                ols_results = model_ols.fit()\n",
    "                coefficients = ols_results.params\n",
    "                # FILL THIS IN\n",
    "                # This will be an array of 3 estimated \"betas\".\n",
    "\n",
    "                # predicted values\n",
    "                # we can use basisfunctions @ coefficients or ols_results.predict(basisfunctions)\n",
    "                estimatedContinuationValue = basisfunctions @ coefficients\n",
    "                # FILL THIS IN with an array of length M.\n",
    "                # This is similar to the Red column in Excel\n",
    "\n",
    "                whichPathsToExercise = (exerciseValue >= np.maximum(estimatedContinuationValue,0))\n",
    "                        #This is a length-M array of Booleans\n",
    "\n",
    "            elif self.algorithm == 'policy':\n",
    "                # This is the policy optimization approach to Reinforcement learning.  For problem 1b\n",
    "\n",
    "                (a_opt,b_opt) = scipy.optimize.minimize(\n",
    "                    negofMCaverageOfExpectedPayouts,(0,0),args=(X,exerciseValue,continuationPayoffDiscounted),method='Nelder-Mead').x\n",
    "                    #Chose Nelder-Mead optimizer because it is generating reasonable results with minimal coding effort\n",
    "                    #But gradient methods, done properly, usually run faster\n",
    "\n",
    "                # get the optinmized a and b above and get the optimized p\n",
    "                p_opt = softExercise(X, a_opt, b_opt)\n",
    "                # ensure the p should not be smaller than 0.5 and the exercise value should not be OTM\n",
    "                whichPathsToExercise = ((p_opt>=0.5) & (exerciseValue>0))\n",
    "                    #FILL THIS IN, using the right-hand side of the last equation on the homework sheet\n",
    "                    #This obtains the hard exercise decision from the optimized soft exercise function\n",
    "                    #It should be a length-M array of Booleans (as it was in the \"value\" approach.\n",
    "                    #But here it comes from the softExercise function)\n",
    "\n",
    "            else:\n",
    "                raise ValueError('Unknown algorithm type')\n",
    "\n",
    "            # whichpathstoexercise tells you if the exercise is larger than expected continuation values\n",
    "            # if true, you should exercise so take exercise value\n",
    "            # if false, use the discounted continuation cash flow as the excel shows\n",
    "            payoffDiscounted[whichPathsToExercise] = exerciseValue[whichPathsToExercise]# FILL THIS IN -- see the \"discounted cashflow along path\" column in Excel\n",
    "            payoffDiscounted[np.logical_not(whichPathsToExercise)] = continuationPayoffDiscounted[np.logical_not(whichPathsToExercise)]# FILL THIS IN -- see the \"discounted cashflow along path\" column in Excel\n",
    "\n",
    "        # The time-0 calculation needs no regression\n",
    "        continuationPayoffDiscounted = np.exp(-r*dt)*payoffDiscounted;\n",
    "        estimatedContinuationValue = np.mean(continuationPayoffDiscounted);\n",
    "        putprice = max(K-S0,estimatedContinuationValue);\n",
    "\n",
    "        return(putprice)"
   ]
  },
  {
   "cell_type": "code",
   "execution_count": 6,
   "metadata": {
    "id": "SgmUYic94GBS"
   },
   "outputs": [],
   "source": [
    "# for Policy optimization approach, problem 1b\n",
    "#\n",
    "# If b<<0 then this function essentially returns nearly 1 if X<a, or nearly 0 if X>a\n",
    "# but with some smoothing of the discontinuity, using a sigmoid function, to help the optimizer\n",
    "\n",
    "def softExercise(X,a,b):\n",
    "    return 1/(1+np.exp(-b*(X-a)))"
   ]
  },
  {
   "cell_type": "code",
   "execution_count": 7,
   "metadata": {
    "id": "fenSj43Z4GBS"
   },
   "outputs": [],
   "source": [
    "# for Policy optimization approach, problem 1b\n",
    "\n",
    "def negofMCaverageOfExpectedPayouts(coefficients, x, exercisePayoff, continuationPayoff):\n",
    "\n",
    "    p = softExercise(x,*coefficients)\n",
    "\n",
    "    # p and exercisePayoff and continuationPayoff are all length-M arrays\n",
    "\n",
    "    # p is result of the softexercise results as showing above\n",
    "    return -np.mean(p*exercisePayoff + (1-p)*continuationPayoff)\n",
    "\n",
    "## You fill in, what to return.  It should be the negative of the expression inside the max() on the homework sheet.\n",
    "## Need to take the negative because we are calling \"minimize\" but we want to do _maximization_"
   ]
  },
  {
   "cell_type": "code",
   "execution_count": 9,
   "metadata": {
    "id": "dQwn3Yn44GBS"
   },
   "outputs": [
    {
     "data": {
      "text/plain": [
       "0.16210625617317392"
      ]
     },
     "execution_count": 9,
     "metadata": {},
     "output_type": "execute_result"
    }
   ],
   "source": [
    "hw7MC = MCengine(M=10000,N=4,seed=0,algorithm='value')\n",
    "hw7MC.price_americanPut_GBM(hw7contract,hw7dynamics)"
   ]
  },
  {
   "cell_type": "markdown",
   "metadata": {},
   "source": [
    "## (b)"
   ]
  },
  {
   "cell_type": "code",
   "execution_count": 10,
   "metadata": {
    "id": "lNwP7DMR6hU4"
   },
   "outputs": [
    {
     "name": "stderr",
     "output_type": "stream",
     "text": [
      "/var/folders/x9/dklkzy9s3rj0cq0ryk2h2zcc0000gn/T/ipykernel_41604/3835755103.py:7: RuntimeWarning: overflow encountered in exp\n",
      "  return 1/(1+np.exp(-b*(X-a)))\n"
     ]
    },
    {
     "data": {
      "text/plain": [
       "0.16263529459015832"
      ]
     },
     "execution_count": 10,
     "metadata": {},
     "output_type": "execute_result"
    }
   ],
   "source": [
    "hw7MC = MCengine(M=10000,N=4,seed=0,algorithm='policy')\n",
    "hw7MC.price_americanPut_GBM(hw7contract,hw7dynamics)"
   ]
  },
  {
   "cell_type": "markdown",
   "metadata": {},
   "source": [
    "# Question 2"
   ]
  },
  {
   "cell_type": "code",
   "execution_count": 11,
   "metadata": {},
   "outputs": [],
   "source": [
    "import numpy as np\n",
    "from scipy.stats import norm\n",
    "from copy import copy"
   ]
  },
  {
   "cell_type": "code",
   "execution_count": 12,
   "metadata": {},
   "outputs": [],
   "source": [
    "class GBM:\n",
    "\n",
    "    def __init__(self,sigma,r,drift,S_t,t):\n",
    "        self.sigma = sigma\n",
    "        self.r = r\n",
    "        self.drift = drift   #sometimes we denoted this as \"rGrow\"\n",
    "        self.S_t = S_t\n",
    "        self.t = t"
   ]
  },
  {
   "cell_type": "code",
   "execution_count": 13,
   "metadata": {},
   "outputs": [],
   "source": [
    "class CallOption:\n",
    "\n",
    "    def __init__(self, K, T):\n",
    "        self.K = K\n",
    "        self.T = T"
   ]
  },
  {
   "cell_type": "code",
   "execution_count": 14,
   "metadata": {},
   "outputs": [],
   "source": [
    "class CallBinary:\n",
    "\n",
    "    def __init__(self, K, T):\n",
    "        self.K = K\n",
    "        self.T = T"
   ]
  },
  {
   "cell_type": "code",
   "execution_count": 15,
   "metadata": {},
   "outputs": [],
   "source": [
    "class EYcontract:\n",
    "\n",
    "    def __init__(self,threshold0,K_case1,K_case2lower,K_case2upper,T0,T1):\n",
    "        self.K_case1 = K_case1\n",
    "        self.K_case2lower = K_case2lower\n",
    "        self.K_case2upper = K_case2upper\n",
    "        self.threshold0 = threshold0\n",
    "        self.T0=T0\n",
    "        self.T1=T1"
   ]
  },
  {
   "cell_type": "code",
   "execution_count": 16,
   "metadata": {},
   "outputs": [],
   "source": [
    "class AnalyticEngine:\n",
    "\n",
    "    def __init__(self):\n",
    "        pass\n",
    "\n",
    "    def BSpriceCall(self, dynamics, contract):\n",
    "        timeRemaining = contract.T - dynamics.t\n",
    "        F = dynamics.S_t*np.exp(dynamics.drift*timeRemaining)\n",
    "        std = dynamics.sigma*np.sqrt(timeRemaining)\n",
    "        d1 = np.log(F/contract.K)/std+std/2\n",
    "        d2 = d1-std\n",
    "        return np.exp(-dynamics.r*timeRemaining)*(F*norm.cdf(d1)-contract.K*norm.cdf(d2))\n",
    "\n",
    "    def BSpriceCallBinary(self, dynamics, contract):\n",
    "        \n",
    "        #fill this in\n",
    "        timeRemaining = contract.T - dynamics.t\n",
    "        F = dynamics.S_t*np.exp(dynamics.drift*timeRemaining)\n",
    "        std = dynamics.sigma*np.sqrt(timeRemaining)\n",
    "        d1 = np.log(F/contract.K)/std+std/2\n",
    "        d2 = d1-std\n",
    "        \n",
    "        return np.exp(-dynamics.r*timeRemaining)*norm.cdf(d2)"
   ]
  },
  {
   "cell_type": "code",
   "execution_count": 17,
   "metadata": {},
   "outputs": [],
   "source": [
    "class MCengine:\n",
    "\n",
    "    def __init__(self, M, seed):\n",
    "        self.M = M                                  # How many simulations\n",
    "        self.rng = np.random.default_rng(seed=seed) # Seeding the random number generator with a specified number helps make the calculations reproducible\n",
    "\n",
    "    def price_EYcontract(self,contract,dynamics):\n",
    "       \n",
    "        timeUp = contract.T0 - dynamics.t\n",
    "        \n",
    "        S_T0 = dynamics.S_t * np.exp((dynamics.drift - (1/2)*dynamics.sigma**2)*timeUp + dynamics.sigma* np.sqrt(timeUp)*self.rng.standard_normal(self.M))\n",
    "\n",
    "        fs_results = []\n",
    "\n",
    "        for sim_s in S_T0:\n",
    "            dynamicsConditional = copy(dynamics)\n",
    "            # now we will consider T0 as time 0\n",
    "            # the starting price will be simulated T0 stock price\n",
    "            dynamicsConditional.t = contract.T0\n",
    "            dynamicsConditional.S_t = sim_s\n",
    "\n",
    "            if sim_s > contract.threshold0:\n",
    "                embeddedCallcase1 = CallOption(K=contract.K_case1, T=contract.T1)\n",
    "                conditional_payoff = AnalyticEngine().BSpriceCall(dynamicsConditional,embeddedCallcase1)\n",
    "            else:\n",
    "                embeddedCallcase2 = CallOption(K=contract.K_case2lower, T=contract.T1)\n",
    "                embeddedBinarycase2 = CallBinary(K=contract.K_case2upper, T=contract.T1)\n",
    "                # according to hint in class, it will be normal BS call - binary call with upper K\n",
    "                conditional_payoff = AnalyticEngine().BSpriceCall(dynamicsConditional,embeddedCallcase2) - AnalyticEngine().BSpriceCallBinary(dynamicsConditional, embeddedBinarycase2)\n",
    "            \n",
    "            fs_results.append(conditional_payoff)\n",
    "        \n",
    "        # get each simulated time 0 value\n",
    "        all_fs = np.exp(-dynamics.r * timeUp) * np.array(fs_results)\n",
    "        # take expected values as the average of above\n",
    "        price = np.mean(all_fs)\n",
    "        standard_error = np.std(all_fs, ddof=1)/np.sqrt(self.M)\n",
    "\n",
    "        return(price, standard_error)"
   ]
  },
  {
   "cell_type": "code",
   "execution_count": 18,
   "metadata": {},
   "outputs": [],
   "source": [
    "hw7p2contract=EYcontract(threshold0=12,K_case1=11,K_case2lower=10,K_case2upper=14,T0=0.5,T1=1.0)"
   ]
  },
  {
   "cell_type": "code",
   "execution_count": 19,
   "metadata": {},
   "outputs": [],
   "source": [
    "hw7p2dynamics=GBM(sigma=0.7,r=0.02,drift=0.02,S_t=10,t=0)"
   ]
  },
  {
   "cell_type": "code",
   "execution_count": 20,
   "metadata": {},
   "outputs": [
    {
     "name": "stdout",
     "output_type": "stream",
     "text": [
      "2.5452351389161993 0.011448028772557314\n"
     ]
    }
   ],
   "source": [
    "hw7p2MC=MCengine(M=100000,seed=0)\n",
    "(price, std_err) =  hw7p2MC.price_EYcontract(hw7p2contract,hw7p2dynamics)\n",
    "print(price,std_err)"
   ]
  },
  {
   "cell_type": "code",
   "execution_count": null,
   "metadata": {},
   "outputs": [],
   "source": []
  }
 ],
 "metadata": {
  "anaconda-cloud": {},
  "colab": {
   "provenance": []
  },
  "kernelspec": {
   "display_name": "Python 3 (ipykernel)",
   "language": "python",
   "name": "python3"
  },
  "language_info": {
   "codemirror_mode": {
    "name": "ipython",
    "version": 3
   },
   "file_extension": ".py",
   "mimetype": "text/x-python",
   "name": "python",
   "nbconvert_exporter": "python",
   "pygments_lexer": "ipython3",
   "version": "3.8.8"
  },
  "toc": {
   "base_numbering": 1,
   "nav_menu": {},
   "number_sections": true,
   "sideBar": true,
   "skip_h1_title": false,
   "title_cell": "Table of Contents",
   "title_sidebar": "Contents",
   "toc_cell": false,
   "toc_position": {},
   "toc_section_display": true,
   "toc_window_display": false
  }
 },
 "nbformat": 4,
 "nbformat_minor": 1
}
