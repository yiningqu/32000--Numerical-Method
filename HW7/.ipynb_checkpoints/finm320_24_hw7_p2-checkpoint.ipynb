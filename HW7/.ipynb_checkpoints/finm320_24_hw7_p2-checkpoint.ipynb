{
 "cells": [
  {
   "cell_type": "code",
   "execution_count": null,
   "metadata": {
    "id": "Dcd4oWAt46DD"
   },
   "outputs": [],
   "source": [
    "import numpy as np\n",
    "from scipy.stats import norm\n",
    "from copy import copy"
   ]
  },
  {
   "cell_type": "markdown",
   "metadata": {
    "id": "qGknbqw346DG"
   },
   "source": [
    "## Problem 2"
   ]
  },
  {
   "cell_type": "code",
   "execution_count": null,
   "metadata": {
    "id": "7Ij9oOIK46DH"
   },
   "outputs": [],
   "source": [
    "class GBM:\n",
    "\n",
    "    def __init__(self,sigma,r,drift,S_t,t):\n",
    "        self.sigma = sigma\n",
    "        self.r = r\n",
    "        self.drift = drift   #sometimes we denoted this as \"rGrow\"\n",
    "        self.S_t = S_t\n",
    "        self.t = t"
   ]
  },
  {
   "cell_type": "code",
   "execution_count": null,
   "metadata": {
    "id": "et82EvKlrd-9"
   },
   "outputs": [],
   "source": [
    "class CallOption:\n",
    "\n",
    "    def __init__(self, K, T):\n",
    "        self.K = K\n",
    "        self.T = T"
   ]
  },
  {
   "cell_type": "code",
   "execution_count": null,
   "metadata": {
    "id": "hO-jVk7gxXaw"
   },
   "outputs": [],
   "source": [
    "class CallBinary:\n",
    "\n",
    "    def __init__(self, K, T):\n",
    "        self.K = K\n",
    "        self.T = T"
   ]
  },
  {
   "cell_type": "code",
   "execution_count": null,
   "metadata": {
    "id": "YwUReruu46DH"
   },
   "outputs": [],
   "source": [
    "class EYcontract:\n",
    "\n",
    "    def __init__(self,threshold0,K_case1,K_case2lower,K_case2upper,T0,T1):\n",
    "        self.K_case1 = K_case1\n",
    "        self.K_case2lower = K_case2lower\n",
    "        self.K_case2upper = K_case2upper\n",
    "        self.threshold0 = threshold0\n",
    "        self.T0=T0\n",
    "        self.T1=T1"
   ]
  },
  {
   "cell_type": "code",
   "execution_count": null,
   "metadata": {
    "id": "f5AECa3vMDWm"
   },
   "outputs": [],
   "source": [
    "class AnalyticEngine:\n",
    "\n",
    "    def __init__(self):\n",
    "        pass\n",
    "\n",
    "    def BSpriceCall(self, dynamics, contract):\n",
    "        timeRemaining = contract.T - dynamics.t\n",
    "        F = dynamics.S_t*np.exp(dynamics.drift*timeRemaining)\n",
    "        std = dynamics.sigma*np.sqrt(timeRemaining)\n",
    "        d1 = np.log(F/contract.K)/std+std/2\n",
    "        d2 = d1-std\n",
    "        return np.exp(-dynamics.r*timeRemaining)*(F*norm.cdf(d1)-contract.K*norm.cdf(d2))\n",
    "\n",
    "    def BSpriceCallBinary(self, dynamics, contract):\n",
    "        #fill this in"
   ]
  },
  {
   "cell_type": "code",
   "execution_count": null,
   "metadata": {
    "id": "XkV2FaBs46DH"
   },
   "outputs": [],
   "source": [
    "class MCengine:\n",
    "\n",
    "    def __init__(self, M, seed):\n",
    "        self.M = M                                  # How many simulations\n",
    "        self.rng = np.random.default_rng(seed=seed) # Seeding the random number generator with a specified number helps make the calculations reproducible\n",
    "\n",
    "    def price_EYcontract(self,contract,dynamics):\n",
    "\n",
    "        # You complete the coding of this function using conditional Monte Carlo\n",
    "        # Lines of the following form may be useful, somewhere in your code\n",
    "            embeddedCallcase1 = CallOption(K=contract.K_case1, T=contract.T1)\n",
    "            embeddedCallcase2 = CallOption(K=contract.K_case2lower, T=contract.T1)\n",
    "            embeddedBinarycase2 = CallBinary(K=contract.K_case2upper, T=contract.T1)\n",
    "            dynamicsConditional = copy(dynamics)\n",
    "            dynamicsConditional.t = contract.T0\n",
    "\n",
    "            dynamicsConditional.S_t =               # Fill this in\n",
    "            this_is_an_intermediate_step_not_the_final_answer = AnalyticEngine().BSpriceCall(dynamicsConditional,embeddedCallcase1)\n",
    "\n",
    "        #fill in more lines\n",
    "\n",
    "        return(price, standard_error)\n"
   ]
  },
  {
   "cell_type": "code",
   "execution_count": null,
   "metadata": {
    "id": "s-s2e_F246DH"
   },
   "outputs": [],
   "source": [
    "hw7p2contract=EYcontract(threshold0=12,K_case1=11,K_case2lower=10,K_case2upper=14,T0=0.5,T1=1.0)"
   ]
  },
  {
   "cell_type": "code",
   "execution_count": null,
   "metadata": {
    "id": "sJlC7Oer46DH"
   },
   "outputs": [],
   "source": [
    "hw7p2dynamics=GBM(sigma=0.7,r=0.02,drift=0.02,S_t=10,t=0)"
   ]
  },
  {
   "cell_type": "code",
   "execution_count": null,
   "metadata": {
    "id": "wjwZIDnU46DH"
   },
   "outputs": [],
   "source": [
    "hw7p2MC=MCengine(M=100000,seed=0)\n",
    "(price, std_err) =  hw7p2MC.price_EYcontract(hw7p2contract,hw7p2dynamics)\n",
    "print(price,std_err)"
   ]
  }
 ],
 "metadata": {
  "anaconda-cloud": {},
  "colab": {
   "provenance": []
  },
  "kernelspec": {
   "display_name": "Python 3 (ipykernel)",
   "language": "python",
   "name": "python3"
  },
  "language_info": {
   "codemirror_mode": {
    "name": "ipython",
    "version": 3
   },
   "file_extension": ".py",
   "mimetype": "text/x-python",
   "name": "python",
   "nbconvert_exporter": "python",
   "pygments_lexer": "ipython3",
   "version": "3.8.8"
  },
  "toc": {
   "base_numbering": 1,
   "nav_menu": {},
   "number_sections": true,
   "sideBar": true,
   "skip_h1_title": false,
   "title_cell": "Table of Contents",
   "title_sidebar": "Contents",
   "toc_cell": false,
   "toc_position": {},
   "toc_section_display": true,
   "toc_window_display": false
  }
 },
 "nbformat": 4,
 "nbformat_minor": 1
}
