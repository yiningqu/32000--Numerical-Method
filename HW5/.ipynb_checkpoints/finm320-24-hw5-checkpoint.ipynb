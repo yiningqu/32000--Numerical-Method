{
 "cells": [
  {
   "cell_type": "markdown",
   "metadata": {
    "id": "E0WlTWDdBvnG"
   },
   "source": [
    "# Problem 1\n",
    "\n",
    "## (a)"
   ]
  },
  {
   "cell_type": "code",
   "execution_count": null,
   "metadata": {},
   "outputs": [],
   "source": [
    "import numpy as np"
   ]
  },
  {
   "cell_type": "code",
   "execution_count": null,
   "metadata": {
    "id": "Ft75a8kKBvnI"
   },
   "outputs": [],
   "source": [
    "# Exponential Ornstein-Uhlenbeck process\n",
    "\n",
    "class XOU:\n",
    "\n",
    "    def __init__(self, kappa, alpha, sigma, S0, r):\n",
    "\n",
    "        self.kappa = kappa\n",
    "        self.alpha = alpha\n",
    "        self.sigma = sigma\n",
    "        self.S0 = S0\n",
    "        self.r = r"
   ]
  },
  {
   "cell_type": "code",
   "execution_count": null,
   "metadata": {
    "id": "IcEYQHQ0BvnJ"
   },
   "outputs": [],
   "source": [
    "hw5dynamics=XOU(kappa = 0.472, alpha = 4.4, sigma = 0.368, S0 = 106.9, r = 0.05)"
   ]
  },
  {
   "cell_type": "code",
   "execution_count": null,
   "metadata": {
    "id": "5LmdWqdCBvnK"
   },
   "outputs": [],
   "source": [
    "class CallOnForwardPrice:\n",
    "\n",
    "    def __init__(self, K1, T1, T2):\n",
    "\n",
    "        self.K1 = K1\n",
    "        self.T1 = T1\n",
    "        self.T2 = T2\n"
   ]
  },
  {
   "cell_type": "code",
   "execution_count": null,
   "metadata": {
    "id": "RsteLMcfBvnK"
   },
   "outputs": [],
   "source": [
    "hw5contract=CallOnForwardPrice(K1 = 103.2, T1 = 0.5, T2 = 0.75)"
   ]
  },
  {
   "cell_type": "code",
   "execution_count": null,
   "metadata": {
    "id": "edbQw63pBvnK"
   },
   "outputs": [],
   "source": [
    "class MCengine:\n",
    "\n",
    "    def __init__(self, N, M, epsilon, seed):\n",
    "\n",
    "        self.N = N   # Number of timesteps on each path\n",
    "        self.M = M   # Number of paths\n",
    "        self.epsilon = epsilon  # For the dC/dS calculation\n",
    "        self.rng = np.random.default_rng(seed=seed) # Seeding the random number generator with a specified number helps make the calculations reproducible\n",
    "\n",
    "    def price_call_XOU(self, contract, dynamics):\n",
    "\n",
    "        # You complete the coding of this function\n",
    "        # self.rng.normal() generates pseudo-random normals\n",
    "\n",
    "        return(call_price, standard_error, call_delta)\n"
   ]
  },
  {
   "cell_type": "code",
   "execution_count": null,
   "metadata": {
    "id": "AkFjvy7EBvnL"
   },
   "outputs": [],
   "source": [
    "hw5MC = MCengine(N=100, M=1000, epsilon=0.01, seed=0)\n",
    "# Change M if necessary"
   ]
  },
  {
   "cell_type": "code",
   "execution_count": null,
   "metadata": {
    "id": "Qy5j1gHeBvnL"
   },
   "outputs": [],
   "source": [
    "(call_price, standard_error, call_delta) = hw5MC.price_call_XOU(hw5contract,hw5dynamics)"
   ]
  },
  {
   "cell_type": "code",
   "execution_count": null,
   "metadata": {
    "id": "GSh_9GfbBvnL"
   },
   "outputs": [],
   "source": [
    "print(call_price, standard_error, call_delta)"
   ]
  }
 ],
 "metadata": {
  "anaconda-cloud": {},
  "colab": {
   "provenance": []
  },
  "kernelspec": {
   "display_name": "Python 3 (ipykernel)",
   "language": "python",
   "name": "python3"
  },
  "language_info": {
   "codemirror_mode": {
    "name": "ipython",
    "version": 3
   },
   "file_extension": ".py",
   "mimetype": "text/x-python",
   "name": "python",
   "nbconvert_exporter": "python",
   "pygments_lexer": "ipython3",
   "version": "3.8.8"
  },
  "toc": {
   "base_numbering": 1,
   "nav_menu": {},
   "number_sections": true,
   "sideBar": true,
   "skip_h1_title": false,
   "title_cell": "Table of Contents",
   "title_sidebar": "Contents",
   "toc_cell": false,
   "toc_position": {},
   "toc_section_display": true,
   "toc_window_display": false
  }
 },
 "nbformat": 4,
 "nbformat_minor": 1
}
