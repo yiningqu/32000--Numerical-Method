{
 "cells": [
  {
   "cell_type": "markdown",
   "metadata": {
    "id": "E0WlTWDdBvnG"
   },
   "source": [
    "# Problem 1\n",
    "\n",
    "## (a)"
   ]
  },
  {
   "cell_type": "markdown",
   "metadata": {},
   "source": [
    "The  overall portfolio value at time $T_2$ is:\n",
    "\n",
    "$$Payoff = (S_{T_2} - K) - (S_{T_2} - F_t) = F_t - K$$\n",
    "\n",
    "This payoff is determined at $T_2$ but since it's not dependent on $S_{T_2}$, its present value at time t is simply its discounted value:\n",
    "\n",
    "$$f_t = e^{-r(T_2 - t)}(F_t - K)$$\n",
    "\n",
    "## (b)\n",
    "\n",
    "\n",
    "When the underlying asset is crude oil, the physical holder incurs storage fees, unlike a non-dividend stock that requires no extra storage cost. The holder may not be willing to accept $F_t$ alone on the delivery date due to these costs.\n",
    "\n",
    "- If $S$ is a stock paying no dividends, the forward price is $F_t = S_t e^{r(T_2 - t)}$, avoiding arbitrage.\n",
    "- For $S$ as the spot price of crude oil, additional costs like storage and transportation arise.\n",
    "- The price to cover becomes $\\left(S_t e^{r(T_2 - t)} + \\text{Storage Cost}\\right)$. The forward price $F_t$ may not cover this, leading to potential arbitrage, as illustrated when $F_t > \\left(S_t e^{r(T_2 - t)} + \\text{Storage Cost}\\right).$\n",
    "\n"
   ]
  },
  {
   "cell_type": "code",
   "execution_count": 1,
   "metadata": {},
   "outputs": [],
   "source": [
    "import numpy as np"
   ]
  },
  {
   "cell_type": "code",
   "execution_count": 2,
   "metadata": {
    "id": "Ft75a8kKBvnI"
   },
   "outputs": [],
   "source": [
    "# Exponential Ornstein-Uhlenbeck process\n",
    "\n",
    "class XOU:\n",
    "\n",
    "    def __init__(self, kappa, alpha, sigma, S0, r):\n",
    "\n",
    "        self.kappa = kappa\n",
    "        self.alpha = alpha\n",
    "        self.sigma = sigma\n",
    "        self.S0 = S0\n",
    "        self.r = r"
   ]
  },
  {
   "cell_type": "code",
   "execution_count": 3,
   "metadata": {
    "id": "IcEYQHQ0BvnJ"
   },
   "outputs": [],
   "source": [
    "hw5dynamics=XOU(kappa = 0.472, alpha = 4.4, sigma = 0.368, S0 = 106.9, r = 0.05)"
   ]
  },
  {
   "cell_type": "code",
   "execution_count": 4,
   "metadata": {
    "id": "5LmdWqdCBvnK"
   },
   "outputs": [],
   "source": [
    "class CallOnForwardPrice:\n",
    "\n",
    "    def __init__(self, K1, T1, T2):\n",
    "\n",
    "        self.K1 = K1\n",
    "        self.T1 = T1\n",
    "        self.T2 = T2\n"
   ]
  },
  {
   "cell_type": "code",
   "execution_count": 5,
   "metadata": {
    "id": "RsteLMcfBvnK"
   },
   "outputs": [],
   "source": [
    "hw5contract=CallOnForwardPrice(K1 = 103.2, T1 = 0.5, T2 = 0.75)"
   ]
  },
  {
   "cell_type": "code",
   "execution_count": 6,
   "metadata": {
    "id": "edbQw63pBvnK"
   },
   "outputs": [],
   "source": [
    "class MCengine:\n",
    "\n",
    "    def __init__(self, N, M, epsilon, seed):\n",
    "\n",
    "        self.N = N   # Number of timesteps on each path\n",
    "        self.M = M   # Number of paths\n",
    "        self.epsilon = epsilon  # For the dC/dS calculation\n",
    "        self.rng = np.random.default_rng(seed=seed) # Seeding the random number generator with a specified number helps make the calculations reproducible\n",
    "\n",
    "    def price_call_XOU(self, contract, dynamics):\n",
    "\n",
    "        # You complete the coding of this function\n",
    "        \n",
    "        # self.rng.normal() generates pseudo-random normals\n",
    "        K1 = contract.K1\n",
    "        T1 = contract.T1\n",
    "        T2 = contract.T2\n",
    "        kappa = dynamics.kappa\n",
    "        alpha = dynamics.alpha\n",
    "        sigma = dynamics.sigma\n",
    "        S0 = dynamics.S0\n",
    "        r = dynamics.r\n",
    "        N = self.N\n",
    "        M = self.M\n",
    "        epsilon = self.epsilon\n",
    "\n",
    "        delta_t = T1 / N\n",
    "        sigma_p = sigma*np.sqrt(delta_t)\n",
    "        \n",
    "        X = np.zeros((M, N+1))\n",
    "        X[:,0] = np.ones(M) * np.log(S0)\n",
    "        X_delta = np.zeros((M, N+1))\n",
    "        X_delta[:,0] = np.ones(M) * np.log(S0+epsilon)\n",
    "\n",
    "        # Walk through the Monte Carlo\n",
    "        for i in range(N):\n",
    "            dW = np.random.randn(M)\n",
    "            X_t = X[:, i]\n",
    "            X[:, i+1] = X_t + kappa*(alpha - X_t)* delta_t + sigma_p * dW\n",
    "            X_delta_t = X_delta[:, i]\n",
    "            X_delta[:, i+1] = X_delta_t + kappa*(alpha - X_delta_t) * delta_t + sigma_p * dW\n",
    "        \n",
    "        t = np.linspace(0, T1, N+1)\n",
    "        \n",
    "        F = np.exp(np.exp(-kappa*(T2 - t))* X + (1-np.exp(-kappa*(T2 - t)))*alpha + sigma**2/(4*kappa)*(1-np.exp(-2*kappa*(T2 - t))))\n",
    "        F_delta = np.exp(np.exp(-kappa*(T2 - t))* X_delta + (1-np.exp(-kappa*(T2 - t)))*alpha + sigma**2/(4*kappa)*(1-np.exp(-2*kappa*(T2 - t))))\n",
    "        \n",
    "        # compute the current price of call payoff\n",
    "        call_value = np.exp(-r*T1) * np.maximum(F[:,-1] - K1, 0)\n",
    "        call_delta_value = np.exp(-r*T1) * np.maximum(F_delta[:,-1] - K1, 0)\n",
    "\n",
    "        # get the call price\n",
    "        call_price = np.mean(call_value)\n",
    "        call_delta_price = np.mean(call_delta_value)\n",
    "        \n",
    "        # sample standard deviation devide by sqrt of number of path\n",
    "        standard_error = np.std(call_value, ddof = 1)/np.sqrt(M)\n",
    "        \n",
    "        # check if the number of path is large enough\n",
    "        print(f'se is valid: {standard_error <= 0.05}, as {standard_error}')\n",
    "\n",
    "        call_delta = (call_delta_price - call_price)/epsilon\n",
    "\n",
    "        return(call_price, standard_error, call_delta)"
   ]
  },
  {
   "cell_type": "code",
   "execution_count": 7,
   "metadata": {
    "id": "AkFjvy7EBvnL"
   },
   "outputs": [],
   "source": [
    "hw5MC = MCengine(N=100, M=90000, epsilon=0.01, seed=0)\n",
    "# Change M if necessary"
   ]
  },
  {
   "cell_type": "code",
   "execution_count": 8,
   "metadata": {
    "id": "Qy5j1gHeBvnL"
   },
   "outputs": [
    {
     "name": "stdout",
     "output_type": "stream",
     "text": [
      "se is valid: True, as 0.04412803128475711\n"
     ]
    }
   ],
   "source": [
    "(call_price, standard_error, call_delta) = hw5MC.price_call_XOU(hw5contract,hw5dynamics)"
   ]
  },
  {
   "cell_type": "code",
   "execution_count": 9,
   "metadata": {
    "id": "GSh_9GfbBvnL"
   },
   "outputs": [
    {
     "name": "stdout",
     "output_type": "stream",
     "text": [
      "7.663852001148125 0.04412803128475711 0.3392131556547717\n"
     ]
    }
   ],
   "source": [
    "print(call_price, standard_error, call_delta)"
   ]
  },
  {
   "cell_type": "markdown",
   "metadata": {},
   "source": [
    "## (e)\n",
    "\n",
    "$$ F_0 = \\exp\\left[ e^{-\\kappa T_2} \\log S_0 + \\left(1 - e^{-\\kappa T_2}\\right)\\alpha + \\frac{\\sigma^2}{4\\kappa}\\left(1 - e^{-2\\kappa T_2}\\right)\\right]. $$\n",
    "\n",
    "\n",
    "$$ \\frac{\\partial F_0}{\\partial S_0} = \\exp\\left[ e^{-\\kappa T_2} \\log S_0 + \\text{const}\\right] \\cdot e^{-\\kappa T_2} \\frac{1}{S_0} $$\n",
    "$$ = F_0 \\cdot e^{-\\kappa T_2} \\frac{1}{S_0} $$\n",
    "\n",
    "By this discount factor, we have:\n",
    "$$ \\frac{\\partial f_0}{\\partial S} = e^{-rT_2} \\cdot \\frac{\\partial F_0}{\\partial S_0} $$\n",
    "$$ = e^{-rT_2} \\cdot F_0 \\cdot e^{-\\kappa T_2} \\frac{1}{S_0} = 0.64651. $$"
   ]
  },
  {
   "cell_type": "code",
   "execution_count": 10,
   "metadata": {},
   "outputs": [
    {
     "name": "stdout",
     "output_type": "stream",
     "text": [
      "The partial deviative of f0 w.r.t S will be 0.64651.\n"
     ]
    }
   ],
   "source": [
    "# Numerically\n",
    "kappa = 0.472\n",
    "alpha = 4.4\n",
    "sigma = 0.368\n",
    "r = 0.05\n",
    "S0 = 106.9\n",
    "T2 = 0.75\n",
    "\n",
    "F0 = np.exp(np.exp(-hw5dynamics.kappa * hw5contract.T2) * np.log(hw5dynamics.S0) + (1 - np.exp(-hw5dynamics.kappa * hw5contract.T2)) * hw5dynamics.alpha + ((hw5dynamics.sigma**2)/(4*hw5dynamics.kappa)) * (1 - np.exp(-2*hw5dynamics.kappa*hw5contract.T2)))\n",
    "\n",
    "delta_1e = np.exp(-hw5dynamics.r*hw5contract.T2)*F0*np.exp(-hw5dynamics.kappa*hw5contract.T2)*(1/hw5dynamics.S0)\n",
    "print(f'The partial deviative of f0 w.r.t S will be {delta_1e:.5f}.')"
   ]
  },
  {
   "cell_type": "markdown",
   "metadata": {},
   "source": [
    "## (f)\n",
    "\n",
    "We want this portfolio to be delta hedges. \n",
    "\n",
    "$\\frac{\\partial{C_0}}{\\partial{S}}$ by question 1(d).\n",
    "$\\frac{\\partial{f_0}}{\\partial{S}}$ by question 1(e).\n",
    "\n",
    "Therefore,\n",
    "$$\\Delta = \\frac{\\frac{\\partial{C_0}}{\\partial{S}}}{\\frac{\\partial{f_0}}{\\partial{S}}}$$\n"
   ]
  },
  {
   "cell_type": "code",
   "execution_count": 11,
   "metadata": {},
   "outputs": [
    {
     "name": "stdout",
     "output_type": "stream",
     "text": [
      "The hedge portfolio at time 0 should be long 0.52468 forward contracts\n"
     ]
    }
   ],
   "source": [
    "delta_1f = call_delta/delta_1e\n",
    "print(f'The hedge portfolio at time 0 should be long {delta_1f:.5f} forward contracts')\n"
   ]
  },
  {
   "cell_type": "markdown",
   "metadata": {},
   "source": [
    "## (g)\n",
    "\n",
    "For the purchase agreement contract, at time T2, the value of the portfolio should be:\n",
    "$V_{T_2}=\\theta(F_{T_2} - K) + (\\theta_{max} - \\theta)(F_{T_1}−K)^+$, the second part represents the opportunity cost for not choosing the maximum number of units of crude oil at T1. \n",
    "\n",
    "If we discount back to time-0, it becomes $\\theta f_0 + (\\theta_{max} - \\theta)C(S_0)$, which is the answer from question 1(c); therefore, we can compute the time-0 purchase agreement as below.\n",
    "\n",
    "Since holder will act optimally, so the theta value should be 4000. \n",
    "\n",
    "From question 1(e), we can get the formula to compute for F0 and f0, so the formula and calculation should be:"
   ]
  },
  {
   "cell_type": "code",
   "execution_count": 12,
   "metadata": {},
   "outputs": [
    {
     "name": "stdout",
     "output_type": "stream",
     "text": [
      "The time-0 value of this contract is 3928.01485\n"
     ]
    }
   ],
   "source": [
    "T1 = 0.5\n",
    "K = 103.2\n",
    "F0 = S0**(np.exp(-kappa*T2))*np.exp((1-np.exp(-kappa*T2))*alpha+sigma**2/(4*kappa)*(1-np.exp(-2*kappa*T2)))\n",
    "f0 = np.exp(-r*T2)*(F0 - K)\n",
    "theta = 4000\n",
    "max_theta = 5000\n",
    "\n",
    "pa = theta * f0 + (max_theta - theta) * call_price\n",
    "print(f'The time-0 value of this contract is {pa:.5f}')"
   ]
  },
  {
   "cell_type": "markdown",
   "metadata": {},
   "source": [
    "# Problem 2\n",
    "\n",
    "\n",
    "## (a)\n",
    "\n",
    "By lecture note:\n",
    "\n",
    "$$\\sigma_{imp}=\\bar{\\sigma_t}=\\sqrt{\\frac{1}{T}\\int_0^T\\sigma^2(t)dt},$$\n",
    "which is related to $T$ but not $K$.\n",
    "\n",
    "Therefore, the dynamics can produce a non-constant term structure of implied volatility but not an implied volatility skew.\n",
    "\n",
    "1. **Term-Structure of Implied Volatility**:\n",
    "   The specified dynamics are capable of generating a non-constant term-structure of implied volatility, because the volatility function $\\sigma(t)$ depends on time $t$. This allows the model to adapt different volatilities at different times, leading to a term-structure where implied volatility changes over different expiration times.\n",
    "\n",
    "2. **Implied Volatility Skew**:\n",
    "   Since $\\sigma(t)$ does not depend on the stock price $S$, this model does not naturally produce an implied volatility skew with respect to the strike price $K$. The model's volatility is uniform across different strike prices at any given time because it does not incorporate factors like leverage or the stochastic nature of volatility, which are typically needed to model skew.\n",
    "\n",
    "## (b) "
   ]
  },
  {
   "cell_type": "code",
   "execution_count": 13,
   "metadata": {},
   "outputs": [
    {
     "name": "stderr",
     "output_type": "stream",
     "text": [
      "/opt/anaconda3/lib/python3.8/site-packages/scipy/__init__.py:146: UserWarning: A NumPy version >=1.16.5 and <1.23.0 is required for this version of SciPy (detected version 1.24.4\n",
      "  warnings.warn(f\"A NumPy version >={np_minversion} and <{np_maxversion}\"\n"
     ]
    }
   ],
   "source": [
    "import numpy as no\n",
    "from scipy.stats import norm\n",
    "from scipy.optimize import brentq"
   ]
  },
  {
   "cell_type": "code",
   "execution_count": 14,
   "metadata": {},
   "outputs": [],
   "source": [
    "class GBMdynamics:\n",
    "\n",
    "    def __init__(self, S, r, rGrow, sigma=None):\n",
    "        self.S = S\n",
    "        self.r = r\n",
    "        self.rGrow = rGrow\n",
    "        self.sigma = sigma\n",
    "\n",
    "    def update_sigma(self, sigma):\n",
    "        self.sigma = sigma\n",
    "        return self"
   ]
  },
  {
   "cell_type": "code",
   "execution_count": 15,
   "metadata": {},
   "outputs": [],
   "source": [
    "class CallOption:\n",
    "    \n",
    "    def __init__(self, K, T, price=None):\n",
    "        self.K = K\n",
    "        self.T = T\n",
    "        self.price = price\n",
    "\n",
    "    def BSprice(self, dynamics):\n",
    "        # ignores self.price if given, because this function calculates price based on the dynamics \n",
    "        \n",
    "        F = dynamics.S*np.exp(dynamics.rGrow*self.T)\n",
    "        sd = dynamics.sigma*np.sqrt(self.T)\n",
    "        d1 = np.log(F/self.K)/sd+sd/2\n",
    "        d2 = d1-sd\n",
    "        return np.exp(-dynamics.r*self.T)*(F*norm.cdf(d1)-self.K*norm.cdf(d2))\n",
    "    \n",
    "    def trysigma(self, inputsigma, dynamics, targetprice):\n",
    "        dynamics.sigma = inputsigma\n",
    "        return self.BSprice(dynamics) - targetprice\n",
    "\n",
    "    \n",
    "    def IV(self, dynamics):\n",
    "        # ignores dynamics.sigma, because this function solves for sigma.  \n",
    "        \n",
    "        if self.price is None: \n",
    "            raise ValueError('Contract price must be given')\n",
    "    \n",
    "        df = np.exp(-dynamics.r*self.T)  #discount factor\n",
    "        F = dynamics.S / df\n",
    "        lowerbound = np.max([0,(F-self.K)*df])\n",
    "        C = self.price\n",
    "        if C<lowerbound:\n",
    "            return np.nan\n",
    "        if C==lowerbound:\n",
    "            return 0\n",
    "        if C>=F*df:\n",
    "            return np.nan \n",
    "\n",
    "        dytry = dynamics\n",
    "        # We \"try\" values of sigma until we find sigma that generates price C\n",
    "\n",
    "        # First find lower and upper bounds\n",
    "        dytry.sigma = 0.2\n",
    "        while self.BSprice(dytry)>C:\n",
    "            dytry.sigma /= 2\n",
    "        while self.BSprice(dytry)<C:\n",
    "            dytry.sigma *= 2\n",
    "        hi = dytry.sigma\n",
    "        lo = hi/2\n",
    "\n",
    "        impliedVolatility = brentq(self.trysigma, hi, lo, args=(dynamics, self.price), maxiter=1000)\n",
    "        return impliedVolatility"
   ]
  },
  {
   "cell_type": "code",
   "execution_count": 16,
   "metadata": {},
   "outputs": [
    {
     "data": {
      "text/plain": [
       "0.397320385795576"
      ]
     },
     "execution_count": 16,
     "metadata": {},
     "output_type": "execute_result"
    }
   ],
   "source": [
    "# first IV\n",
    "dynamics = GBMdynamics(S=100, r=0.05, rGrow=0.05)\n",
    "contract1 = CallOption(K=100, T=0.1, price=5.25)\n",
    "imp_vol_1 = contract1.IV(dynamics)\n",
    "imp_vol_1"
   ]
  },
  {
   "cell_type": "code",
   "execution_count": 17,
   "metadata": {},
   "outputs": [
    {
     "data": {
      "text/plain": [
       "0.380171291551054"
      ]
     },
     "execution_count": 17,
     "metadata": {},
     "output_type": "execute_result"
    }
   ],
   "source": [
    "# second IV\n",
    "contract2 = CallOption(K=100, T=0.2, price=7.25)\n",
    "imp_vol_2 = contract2.IV(dynamics)\n",
    "imp_vol_2"
   ]
  },
  {
   "cell_type": "code",
   "execution_count": 18,
   "metadata": {},
   "outputs": [
    {
     "data": {
      "text/plain": [
       "0.2950972521756794"
      ]
     },
     "execution_count": 18,
     "metadata": {},
     "output_type": "execute_result"
    }
   ],
   "source": [
    "# thrid IV\n",
    "contract3 = CallOption(K=100, T=0.5, price=9.5)\n",
    "imp_vol_3 = contract3.IV(dynamics)\n",
    "imp_vol_3"
   ]
  },
  {
   "cell_type": "markdown",
   "metadata": {},
   "source": [
    "There is \n",
    "$\\bar{\\sigma}_T=\\sqrt{\\frac{1}{T}\\int_0^T\\sigma^2(t)dt}$.\n",
    "\n",
    "Therefore, we can obtain the time-varying function:\n",
    "\n",
    "$$\\sigma(t)=\\begin{cases} \n",
    "      \\bar\\sigma_{0.1} & 0 \\leq t\\leq 0.1 \\\\\n",
    "      \\sqrt{2\\bar\\sigma_{0.2}^2-\\bar\\sigma_{0.1}^2} & 0.1 < t \\leq 0.2\\\\\n",
    "      \\sqrt{\\frac{5}{3} \\bar{\\sigma}_{0.5}^2 - \\frac{2}{3}\\bar{\\sigma}_{0.2}^2} & 0.2 < t \\leq 0.5\n",
    "\\end{cases}$$\n"
   ]
  },
  {
   "cell_type": "markdown",
   "metadata": {},
   "source": [
    "## (c)\n",
    "\n",
    "$\\bar\\sigma_{0.4}=\\sqrt{\\frac{1}{0.4}\\int_0^{0.4}\\sigma^2(t)dt}$\n",
    "\n",
    "$=\\sqrt{\\frac{1}{0.4}*(0.1\\bar\\sigma_1^2+0.1(2\\bar\\sigma_2^2-\\bar\\sigma_1^2)+0.2(\\frac{1}{3}(5\\bar\\sigma_3^2-2\\bar\\sigma_2^2))}$\n",
    "\n",
    "$=\\sqrt{\\frac{5}{6}\\bar\\sigma_3^2+\\frac{1}{6}\\bar\\sigma^2_2}$"
   ]
  },
  {
   "cell_type": "code",
   "execution_count": 19,
   "metadata": {},
   "outputs": [
    {
     "data": {
      "text/plain": [
       "0.31089712985910606"
      ]
     },
     "execution_count": 19,
     "metadata": {},
     "output_type": "execute_result"
    }
   ],
   "source": [
    "#IV\n",
    "implied_vol_4 = np.sqrt(5/6*imp_vol_3**2 + 1/6*imp_vol_2**2)\n",
    "implied_vol_4"
   ]
  },
  {
   "cell_type": "code",
   "execution_count": 20,
   "metadata": {},
   "outputs": [],
   "source": [
    "def bs_call_formula(X, t, K, T, rGrow, r, sigma):\n",
    "    F = X*np.exp(rGrow*(T-t))\n",
    "    d1 = np.log(F/K)/(sigma*np.sqrt(T-t)) + sigma*np.sqrt(T-t)/2\n",
    "    d2 = np.log(F/K)/(sigma*np.sqrt(T-t)) - sigma*np.sqrt(T-t)/2\n",
    "    call_price = np.exp(-r*(T-t))*(F*norm.cdf(d1) - K*norm.cdf(d2))\n",
    "    return call_price"
   ]
  },
  {
   "cell_type": "code",
   "execution_count": 21,
   "metadata": {},
   "outputs": [
    {
     "data": {
      "text/plain": [
       "8.784201775930828"
      ]
     },
     "execution_count": 21,
     "metadata": {},
     "output_type": "execute_result"
    }
   ],
   "source": [
    "#call price\n",
    "bs_call = bs_call_formula(X = 100, t = 0, K = 100, T = 0.4, rGrow = 0.05, r = 0.05, sigma = implied_vol_4)\n",
    "bs_call"
   ]
  }
 ],
 "metadata": {
  "anaconda-cloud": {},
  "colab": {
   "provenance": []
  },
  "kernelspec": {
   "display_name": "Python 3 (ipykernel)",
   "language": "python",
   "name": "python3"
  },
  "language_info": {
   "codemirror_mode": {
    "name": "ipython",
    "version": 3
   },
   "file_extension": ".py",
   "mimetype": "text/x-python",
   "name": "python",
   "nbconvert_exporter": "python",
   "pygments_lexer": "ipython3",
   "version": "3.8.8"
  },
  "toc": {
   "base_numbering": 1,
   "nav_menu": {},
   "number_sections": true,
   "sideBar": true,
   "skip_h1_title": false,
   "title_cell": "Table of Contents",
   "title_sidebar": "Contents",
   "toc_cell": false,
   "toc_position": {},
   "toc_section_display": true,
   "toc_window_display": false
  }
 },
 "nbformat": 4,
 "nbformat_minor": 1
}
