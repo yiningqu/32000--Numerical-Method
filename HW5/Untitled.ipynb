{
 "cells": [
  {
   "cell_type": "code",
   "execution_count": 10,
   "id": "9e05c63f",
   "metadata": {},
   "outputs": [],
   "source": [
    "import numpy as np\n",
    "from scipy.stats import norm\n",
    "from scipy.optimize import brentq"
   ]
  },
  {
   "cell_type": "code",
   "execution_count": 11,
   "id": "ff681713",
   "metadata": {},
   "outputs": [],
   "source": [
    "class GBMdynamics:\n",
    "\n",
    "    def __init__(self, S, r, rGrow, sigma=None):\n",
    "        self.S = S\n",
    "        self.r = r\n",
    "        self.rGrow = rGrow\n",
    "        self.sigma = sigma\n",
    "\n",
    "    def update_sigma(self, sigma):\n",
    "        self.sigma = sigma\n",
    "        return self"
   ]
  },
  {
   "cell_type": "code",
   "execution_count": 12,
   "id": "8ba141f9",
   "metadata": {},
   "outputs": [],
   "source": [
    "class CallOption:\n",
    "    \n",
    "    def __init__(self, K, T, price=None):\n",
    "        self.K = K\n",
    "        self.T = T\n",
    "        self.price = price\n",
    "\n",
    "    def BSprice(self, dynamics):\n",
    "        # ignores self.price if given, because this function calculates price based on the dynamics \n",
    "        \n",
    "        F = dynamics.S*np.exp(dynamics.rGrow*self.T)\n",
    "        sd = dynamics.sigma*np.sqrt(self.T)\n",
    "        d1 = np.log(F/self.K)/sd+sd/2\n",
    "        d2 = d1-sd\n",
    "        return np.exp(-dynamics.r*self.T)*(F*norm.cdf(d1)-self.K*norm.cdf(d2))\n",
    "    \n",
    "    def trysigma(self, inputsigma, dynamics, targetprice):\n",
    "        dynamics.sigma = inputsigma\n",
    "        return self.BSprice(dynamics) - targetprice\n",
    "\n",
    "    \n",
    "    def IV(self, dynamics):\n",
    "        # ignores dynamics.sigma, because this function solves for sigma.  \n",
    "        \n",
    "        if self.price is None: \n",
    "            raise ValueError('Contract price must be given')\n",
    "    \n",
    "        df = np.exp(-dynamics.r*self.T)  #discount factor\n",
    "        F = dynamics.S / df\n",
    "        lowerbound = np.max([0,(F-self.K)*df])\n",
    "        C = self.price\n",
    "        if C<lowerbound:\n",
    "            return np.nan\n",
    "        if C==lowerbound:\n",
    "            return 0\n",
    "        if C>=F*df:\n",
    "            return np.nan \n",
    "\n",
    "        dytry = dynamics\n",
    "        # We \"try\" values of sigma until we find sigma that generates price C\n",
    "\n",
    "        # First find lower and upper bounds\n",
    "        dytry.sigma = 0.2\n",
    "        while self.BSprice(dytry)>C:\n",
    "            dytry.sigma /= 2\n",
    "        while self.BSprice(dytry)<C:\n",
    "            dytry.sigma *= 2\n",
    "        hi = dytry.sigma\n",
    "        lo = hi/2\n",
    "\n",
    "        impliedVolatility = brentq(self.trysigma, hi, lo, args=(dynamics, self.price), maxiter=1000)\n",
    "        return impliedVolatility"
   ]
  },
  {
   "cell_type": "code",
   "execution_count": 13,
   "id": "fdebc4ac",
   "metadata": {},
   "outputs": [
    {
     "data": {
      "text/plain": [
       "0.397320385795576"
      ]
     },
     "execution_count": 13,
     "metadata": {},
     "output_type": "execute_result"
    }
   ],
   "source": [
    "# first IV\n",
    "dynamics = GBMdynamics(S=100, r=0.05, rGrow=0.05)\n",
    "contract1 = CallOption(K=100, T=0.1, price=5.25)\n",
    "imp_vol_1 = contract1.IV(dynamics)\n",
    "imp_vol_1"
   ]
  },
  {
   "cell_type": "code",
   "execution_count": 14,
   "id": "267d9c24",
   "metadata": {},
   "outputs": [
    {
     "data": {
      "text/plain": [
       "0.380171291551054"
      ]
     },
     "execution_count": 14,
     "metadata": {},
     "output_type": "execute_result"
    }
   ],
   "source": [
    "# second IV\n",
    "contract2 = CallOption(K=100, T=0.2, price=7.25)\n",
    "imp_vol_2 = contract2.IV(dynamics)\n",
    "imp_vol_2"
   ]
  },
  {
   "cell_type": "code",
   "execution_count": 15,
   "id": "d3263776",
   "metadata": {},
   "outputs": [
    {
     "data": {
      "text/plain": [
       "0.2950972521756794"
      ]
     },
     "execution_count": 15,
     "metadata": {},
     "output_type": "execute_result"
    }
   ],
   "source": [
    "# thrid IV\n",
    "contract3 = CallOption(K=100, T=0.5, price=9.5)\n",
    "imp_vol_3 = contract3.IV(dynamics)\n",
    "imp_vol_3"
   ]
  },
  {
   "cell_type": "code",
   "execution_count": 16,
   "id": "315a3a20",
   "metadata": {},
   "outputs": [],
   "source": [
    "def bs_call_formula(X, t, K, T, rGrow, r, sigma):\n",
    "    F = X*np.exp(rGrow*(T-t))\n",
    "    d1 = np.log(F/K)/(sigma*np.sqrt(T-t)) + sigma*np.sqrt(T-t)/2\n",
    "    d2 = np.log(F/K)/(sigma*np.sqrt(T-t)) - sigma*np.sqrt(T-t)/2\n",
    "    call_price = np.exp(-r*(T-t))*(F*norm.cdf(d1) - K*norm.cdf(d2))\n",
    "    return call_price"
   ]
  },
  {
   "cell_type": "code",
   "execution_count": 18,
   "id": "151c5985",
   "metadata": {},
   "outputs": [
    {
     "data": {
      "text/plain": [
       "5.859175592360259"
      ]
     },
     "execution_count": 18,
     "metadata": {},
     "output_type": "execute_result"
    }
   ],
   "source": [
    "#call price\n",
    "bs_call = bs_call_formula(X = 100, t = 0, K = 100, T = 0.25, rGrow = 0, r = 0, sigma = 0.294)\n",
    "bs_call"
   ]
  },
  {
   "cell_type": "code",
   "execution_count": null,
   "id": "daa52676",
   "metadata": {},
   "outputs": [],
   "source": []
  }
 ],
 "metadata": {
  "kernelspec": {
   "display_name": "Python 3 (ipykernel)",
   "language": "python",
   "name": "python3"
  },
  "language_info": {
   "codemirror_mode": {
    "name": "ipython",
    "version": 3
   },
   "file_extension": ".py",
   "mimetype": "text/x-python",
   "name": "python",
   "nbconvert_exporter": "python",
   "pygments_lexer": "ipython3",
   "version": "3.8.8"
  }
 },
 "nbformat": 4,
 "nbformat_minor": 5
}
