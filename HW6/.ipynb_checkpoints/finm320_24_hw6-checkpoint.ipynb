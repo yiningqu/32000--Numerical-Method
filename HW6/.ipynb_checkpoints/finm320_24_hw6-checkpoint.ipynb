{
 "cells": [
  {
   "cell_type": "code",
   "execution_count": 2,
   "metadata": {
    "id": "Dcd4oWAt46DD"
   },
   "outputs": [
    {
     "name": "stderr",
     "output_type": "stream",
     "text": [
      "/opt/anaconda3/lib/python3.8/site-packages/scipy/__init__.py:146: UserWarning: A NumPy version >=1.16.5 and <1.23.0 is required for this version of SciPy (detected version 1.24.4\n",
      "  warnings.warn(f\"A NumPy version >={np_minversion} and <{np_maxversion}\"\n"
     ]
    }
   ],
   "source": [
    "import numpy as np\n",
    "from  sympy import Matrix\n",
    "from scipy.stats import norm"
   ]
  },
  {
   "cell_type": "markdown",
   "metadata": {
    "id": "Jeby0NCp46DE"
   },
   "source": [
    "## Problem 1\n",
    "\n",
    "### (a)\n",
    "\n",
    "$$\\begin{aligned}\n",
    "Cov(X_T)\n",
    "    &= \\mathbb{E} [\\Sigma W_T W_T^T \\Sigma^T]\\\\\n",
    "    &= \\Sigma Cov(W_T) \\Sigma^T\\\\\n",
    "    &= \\begin{bmatrix} 0.3 & 0 \\\\ 0 & 0.2 \\end{bmatrix} \\begin{bmatrix} 1T & 0.8T \\\\ 0.8T & 1T \\end{bmatrix} \\begin{bmatrix} 0.3 & 0 \\\\ 0 & 0.2 \\end{bmatrix} \\\\\n",
    "    &= \\begin{bmatrix} 0.09T & 0.048T \\\\ 0.048T & 0.04T \\end{bmatrix}\n",
    "\\end{aligned}$$"
   ]
  },
  {
   "cell_type": "code",
   "execution_count": 3,
   "metadata": {},
   "outputs": [
    {
     "data": {
      "text/latex": [
       "$\\displaystyle \\left[\\begin{matrix}0.09 & 0.048\\\\0.048 & 0.04\\end{matrix}\\right]$"
      ],
      "text/plain": [
       "Matrix([\n",
       "[ 0.09, 0.048],\n",
       "[0.048,  0.04]])"
      ]
     },
     "execution_count": 3,
     "metadata": {},
     "output_type": "execute_result"
    }
   ],
   "source": [
    "vol1 = 0.3\n",
    "vol2 = 0.2\n",
    "corr = 0.8\n",
    "sigma = Matrix([[vol1, 0],[0, vol2]])\n",
    "cov_Wt = Matrix([[1, corr],[corr, 1]])\n",
    "sigmaT = sigma.T\n",
    "\n",
    "cov = sigma @ cov_Wt @ sigmaT\n",
    "cov"
   ]
  },
  {
   "cell_type": "markdown",
   "metadata": {},
   "source": [
    "### (b)"
   ]
  },
  {
   "cell_type": "code",
   "execution_count": 4,
   "metadata": {
    "id": "9xOrWGQY46DF"
   },
   "outputs": [],
   "source": [
    "class MultiGBM:\n",
    "\n",
    "    def __init__(self,S0,r,correlations,sigma):\n",
    "        self.S0 = S0\n",
    "        self.r = r\n",
    "        self.correlations = correlations\n",
    "        self.sigma = sigma"
   ]
  },
  {
   "cell_type": "code",
   "execution_count": 5,
   "metadata": {
    "id": "e0KMdNlr46DF"
   },
   "outputs": [],
   "source": [
    "hw6p1dynamics = MultiGBM(S0=np.array([100,110]),r=0.05,\n",
    "                         correlations = np.array([[1,0.8],[0.8,1]]),\n",
    "                         sigma = np.diag([0.3, 0.2]))"
   ]
  },
  {
   "cell_type": "code",
   "execution_count": 6,
   "metadata": {
    "id": "YuUREwvH46DF"
   },
   "outputs": [],
   "source": [
    "class CallOnBasket:\n",
    "\n",
    "    def __init__(self,K,T,weights):\n",
    "        self.K = K\n",
    "        self.T = T\n",
    "        self.weights = weights"
   ]
  },
  {
   "cell_type": "code",
   "execution_count": 7,
   "metadata": {
    "id": "52OH89tZ46DF"
   },
   "outputs": [],
   "source": [
    "hw6p1contract=CallOnBasket(K=110,T=1.0,weights = np.array([1/2, 1/2]))"
   ]
  },
  {
   "cell_type": "code",
   "execution_count": null,
   "metadata": {
    "id": "aRA8B9a046DG"
   },
   "outputs": [],
   "source": [
    "class MCengine:\n",
    "\n",
    "    def __init__(self, M, antithetic, control, seed):\n",
    "        self.M = M                                  # How many simulations\n",
    "        self.antithetic = antithetic\n",
    "        self.control = control\n",
    "        self.rng = np.random.default_rng(seed=seed) # Seeding the random number generator with a specified number helps make the calculations reproducible\n",
    "\n",
    "    def price_callonbasket_multiGBM(contract,dynamics,MC):\n",
    "\n",
    "        # You complete the coding of this function.\n",
    "        # self.rng.multivariate_normal may be useful.\n",
    "        # See documentation for numpy.random.Generator.multivariate_normal\n",
    "        # as self.rng is an instance of numpy.random.Generator\n",
    "\n",
    "        # You are not required to support the case where MC.control = MC.antithetic = True\n",
    "        # (simultaneous use of control variate and antithetic)\n",
    "        # But you are required to support the other 3 possible settings of MC.antithetic/MC.control\n",
    "        # namely False/False, True/False, False/True.\n",
    "        # (ordinary MC, antithetic without control, control without antithetic)\n",
    "\n",
    "        return(call_price, standard_error)"
   ]
  },
  {
   "cell_type": "code",
   "execution_count": null,
   "metadata": {
    "id": "rmREi1sy46DG"
   },
   "outputs": [],
   "source": [
    "hw6p1bMC=MCengine(M=10000,antithetic=False,control=False,seed=0)\n",
    "(call_price_ordinary, std_err_ordinary) = hw6p1bMC.price_callonbasket_multiGBM(hw6p1contract,hw6p1dynamics)\n",
    "print(call_price_ordinary, std_err_ordinary)"
   ]
  },
  {
   "cell_type": "code",
   "execution_count": null,
   "metadata": {
    "id": "6bLwGWTM46DG"
   },
   "outputs": [],
   "source": [
    "hw6p1cMC=MCengine(M=10000,antithetic=True,control=False,seed=0)\n",
    "(call_price_AV, std_err_AV) = hw6p1cMC.price_callonbasket_multiGBM(hw6p1contract,hw6p1dynamics)\n",
    "print(call_price_AV, std_err_AV)"
   ]
  },
  {
   "cell_type": "code",
   "execution_count": null,
   "metadata": {
    "id": "VBGSqqgY46DG"
   },
   "outputs": [],
   "source": [
    "hw6p1fMC=MCengine(M=10000,antithetic=False,control=True,seed=0)\n",
    "(call_price_CV, std_err_CV) = hw6p1fMC.price_callonbasket_multiGBM(hw6p1contract,hw6p1dynamics)\n",
    "print(call_price_CV, std_err_CV)"
   ]
  },
  {
   "cell_type": "markdown",
   "metadata": {
    "id": "qGknbqw346DG"
   },
   "source": [
    "## Problem 2"
   ]
  },
  {
   "cell_type": "code",
   "execution_count": null,
   "metadata": {
    "id": "7Ij9oOIK46DH"
   },
   "outputs": [],
   "source": [
    "class GBM:\n",
    "\n",
    "    def __init__(self,sigma,r,S0):\n",
    "        self.sigma = sigma\n",
    "        self.r = r\n",
    "        self.S0 = S0"
   ]
  },
  {
   "cell_type": "code",
   "execution_count": null,
   "metadata": {
    "id": "sJlC7Oer46DH"
   },
   "outputs": [],
   "source": [
    "hw6p2dynamics=GBM(sigma=0.2,r=0.02,S0=100)"
   ]
  },
  {
   "cell_type": "code",
   "execution_count": null,
   "metadata": {
    "id": "YwUReruu46DH"
   },
   "outputs": [],
   "source": [
    "class CallOption:\n",
    "\n",
    "    def __init__(self,K,T):\n",
    "        self.K=K\n",
    "        self.T=T"
   ]
  },
  {
   "cell_type": "code",
   "execution_count": null,
   "metadata": {
    "id": "s-s2e_F246DH"
   },
   "outputs": [],
   "source": [
    "hw6p2contract=CallOption(K=150,T=1)"
   ]
  },
  {
   "cell_type": "code",
   "execution_count": null,
   "metadata": {
    "id": "XkV2FaBs46DH"
   },
   "outputs": [],
   "source": [
    "class MCimportanceEngine:\n",
    "\n",
    "    def __init__(self, M, lamb, seed):\n",
    "        self.M = M                                  # How many simulations\n",
    "        self.lamb = lamb                            # drift adjustment\n",
    "        self.rng = np.random.default_rng(seed=seed) # Seeding the random number generator with a specified number helps make the calculations reproducible\n",
    "\n",
    "    def price_call_GBM(self, contract,dynamics):\n",
    "\n",
    "        # You complete the coding of this function.\n",
    "        # self.rng.normal may be useful.\n",
    "        # See documentation for numpy.random.Generator.normal\n",
    "        # as self.rng is an instance of numpy.random.Generator\n",
    "\n",
    "\n",
    "        return(call_price, standard_error)\n"
   ]
  },
  {
   "cell_type": "code",
   "execution_count": null,
   "metadata": {
    "id": "WccmST9O46DH"
   },
   "outputs": [],
   "source": [
    "hw6p2aMC=MCimportanceEngine(M=100000,lamb=0,seed=0) #zero drift adjustment gives ordinary MC\n",
    "\n",
    "(call_price_ordinary, std_err_ordinary) =  hw6p2aMC.price_call_GBM(hw6p2contract,hw6p2dynamics)\n",
    "print(call_price_ordinary, std_err_ordinary)"
   ]
  },
  {
   "cell_type": "code",
   "execution_count": null,
   "metadata": {
    "id": "wjwZIDnU46DH"
   },
   "outputs": [],
   "source": [
    "hw6p2cMC=MCimportanceEngine(M=100000,lamb=,seed=0) # Fill in the lamb parameter with the lambda that you compute in (b)\n",
    "(call_price_importsamp, std_err_importsamp) =  hw6p2cMC.price_call_GBM(hw6p2contract,hw6p2dynamics)\n",
    "print(call_price_importsamp, std_err_importsamp)"
   ]
  }
 ],
 "metadata": {
  "anaconda-cloud": {},
  "colab": {
   "provenance": []
  },
  "kernelspec": {
   "display_name": "Python 3 (ipykernel)",
   "language": "python",
   "name": "python3"
  },
  "language_info": {
   "codemirror_mode": {
    "name": "ipython",
    "version": 3
   },
   "file_extension": ".py",
   "mimetype": "text/x-python",
   "name": "python",
   "nbconvert_exporter": "python",
   "pygments_lexer": "ipython3",
   "version": "3.8.8"
  },
  "toc": {
   "base_numbering": 1,
   "nav_menu": {},
   "number_sections": true,
   "sideBar": true,
   "skip_h1_title": false,
   "title_cell": "Table of Contents",
   "title_sidebar": "Contents",
   "toc_cell": false,
   "toc_position": {},
   "toc_section_display": true,
   "toc_window_display": false
  }
 },
 "nbformat": 4,
 "nbformat_minor": 1
}
