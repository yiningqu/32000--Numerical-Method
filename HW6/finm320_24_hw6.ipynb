{
 "cells": [
  {
   "cell_type": "code",
   "execution_count": 1,
   "metadata": {
    "id": "Dcd4oWAt46DD"
   },
   "outputs": [
    {
     "name": "stderr",
     "output_type": "stream",
     "text": [
      "/opt/anaconda3/lib/python3.8/site-packages/scipy/__init__.py:146: UserWarning: A NumPy version >=1.16.5 and <1.23.0 is required for this version of SciPy (detected version 1.24.4\n",
      "  warnings.warn(f\"A NumPy version >={np_minversion} and <{np_maxversion}\"\n"
     ]
    }
   ],
   "source": [
    "import numpy as np\n",
    "from  sympy import Matrix\n",
    "from scipy.stats import norm"
   ]
  },
  {
   "cell_type": "markdown",
   "metadata": {
    "id": "Jeby0NCp46DE"
   },
   "source": [
    "## Problem 1\n",
    "\n",
    "### (a)\n",
    "\n",
    "$$\\begin{aligned}\n",
    "Cov(X_T)\n",
    "    &= \\mathbb{E} [\\Sigma W_T W_T^T \\Sigma^T]\\\\\n",
    "    &= \\Sigma Cov(W_T) \\Sigma^T\\\\\n",
    "    &= \\begin{bmatrix} 0.3 & 0 \\\\ 0 & 0.2 \\end{bmatrix} \\begin{bmatrix} 1T & 0.8T \\\\ 0.8T & 1T \\end{bmatrix} \\begin{bmatrix} 0.3 & 0 \\\\ 0 & 0.2 \\end{bmatrix} \\\\\n",
    "    &= \\begin{bmatrix} 0.09T & 0.048T \\\\ 0.048T & 0.04T \\end{bmatrix}\n",
    "\\end{aligned}$$"
   ]
  },
  {
   "cell_type": "code",
   "execution_count": 2,
   "metadata": {},
   "outputs": [
    {
     "data": {
      "text/latex": [
       "$\\displaystyle \\left[\\begin{matrix}0.09 & 0.048\\\\0.048 & 0.04\\end{matrix}\\right]$"
      ],
      "text/plain": [
       "Matrix([\n",
       "[ 0.09, 0.048],\n",
       "[0.048,  0.04]])"
      ]
     },
     "execution_count": 2,
     "metadata": {},
     "output_type": "execute_result"
    }
   ],
   "source": [
    "vol1 = 0.3\n",
    "vol2 = 0.2\n",
    "corr = 0.8\n",
    "sigma = Matrix([[vol1, 0],[0, vol2]])\n",
    "cov_Wt = Matrix([[1, corr],[corr, 1]])\n",
    "sigmaT = sigma.T\n",
    "\n",
    "cov = sigma @ cov_Wt @ sigmaT\n",
    "cov"
   ]
  },
  {
   "cell_type": "markdown",
   "metadata": {},
   "source": [
    "### (b)"
   ]
  },
  {
   "cell_type": "code",
   "execution_count": 3,
   "metadata": {
    "id": "9xOrWGQY46DF"
   },
   "outputs": [],
   "source": [
    "class MultiGBM:\n",
    "\n",
    "    def __init__(self,S0,r,correlations,sigma):\n",
    "        self.S0 = S0\n",
    "        self.r = r\n",
    "        self.correlations = correlations\n",
    "        self.sigma = sigma"
   ]
  },
  {
   "cell_type": "code",
   "execution_count": 4,
   "metadata": {
    "id": "e0KMdNlr46DF"
   },
   "outputs": [],
   "source": [
    "hw6p1dynamics = MultiGBM(S0=np.array([100,110]),r=0.05,\n",
    "                         correlations = np.array([[1,0.8],[0.8,1]]),\n",
    "                         sigma = np.diag([0.3, 0.2]))"
   ]
  },
  {
   "cell_type": "code",
   "execution_count": 5,
   "metadata": {
    "id": "YuUREwvH46DF"
   },
   "outputs": [],
   "source": [
    "class CallOnBasket:\n",
    "\n",
    "    def __init__(self,K,T,weights):\n",
    "        self.K = K\n",
    "        self.T = T\n",
    "        self.weights = weights"
   ]
  },
  {
   "cell_type": "code",
   "execution_count": 6,
   "metadata": {
    "id": "52OH89tZ46DF"
   },
   "outputs": [],
   "source": [
    "hw6p1contract=CallOnBasket(K=110,T=1.0,weights = np.array([1/2, 1/2]))"
   ]
  },
  {
   "cell_type": "code",
   "execution_count": 7,
   "metadata": {
    "id": "aRA8B9a046DG"
   },
   "outputs": [],
   "source": [
    "class MCengine:\n",
    "    \n",
    "    def __init__(self, M, antithetic, control, seed):\n",
    "        self.M = M                                  # How many simulations \n",
    "        self.antithetic = antithetic\n",
    "        self.control = control\n",
    "        self.rng = np.random.default_rng(seed=seed) # Seeding the random number generator with a specified number helps make the calculations reproducible\n",
    "        \n",
    "    def price_callonbasket_multiGBM(MC,contract,dynamics):\n",
    "        \n",
    "        # You complete the coding of this function.\n",
    "        # self.rng.multivariate_normal may be useful.\n",
    "        # See documentation for numpy.random.Generator.multivariate_normal\n",
    "        # as self.rng is an instance of numpy.random.Generator\n",
    "        \n",
    "        # You are not required to support the case where MC.control = MC.antithetic = True\n",
    "        # (simultaneous use of control variate and antithetic)\n",
    "        # But you are required to support the other 3 possible settings of MC.antithetic/MC.control \n",
    "        # namely False/False, True/False, False/True.\n",
    "        # (ordinary MC, antithetic without control, control without antithetic)\n",
    "        \n",
    "        K, T, weights = contract.K, contract.T, contract.weights\n",
    "        S0, r, corr, sigma = dynamics.S0, dynamics.r, dynamics.correlations, dynamics.sigma\n",
    "        M, antithetic, control = MC.M, MC.antithetic, MC.control\n",
    "    \n",
    "        X_0 = (np.ones((M, len(S0)))* np.log(S0)).T\n",
    "        sigma_mat = (np.ones((M, len(S0))) * np.diag(sigma)).T\n",
    "    \n",
    "        dW_T = MC.rng.multivariate_normal([0,0],corr,M) * np.sqrt(T)\n",
    "        X_T = X_0 + (r-sigma_mat**2/2)*T + sigma.dot(dW_T.T)\n",
    "\n",
    "        S_T = np.exp(X_T)\n",
    "        H_T = weights.dot(S_T)\n",
    "        C_T = np.exp(-r*T) * np.maximum(H_T-K, 0)\n",
    "    \n",
    "        call_price = np.mean(C_T)\n",
    "        standard_error = np.std(C_T, ddof=1) / np.sqrt(M)\n",
    "        \n",
    "        def BScallPrice(sigma,S,rGrow,r,K,T):\n",
    "            F=S*np.exp(rGrow*T)\n",
    "            sd = sigma*np.sqrt(T)\n",
    "            d1 = np.log(F/K)/sd+sd/2\n",
    "            d2 = d1-sd\n",
    "            return np.exp(-r*T)*(F*norm.cdf(d1)-K*norm.cdf(d2))\n",
    "    \n",
    "        if antithetic:\n",
    "            dW_T_antithetic = -dW_T\n",
    "            X_T_antithetic = X_0 + (r - sigma_mat**2 / 2) * T + sigma.dot(dW_T_antithetic.T)\n",
    "            S_T_antithetic = np.exp(X_T_antithetic)\n",
    "            H_T_antithetic = weights.dot(S_T_antithetic)\n",
    "            C_T_antithetic = np.exp(-r * T) * np.maximum(H_T_antithetic - K, 0)\n",
    "            C_T = 0.5 * (C_T + C_T_antithetic)\n",
    "\n",
    "            call_price = np.mean(C_T)\n",
    "            standard_error = np.std(C_T, ddof=1) / np.sqrt(M)\n",
    "\n",
    "        if control:\n",
    "            sig = np.sqrt(sigma[0,0]**2 + sigma[1,1]**2 + 2*sigma[0,0]*sigma[1,1]*corr[0,1])/2\n",
    "            S = (S0[0]*S0[1])**0.5\n",
    "            rGrow = r + (2*sigma[0,0]*sigma[1,1]*corr[0,1] - sigma[0,0]**2 - sigma[1,1]**2)/8\n",
    "        \n",
    "            C_BS = BScallPrice(sig,S,rGrow,r,K,T)\n",
    "        \n",
    "            G_Tcon = np.exp(np.mean(X_T, axis=0))\n",
    "            C_Tcon = np.exp(-r*T) * np.maximum(G_Tcon-K, 0)\n",
    "        \n",
    "            cov = np.cov(C_T, C_Tcon)\n",
    "            beta = cov[0,1] / cov[1,1]\n",
    "            Y_con = C_T + beta*(C_BS - C_Tcon)\n",
    "            call_price = np.mean(Y_con)\n",
    "            standard_error = np.std(Y_con, ddof=1) / np.sqrt(M)\n",
    "        \n",
    "        return(call_price, standard_error)    "
   ]
  },
  {
   "cell_type": "code",
   "execution_count": 8,
   "metadata": {
    "id": "rmREi1sy46DG"
   },
   "outputs": [
    {
     "name": "stdout",
     "output_type": "stream",
     "text": [
      "9.858103798706601 0.1680048813661487\n"
     ]
    }
   ],
   "source": [
    "hw6p1bMC=MCengine(M=10000,antithetic=False,control=False,seed=0)\n",
    "(call_price_ordinary, std_err_ordinary) = hw6p1bMC.price_callonbasket_multiGBM(hw6p1contract,hw6p1dynamics)\n",
    "print(call_price_ordinary, std_err_ordinary)"
   ]
  },
  {
   "cell_type": "markdown",
   "metadata": {},
   "source": [
    "### (c)"
   ]
  },
  {
   "cell_type": "code",
   "execution_count": 9,
   "metadata": {
    "id": "6bLwGWTM46DG"
   },
   "outputs": [
    {
     "name": "stdout",
     "output_type": "stream",
     "text": [
      "9.930408770857396 0.09477429058267407\n"
     ]
    }
   ],
   "source": [
    "hw6p1cMC=MCengine(M=10000,antithetic=True,control=False,seed=0)\n",
    "(call_price_AV, std_err_AV) = hw6p1cMC.price_callonbasket_multiGBM(hw6p1contract,hw6p1dynamics)\n",
    "print(call_price_AV, std_err_AV)"
   ]
  },
  {
   "cell_type": "markdown",
   "metadata": {},
   "source": [
    "### (d)\n",
    "\n",
    "$$\\begin{aligned}\n",
    "    \\log G_t &= \\frac{1}{2} \\bigg( \\log S_t^{[1]} + \\log S_t^{[2]}   \\bigg)\\\\\n",
    "    &= \\frac{1}{2} \\bigg(\\log S_0^{[1]} + (r-\\frac{\\sigma_{[1]}^2}{2})t + \\sigma_{[1]} W_t^{[1]} + \\log S_0^{[2]} + (r-\\frac{\\sigma_{[2]}^2}{2})t + \\sigma_{[2]} W_t^{[2]} \\bigg) \\\\\n",
    "    &= \\frac{1}{2} \\bigg(\\log \\big(S_0^{[1]}  S_0^{[2]} \\big) + \\big(2r-\\frac{\\sigma_{[1]}^2 + \\sigma_{[2]}^2}{2} \\big)t + \\sigma_{[1]} W_t^{[1]} + \\sigma_{[2]} W_t^{[2]} \\bigg) \\\\\n",
    "\\end{aligned}$$\n",
    "\n",
    "Therefore\n",
    "\n",
    " $$  \\mathbb{E} \\big[ \\log G_T \\big] = \\frac{1}{2} \\bigg(\\log \\big(S_0^{[1]}  S_0^{[2]} \\big) + \\big(2 * r-\\frac{\\sigma_{[1]}^2 + \\sigma_{[2]}^2}{2} \\big)T \\bigg) $$"
   ]
  },
  {
   "cell_type": "markdown",
   "metadata": {},
   "source": [
    "$$\n",
    "\\begin{aligned}\n",
    "\\text{Var} \\big[ \\log G_T \\big] &= \\text{Var} \\left[ \\frac{1}{2} \\left(\\log S_T^{[1]} + \\log S_T^{[2]} \\right) \\right] \\\\\n",
    "&= \\frac{1}{4} \\text{Var} \\left( \\log S_T^{[1]} + \\log S_T^{[2]} \\right) \\\\\n",
    "&= \\frac{1}{4} \\left[ \\text{Var} \\left( \\log S_T^{[1]} \\right) + \\text{Var} \\left( \\log S_T^{[2]} \\right) + 2\\text{Cov} \\left( \\log S_T^{[1]}, \\log S_T^{[2]} \\right) \\right] \\\\\n",
    "&= \\frac{ \\sigma_{[1]}^2 +  2 \\rho \\sigma_{[1]} \\sigma_{[2]} +\\sigma_{[2]}^2}{4} T\n",
    "\\end{aligned}\n",
    "$$\n"
   ]
  },
  {
   "cell_type": "markdown",
   "metadata": {},
   "source": [
    "### (e)\n",
    "\n",
    "$$\\begin{aligned}\n",
    "    C^G =C^{BS}((S_0^{[1]}S_0^{[2]})^{\\frac{1}{2}},0,K,T,r + \\frac{2\\sigma_{[1]}\\sigma_{[2]}\\rho_{[1],[2]} - \\sigma_{[1]}^2 - \\sigma_{[2]}^2}{8},r,\\frac{\\sqrt{\\sigma_{[1]}^2 + \\sigma_{[2]}^2 + 2 \\sigma_{[1]} \\sigma_{[2]} \\rho_{[1],[2]}}}{2} )\n",
    "\\end{aligned}$$\n",
    "\n",
    "\n",
    "### (f)"
   ]
  },
  {
   "cell_type": "code",
   "execution_count": 10,
   "metadata": {
    "id": "VBGSqqgY46DG"
   },
   "outputs": [
    {
     "name": "stdout",
     "output_type": "stream",
     "text": [
      "9.993510290823446 0.00447372947133335\n"
     ]
    }
   ],
   "source": [
    "hw6p1fMC=MCengine(M=10000,antithetic=False,control=True,seed=0)\n",
    "(call_price_CV, std_err_CV) = hw6p1fMC.price_callonbasket_multiGBM(hw6p1contract,hw6p1dynamics)\n",
    "print(call_price_CV, std_err_CV)"
   ]
  },
  {
   "cell_type": "markdown",
   "metadata": {
    "id": "qGknbqw346DG"
   },
   "source": [
    "## Problem 2\n",
    "\n",
    "\n",
    "### (a)"
   ]
  },
  {
   "cell_type": "code",
   "execution_count": 11,
   "metadata": {
    "id": "7Ij9oOIK46DH"
   },
   "outputs": [],
   "source": [
    "class GBM:\n",
    "\n",
    "    def __init__(self,sigma,r,S0):\n",
    "        self.sigma = sigma\n",
    "        self.r = r\n",
    "        self.S0 = S0"
   ]
  },
  {
   "cell_type": "code",
   "execution_count": 12,
   "metadata": {
    "id": "sJlC7Oer46DH"
   },
   "outputs": [],
   "source": [
    "hw6p2dynamics=GBM(sigma=0.2,r=0.02,S0=100)"
   ]
  },
  {
   "cell_type": "code",
   "execution_count": 13,
   "metadata": {
    "id": "YwUReruu46DH"
   },
   "outputs": [],
   "source": [
    "class CallOption:\n",
    "\n",
    "    def __init__(self,K,T):\n",
    "        self.K=K\n",
    "        self.T=T"
   ]
  },
  {
   "cell_type": "code",
   "execution_count": 14,
   "metadata": {
    "id": "s-s2e_F246DH"
   },
   "outputs": [],
   "source": [
    "hw6p2contract=CallOption(K=150,T=1)"
   ]
  },
  {
   "cell_type": "code",
   "execution_count": 15,
   "metadata": {
    "id": "XkV2FaBs46DH"
   },
   "outputs": [],
   "source": [
    "class MCimportanceEngine:\n",
    "    \n",
    "    def __init__(self, M, lamb, seed):\n",
    "        self.M = M                                  # How many simulations \n",
    "        self.lamb = lamb                            # drift adjustment \n",
    "        self.rng = np.random.default_rng(seed=seed) # Seeding the random number generator with a specified number helps make the calculations reproducible\n",
    "\n",
    "    def price_call_GBM(self, contract,dynamics):\n",
    "        \n",
    "        # You complete the coding of this function.\n",
    "        # self.rng.normal may be useful.\n",
    "        # See documentation for numpy.random.Generator.normal\n",
    "        # as self.rng is an instance of numpy.random.Generator\n",
    "        \n",
    "        K, T = contract.K, contract.T\n",
    "        S0, r, sigma = dynamics.S0, dynamics.r, dynamics.sigma\n",
    "        M, lamb = self.M, self.lamb\n",
    "        \n",
    "        \n",
    "        W_1 = self.rng.normal(0,T,M)     \n",
    "        # importance sampling\n",
    "        X_T = np.log(S0) + (r-sigma**2/2)*T + sigma*(W_1 + lamb*T)\n",
    "        S_T = np.exp(X_T)\n",
    "        Y_T = np.exp(-r*T - lamb*W_1 - 0.5*T*lamb**2) * np.maximum(S_T-K, 0)\n",
    "\n",
    "        call_price = np.mean(Y_T)\n",
    "        standard_error = np.std(Y_T, ddof=1) / np.sqrt(M)\n",
    "\n",
    "        return(call_price, standard_error)"
   ]
  },
  {
   "cell_type": "code",
   "execution_count": 16,
   "metadata": {
    "id": "WccmST9O46DH"
   },
   "outputs": [
    {
     "name": "stdout",
     "output_type": "stream",
     "text": [
      "0.25270332833609405 0.007609293292996182\n"
     ]
    }
   ],
   "source": [
    "hw6p2aMC=MCimportanceEngine(M=100000,lamb=0,seed=0) #zero drift adjustment gives ordinary MC\n",
    "\n",
    "(call_price_ordinary, std_err_ordinary) =  hw6p2aMC.price_call_GBM(hw6p2contract,hw6p2dynamics)\n",
    "print(call_price_ordinary, std_err_ordinary)"
   ]
  },
  {
   "cell_type": "markdown",
   "metadata": {},
   "source": [
    "### (b)\n",
    "\n",
    "Change the drift in BM:\n",
    "\n",
    "$$\\begin{aligned}\n",
    "d\\tilde{W}_t &= dW_t^* + \\lambda dt  \\\\\n",
    " dS_t &= r S_t dt + \\sigma S_t d\\tilde{W}_t  = r S_t dt + \\sigma S_t (dW_t^* + \\lambda t) = (r+\\sigma \\lambda)S_t dt + \\sigma S_t dW_t^*  \\\\\n",
    "d \\log S_t &= (r+\\sigma \\lambda - \\frac{\\sigma^2}{2})dt + \\sigma dW_t^* \\\\\n",
    "\\mathbb{E}^* [S_t] &= S_0 e^{(r+\\sigma \\lambda)t}   \\\\\n",
    "\\lambda& = \\frac{\\ln (\\frac{\\mathbb{E}^* [S_t]}{S_0}) / t - r}{\\sigma} \\\\\n",
    "& =  (\\ln( \\frac{165}{100}) - 0.02)/0.2 = 2.404 \\\\\n",
    "\\end{aligned}$$\n",
    "\n",
    "\n",
    "### (c)"
   ]
  },
  {
   "cell_type": "code",
   "execution_count": 17,
   "metadata": {},
   "outputs": [],
   "source": [
    "# Calculate Lamb\n",
    "ES_T = 165\n",
    "S_0 = hw6p2dynamics.S0\n",
    "r = hw6p2dynamics.r\n",
    "sigma = hw6p2dynamics.sigma\n",
    "T = hw6p2contract.T\n",
    "\n",
    "lamb_value= (np.log(ES_T/S_0)/T - r) / sigma"
   ]
  },
  {
   "cell_type": "code",
   "execution_count": 18,
   "metadata": {
    "id": "wjwZIDnU46DH"
   },
   "outputs": [
    {
     "name": "stdout",
     "output_type": "stream",
     "text": [
      "0.24843662621391502 0.0007734271968138013\n"
     ]
    }
   ],
   "source": [
    "hw6p2cMC=MCimportanceEngine(M=100000,lamb=lamb_value,seed=0) # Fill in the lamb parameter with the lambda that you compute in (b)\n",
    "(call_price_importsamp, std_err_importsamp) =  hw6p2cMC.price_call_GBM(hw6p2contract,hw6p2dynamics)\n",
    "print(call_price_importsamp, std_err_importsamp)"
   ]
  },
  {
   "cell_type": "code",
   "execution_count": null,
   "metadata": {},
   "outputs": [],
   "source": []
  }
 ],
 "metadata": {
  "anaconda-cloud": {},
  "colab": {
   "provenance": []
  },
  "kernelspec": {
   "display_name": "Python 3 (ipykernel)",
   "language": "python",
   "name": "python3"
  },
  "language_info": {
   "codemirror_mode": {
    "name": "ipython",
    "version": 3
   },
   "file_extension": ".py",
   "mimetype": "text/x-python",
   "name": "python",
   "nbconvert_exporter": "python",
   "pygments_lexer": "ipython3",
   "version": "3.8.8"
  },
  "toc": {
   "base_numbering": 1,
   "nav_menu": {},
   "number_sections": true,
   "sideBar": true,
   "skip_h1_title": false,
   "title_cell": "Table of Contents",
   "title_sidebar": "Contents",
   "toc_cell": false,
   "toc_position": {},
   "toc_section_display": true,
   "toc_window_display": false
  }
 },
 "nbformat": 4,
 "nbformat_minor": 1
}
