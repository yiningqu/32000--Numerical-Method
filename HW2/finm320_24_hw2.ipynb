{
 "cells": [
  {
   "cell_type": "markdown",
   "metadata": {
    "id": "1H8V1KKnGfz8"
   },
   "source": [
    "# Problem 1"
   ]
  },
  {
   "cell_type": "code",
   "execution_count": null,
   "metadata": {},
   "outputs": [],
   "source": [
    "import numpy as np"
   ]
  },
  {
   "cell_type": "code",
   "execution_count": 2,
   "metadata": {},
   "outputs": [],
   "source": [
    "class localvolDynamics:\n",
    "\n",
    "    def __init__(self, S0, r, q, maxvol, localvol):\n",
    "        self.S0 = S0\n",
    "        self.r = r\n",
    "        self.q = q\n",
    "        self.maxvol = maxvol\n",
    "        self.localvol = localvol\n"
   ]
  },
  {
   "cell_type": "code",
   "execution_count": 3,
   "metadata": {
    "id": "Om9QD4NPGfz9"
   },
   "outputs": [],
   "source": [
    "hw2dynamics = localvolDynamics(S0 = 100, r = 0.06, q = 0.01, maxvol = 0.6,\n",
    "                     localvol = lambda S,t: np.minimum(0.2+5*np.log(S/100)**2+0.1*np.exp(-t), 0.6))\n",
    "\n",
    "# Note that hw2dynamics.localvol is a function\n",
    "# that may be invoked in the usual way, for example:\n",
    "# hw2dynamics.localvol( exchangerate , time )"
   ]
  },
  {
   "cell_type": "code",
   "execution_count": 4,
   "metadata": {
    "id": "OVw8UDagGfz9"
   },
   "outputs": [],
   "source": [
    "class CallOnAmericanPut:\n",
    "\n",
    "    def __init__(self, putexpiry, putstrike, callexpiry, callstrike):\n",
    "        self.putexpiry = putexpiry\n",
    "        self.putstrike = putstrike\n",
    "        self.callexpiry = callexpiry\n",
    "        self.callstrike = callstrike"
   ]
  },
  {
   "cell_type": "code",
   "execution_count": 5,
   "metadata": {
    "id": "d_jBNZ-hGfz9"
   },
   "outputs": [],
   "source": [
    "hw2contract = CallOnAmericanPut(putexpiry=0.75, putstrike=95, callexpiry=0.25, callstrike=10)"
   ]
  },
  {
   "cell_type": "code",
   "execution_count": 13,
   "metadata": {
    "id": "W-X2mdSMGfz9"
   },
   "outputs": [],
   "source": [
    "class TreeEngine:\n",
    "    def __init__(self, N):\n",
    "        \"\"\"\n",
    "        Initialize the TreeEngine with the number of time steps, N.\n",
    "        \"\"\"\n",
    "        self.N = N\n",
    "        \n",
    "    # You complete the coding of this function\n",
    "    \n",
    "    def price_compound_localvol(self, contract:CallOnAmericanPut, dynamics:localvolDynamics):\n",
    "        avgvol = dynamics.localvol(dynamics.S0, 0)\n",
    "        deltat = contract.putexpiry / self.N\n",
    "        deltax = np.maximum(avgvol*np.sqrt(3* deltat),dynamics.maxvol *np.sqrt(deltat))\n",
    "        \n",
    "        # Ensure that the call expiry can be represented in the tree grid.\n",
    "        # putexpiry steps = self.N, 所以 callexpirty steps = callexpirty / putexpirty * self.N\n",
    "        numTimestepsLeft = contract.callexpiry/contract.putexpiry * self.N\n",
    "        if abs(numTimestepsLeft-round(numTimestepsLeft)) > 1e-8:\n",
    "            raise ValueError(\"This value of N fails to enable call expiry date to be represented in the tree\")\n",
    "        \n",
    "        # Generate the grid of stock prices using exponential spacing.\n",
    "        Sgrid = dynamics.S0*np.exp(np.linspace(self.N, -self.N, num=2*self.N+1, endpoint=True)*deltax)  \n",
    "\n",
    "        # Initialize put option prices at maturity.\n",
    "        optionprice_put = np.maximum(contract.putstrike-Sgrid,0)  \n",
    "        \n",
    "        # Backward induction to calculate option prices at earlier times.\n",
    "        for t in np.linspace(self.N-1, 0, num=self.N, endpoint=True)*deltat:\n",
    "            # Adjust stock prices and recalculate local volatility and drift.\n",
    "            Sgrid = Sgrid[1:-1]\n",
    "            localvol = dynamics.localvol(Sgrid,t)\n",
    "            nu = (dynamics.r-dynamics.q) - localvol**2/2\n",
    "\n",
    "            # Calculate transition probabilities for up, down, and middle movements.\n",
    "            Pu = 0.5 * (((localvol**2 * deltat + (nu*deltat)**2)/deltax**2) + (nu*deltat)/deltax) \n",
    "            Pd = 0.5 * (((localvol**2 * deltat + (nu*deltat)**2)/deltax**2) - (nu*deltat)/deltax) \n",
    "            Pm = 1 - ((localvol**2 * deltat + (nu*deltat)**2)/deltax**2)\n",
    "\n",
    "            # Update put prices considering early exercise.\n",
    "            optionprice_put = np.exp(-dynamics.r*deltat) * (Pu*optionprice_put[:-2] + Pd*optionprice_put[2:] + Pm*optionprice_put[1:-1])\n",
    "            optionprice_boundary = np.maximum(contract.putstrike-Sgrid,0)\n",
    "            # AMERICAN:\n",
    "            # if boundary > put price: update to boundary\n",
    "            # if boundary < put price: remain the same \n",
    "            optionprice_put = np.where(optionprice_boundary>optionprice_put,optionprice_boundary,optionprice_put)\n",
    "            \n",
    "            # Calculation of the call on the put option.\n",
    "            \n",
    "            # 在 = callexpiry的时候算出 array of call option price\n",
    "            if abs(t-contract.callexpiry)<1e-8:\n",
    "                optionprice_call_on_put = np.maximum(optionprice_put-contract.callstrike,0)   #an array of time-T option prices.\n",
    "            # 在 backward induction中不断更新 call option price\n",
    "            elif t < contract.callexpiry:\n",
    "                optionprice_call_on_put = np.exp(-dynamics.r*deltat) * (Pu*optionprice_call_on_put[:-2] + Pd*optionprice_call_on_put[2:] + Pm*optionprice_call_on_put[1:-1])\n",
    "            \n",
    "        price_of_put = optionprice_put[0] #write code to compute this    \n",
    "        price_of_call_on_put = optionprice_call_on_put[0] #write code to compute this\n",
    "    \n",
    "        return (price_of_put, price_of_call_on_put)\n"
   ]
  },
  {
   "cell_type": "code",
   "execution_count": 14,
   "metadata": {
    "id": "8BsNJDz7Gfz9"
   },
   "outputs": [],
   "source": [
    "hw2tree = TreeEngine(N=3000)  #change if necessary to get $0.01 accuracy, in your judgment"
   ]
  },
  {
   "cell_type": "code",
   "execution_count": 15,
   "metadata": {
    "id": "NWf-TVtJGfz-"
   },
   "outputs": [],
   "source": [
    "(answer_part_a, answer_part_b) = hw2tree.price_compound_localvol(hw2contract,hw2dynamics)"
   ]
  },
  {
   "cell_type": "code",
   "execution_count": 16,
   "metadata": {
    "id": "yn-qc2Y5Gfz-"
   },
   "outputs": [
    {
     "data": {
      "text/plain": [
       "(7.007352296510587, 1.5925531282199283)"
      ]
     },
     "execution_count": 16,
     "metadata": {},
     "output_type": "execute_result"
    }
   ],
   "source": [
    "(answer_part_a, answer_part_b)"
   ]
  },
  {
   "cell_type": "markdown",
   "metadata": {},
   "source": [
    "# Problem 2"
   ]
  },
  {
   "cell_type": "markdown",
   "metadata": {},
   "source": [
    "## Part a\n",
    "\n",
    "Black-Scholes call price is $S_0 N(d_1) - Ke^{-rT}N(d_2)$\n",
    "\n",
    "where $$d_{1,2} := \\frac{log(S_0e^{rT}/K)}{\\sigma \\sqrt{T}}± \\frac{\\sigma \\sqrt{T}}{2}$$\n",
    "\n",
    "Since K = S0, $$d_{1,2} := \\frac{r\\sqrt{T}}{\\sigma}± \\frac{\\sigma \\sqrt{T}}{2}$$\n",
    "\n",
    "Using first order Taylor Expansion: $N(x) = N(0)+xN^{'}(0)$, where $N(0) = 0.5$ and $N^{'}(0)=\\frac{1}{\\sqrt{2\\pi}}$\n",
    "\n",
    "$$\\Delta = N(d_1) = 0.5 + \\frac{1}{\\sqrt{2\\pi}}(\\frac{r\\sqrt{T}}{\\sigma}+ \\frac{\\sigma \\sqrt{T}}{2}) $$\n",
    "\n",
    "Plug in $\\sigma = 0.2$, $T = 0.25$, $r = 0.01$ we get \n",
    "\n",
    "$$ \\Delta \\approx 0.5 + 0.075 \\times \\frac{1}{\\sqrt{2\\pi}} \\approx 0.5 + 0.075 \\times 0.3989422804014337 = 0.5 + 0.029921$$\n",
    "\n",
    "Therefore, the approximate delta of the at-the-money call option under the specified parameters is approximately 0.53."
   ]
  },
  {
   "cell_type": "markdown",
   "metadata": {},
   "source": [
    "## Part b"
   ]
  },
  {
   "cell_type": "code",
   "execution_count": 17,
   "metadata": {},
   "outputs": [
    {
     "name": "stdout",
     "output_type": "stream",
     "text": [
      "Time-0 value of the contract using a second-order Taylor expansion is 4.71\n"
     ]
    }
   ],
   "source": [
    "# Given values\n",
    "S_0 = 4  \n",
    "C_0 = 5  \n",
    "dollar_delta = 3  \n",
    "dollar_gamma = 0.02  \n",
    "S = 3.6  \n",
    "\n",
    "# Convert dollar delta to delta\n",
    "Delta = dollar_delta / S_0\n",
    "\n",
    "# Convert dollar gamma to gamma\n",
    "Gamma = (dollar_gamma * 100) / S_0**2\n",
    "\n",
    "# Apply the second-order Taylor expansion to approximate the new option price C(S)\n",
    "C_S = C_0 + (S - S_0) * Delta + 0.5 * (S - S_0)**2 * Gamma\n",
    "\n",
    "print(f\"Time-0 value of the contract using a second-order Taylor expansion is {C_S:.2f}\")\n",
    "\n"
   ]
  },
  {
   "cell_type": "code",
   "execution_count": null,
   "metadata": {},
   "outputs": [],
   "source": []
  }
 ],
 "metadata": {
  "anaconda-cloud": {},
  "colab": {
   "provenance": []
  },
  "kernelspec": {
   "display_name": "Python 3 (ipykernel)",
   "language": "python",
   "name": "python3"
  },
  "language_info": {
   "codemirror_mode": {
    "name": "ipython",
    "version": 3
   },
   "file_extension": ".py",
   "mimetype": "text/x-python",
   "name": "python",
   "nbconvert_exporter": "python",
   "pygments_lexer": "ipython3",
   "version": "3.8.8"
  },
  "toc": {
   "base_numbering": 1,
   "nav_menu": {},
   "number_sections": true,
   "sideBar": true,
   "skip_h1_title": false,
   "title_cell": "Table of Contents",
   "title_sidebar": "Contents",
   "toc_cell": false,
   "toc_position": {},
   "toc_section_display": true,
   "toc_window_display": false
  }
 },
 "nbformat": 4,
 "nbformat_minor": 1
}
