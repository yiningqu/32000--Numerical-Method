{
  "cells": [
    {
      "cell_type": "markdown",
      "source": [
        "### Problem 3"
      ],
      "metadata": {
        "id": "LelSG2SYokgB"
      }
    },
    {
      "cell_type": "code",
      "execution_count": 1,
      "metadata": {
        "id": "N3NcmSyD_n-h"
      },
      "outputs": [],
      "source": [
        "import numpy as np\n",
        "from scipy.stats import norm"
      ]
    },
    {
      "cell_type": "code",
      "execution_count": 2,
      "metadata": {
        "id": "5CQyoplL_n-k"
      },
      "outputs": [],
      "source": [
        "class GBM:\n",
        "\n",
        "    def __init__(self,S0,r,sigma=None):\n",
        "        self.S0=S0\n",
        "        self.r=r\n",
        "        self.sigma=sigma\n"
      ]
    },
    {
      "cell_type": "code",
      "execution_count": 3,
      "metadata": {
        "id": "MGfoxQrr_n-k"
      },
      "outputs": [],
      "source": [
        "class Call:\n",
        "\n",
        "    def __init__(self,K,T):\n",
        "        self.K=K\n",
        "        self.T=T\n",
        "\n",
        "    #This solution did not end up using this class.\n",
        "    #But alternative solutions could reuse Black-Scholes code from the HW, which may make use of a Call class"
      ]
    },
    {
      "cell_type": "code",
      "source": [
        "class CallOnAverage:\n",
        "\n",
        "    def __init__(self,K,T0,T1):\n",
        "        self.K = K\n",
        "        self.T0 = T0\n",
        "        self.T1 = T1"
      ],
      "metadata": {
        "id": "qA_ASvUaC97l"
      },
      "execution_count": 4,
      "outputs": []
    },
    {
      "cell_type": "code",
      "execution_count": 5,
      "metadata": {
        "id": "UXmRgYDM_n-l"
      },
      "outputs": [],
      "source": [
        "class MCengine:\n",
        "\n",
        "    def __init__(self,M,seed,useControl):\n",
        "        self.M = M  #number of paths\n",
        "        self.rng = np.random.default_rng(seed=seed) # Seeding the random number generator with a specified number helps make the calculations reproducible\n",
        "        self.useControl = useControl\n",
        "\n",
        "    def randomLogreturn(self,dynamics,deltat):\n",
        "        return (dynamics.r-dynamics.sigma**2/2)*deltat + dynamics.sigma*np.sqrt(deltat)*self.rng.normal(size=self.M)\n",
        "\n",
        "    def price_CallOnAverage_GBM(self,contract,dynamics):\n",
        "\n",
        "        S05 = dynamics.S0 * np.exp(self.randomLogreturn(dynamics,contract.T0))\n",
        "        S10 = S05 * np.exp(self.randomLogreturn(dynamics,contract.T1-contract.T0))\n",
        "        zeropayoff = np.zeros(self.M)\n",
        "        payoffdiscounted = np.exp(-dynamics.r*contract.T1) * np.maximum((S05+S10)/2 - contract.K,zeropayoff)\n",
        "\n",
        "        if not self.useControl:\n",
        "            return(np.mean(payoffdiscounted), np.std(payoffdiscounted)/np.sqrt(self.M))\n",
        "\n",
        "        controlpayoff = np.exp(-dynamics.r*contract.T1) * np.maximum(S10 - contract.K,zeropayoff)\n",
        "        F = dynamics.S0*np.exp(dynamics.r*contract.T1)\n",
        "        std = dynamics.sigma*np.sqrt(contract.T1)\n",
        "        d1 = np.log(F/contract.K)/std + std/2\n",
        "        d2 = d1 - std\n",
        "        controlexpectation = np.exp(-dynamics.r*contract.T1) * (F*norm.cdf(d1) - contract.K*norm.cdf(d2))\n",
        "        covmatrix = np.cov(payoffdiscounted,controlpayoff)\n",
        "        beta = covmatrix[0,1]/covmatrix[1,1]\n",
        "        Ycv = payoffdiscounted + beta *(controlexpectation - controlpayoff)\n",
        "        print('correlation:',np.corrcoef(payoffdiscounted, controlpayoff)[0,1])\n",
        "        return(np.mean(Ycv), np.std(Ycv)/np.sqrt(self.M))\n"
      ]
    },
    {
      "cell_type": "code",
      "execution_count": 6,
      "metadata": {
        "id": "LR8WHSpv_n-o"
      },
      "outputs": [],
      "source": [
        "p3dynamics = GBM(sigma=0.70,S0=10,r=0.02)"
      ]
    },
    {
      "cell_type": "code",
      "execution_count": 7,
      "metadata": {
        "id": "2qPJ4byU_n-o"
      },
      "outputs": [],
      "source": [
        "p3contract = CallOnAverage(K=12,T0=0.5,T1=1.0)"
      ]
    },
    {
      "cell_type": "code",
      "execution_count": 8,
      "metadata": {
        "id": "j9o69w-i_n-p",
        "colab": {
          "base_uri": "https://localhost:8080/"
        },
        "outputId": "6d2fe9c4-3162-4e9e-b693-2e62d9a806fc"
      },
      "outputs": [
        {
          "output_type": "stream",
          "name": "stdout",
          "text": [
            "price: 1.5735749676914146 stderr: 0.013133445215084201\n"
          ]
        }
      ],
      "source": [
        "p3aMC = MCengine(M=100000,seed=0,useControl=False)\n",
        "(price3a, standard_error3a) = p3aMC.price_CallOnAverage_GBM(p3contract,p3dynamics)\n",
        "print('price:',price3a, 'stderr:',standard_error3a)"
      ]
    },
    {
      "cell_type": "code",
      "source": [
        "p3bMC = MCengine(M=100000,seed=0,useControl=True)\n",
        "(price3b, standard_error3b) = p3bMC.price_CallOnAverage_GBM(p3contract,p3dynamics)\n",
        "print('price:',price3b, 'stderr:',standard_error3b)"
      ],
      "metadata": {
        "id": "uN-XBBpwuFAn",
        "colab": {
          "base_uri": "https://localhost:8080/"
        },
        "outputId": "af77338b-692f-400a-f22d-9875c80608c4"
      },
      "execution_count": 9,
      "outputs": [
        {
          "output_type": "stream",
          "name": "stdout",
          "text": [
            "correlation: 0.9395339840925245\n",
            "price: 1.5661493307125633 stderr: 0.0044976229113177614\n"
          ]
        }
      ]
    }
  ],
  "metadata": {
    "anaconda-cloud": {},
    "kernelspec": {
      "display_name": "Python 3",
      "language": "python",
      "name": "python3"
    },
    "language_info": {
      "codemirror_mode": {
        "name": "ipython",
        "version": 3
      },
      "file_extension": ".py",
      "mimetype": "text/x-python",
      "name": "python",
      "nbconvert_exporter": "python",
      "pygments_lexer": "ipython3",
      "version": "3.6.5"
    },
    "colab": {
      "provenance": []
    }
  },
  "nbformat": 4,
  "nbformat_minor": 0
}