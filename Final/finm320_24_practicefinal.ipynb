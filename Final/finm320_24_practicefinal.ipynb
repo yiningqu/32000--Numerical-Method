{
  "cells": [
    {
      "cell_type": "code",
      "execution_count": null,
      "metadata": {
        "id": "N3NcmSyD_n-h"
      },
      "outputs": [],
      "source": [
        "import numpy as np\n",
        "from scipy.stats import norm"
      ]
    },
    {
      "cell_type": "code",
      "execution_count": null,
      "metadata": {
        "id": "5CQyoplL_n-k"
      },
      "outputs": [],
      "source": [
        "class GBM:\n",
        "\n",
        "    def __init__(self,S0,r,sigma=None):\n",
        "        self.S0=S0\n",
        "        self.r=r\n",
        "        self.sigma=sigma\n"
      ]
    },
    {
      "cell_type": "code",
      "execution_count": null,
      "metadata": {
        "id": "MGfoxQrr_n-k"
      },
      "outputs": [],
      "source": [
        "class Call:\n",
        "\n",
        "    def __init__(self,K,T):\n",
        "        self.K=K\n",
        "        self.T=T\n"
      ]
    },
    {
      "cell_type": "code",
      "source": [
        "class CallOnAverage:\n",
        "\n",
        "    def __init__(self,K,T0,T1):\n",
        "        self.K = K\n",
        "        self.T0 = T0\n",
        "        self.T1 = T1"
      ],
      "metadata": {
        "id": "qA_ASvUaC97l"
      },
      "execution_count": null,
      "outputs": []
    },
    {
      "cell_type": "code",
      "execution_count": null,
      "metadata": {
        "id": "UXmRgYDM_n-l"
      },
      "outputs": [],
      "source": [
        "class MCengine:\n",
        "\n",
        "    def __init__(self,M,seed,useControl):\n",
        "        self.M = M  #number of paths\n",
        "        self.rng = np.random.default_rng(seed=seed) # Seeding the random number generator with a specified number helps make the calculations reproducible\n",
        "        self.useControl = useControl\n",
        "\n",
        "    def randomLogreturn(self,dynamics,deltat):\n",
        "        return (dynamics.r-dynamics.sigma**2/2)*deltat + dynamics.sigma*np.sqrt(deltat)*self.rng.normal(size=self.M)\n",
        "\n",
        "    def price_CallOnAverage_GBM(self,contract,dynamics):\n",
        "\n",
        "        #You fill this in.  If self.useControl is False, then this should do part (a), otherwise it should do part (b)\n",
        "\n",
        "        return(price, standard_error)\n",
        ""
      ]
    },
    {
      "cell_type": "code",
      "execution_count": null,
      "metadata": {
        "id": "LR8WHSpv_n-o"
      },
      "outputs": [],
      "source": [
        "p3dynamics = GBM(sigma=0.70,S0=10,r=0.02)"
      ]
    },
    {
      "cell_type": "code",
      "execution_count": null,
      "metadata": {
        "id": "2qPJ4byU_n-o"
      },
      "outputs": [],
      "source": [
        "p3contract = CallOnAverage(K=12,T0=0.5,T1=1.0)"
      ]
    },
    {
      "cell_type": "code",
      "execution_count": null,
      "metadata": {
        "id": "j9o69w-i_n-p"
      },
      "outputs": [],
      "source": [
        "p3aMC = MCengine(M=100000,seed=0,useControl=False)\n",
        "(price3a, standard_error3a) = p3aMC.price_CallOnAverage_GBM(p3contract,p3dynamics)\n",
        "print(price3a, standard_error3a)"
      ]
    },
    {
      "cell_type": "code",
      "source": [
        "p3bMC = MCengine(M=100000,seed=0,useControl=True)\n",
        "(price3b, standard_error3b) = p3bMC.price_CallOnAverage_GBM(p3contract,p3dynamics)\n",
        "print(price3b, standard_error3b)"
      ],
      "metadata": {
        "id": "uN-XBBpwuFAn"
      },
      "execution_count": null,
      "outputs": []
    }
  ],
  "metadata": {
    "anaconda-cloud": {},
    "kernelspec": {
      "display_name": "Python 3",
      "language": "python",
      "name": "python3"
    },
    "language_info": {
      "codemirror_mode": {
        "name": "ipython",
        "version": 3
      },
      "file_extension": ".py",
      "mimetype": "text/x-python",
      "name": "python",
      "nbconvert_exporter": "python",
      "pygments_lexer": "ipython3",
      "version": "3.6.5"
    },
    "colab": {
      "provenance": []
    }
  },
  "nbformat": 4,
  "nbformat_minor": 0
}