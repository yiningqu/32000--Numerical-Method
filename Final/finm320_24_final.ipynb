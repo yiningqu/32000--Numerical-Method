{
 "cells": [
  {
   "cell_type": "code",
   "execution_count": 16,
   "metadata": {
    "id": "N3NcmSyD_n-h"
   },
   "outputs": [],
   "source": [
    "import numpy as np\n",
    "from scipy.stats import norm\n",
    "from scipy.optimize import newton"
   ]
  },
  {
   "cell_type": "code",
   "execution_count": 2,
   "metadata": {
    "id": "5CQyoplL_n-k"
   },
   "outputs": [],
   "source": [
    "class GBM:\n",
    "\n",
    "    def __init__(self,S0,r,sigma=None):\n",
    "        self.S0=S0\n",
    "        self.r=r\n",
    "        self.sigma=sigma\n"
   ]
  },
  {
   "cell_type": "code",
   "execution_count": 3,
   "metadata": {
    "id": "qA_ASvUaC97l"
   },
   "outputs": [],
   "source": [
    "class CallOnAverage:\n",
    "\n",
    "    def __init__(self,K,T0,T1):\n",
    "        self.K = K\n",
    "        self.T0 = T0\n",
    "        self.T1 = T1"
   ]
  },
  {
   "cell_type": "code",
   "execution_count": 4,
   "metadata": {
    "id": "UXmRgYDM_n-l"
   },
   "outputs": [],
   "source": [
    "class MCengine:\n",
    "\n",
    "    def __init__(self,M,seed):\n",
    "        self.M = M  #number of paths\n",
    "        self.rng = np.random.default_rng(seed=seed) # Seeding the random number generator with a specified number helps make the calculations reproducible\n",
    "\n",
    "    def randomLogreturn(self,dynamics,deltat):\n",
    "        return (dynamics.r-dynamics.sigma**2/2)*deltat + dynamics.sigma*np.sqrt(deltat)*self.rng.normal(size=self.M)\n",
    "\n",
    "\n",
    "    def price_CallOnAverage_GBM_Conditional(self, contract, dynamics):\n",
    "        S05 = dynamics.S0 * np.exp(self.randomLogreturn(dynamics, contract.T0))\n",
    "        zeropayoff = np.zeros(self.M)\n",
    "\n",
    "        # Special case for S05 >= 24\n",
    "        special_case_indices = S05 >= 24\n",
    "        S10_special = S05[special_case_indices]  # S10 in this case is just S05 since S05 is very large\n",
    "        payoff_special = np.maximum(S05[special_case_indices] - contract.K, zeropayoff[special_case_indices])\n",
    "\n",
    "        # General case\n",
    "        logreturn_S10 = (dynamics.r - dynamics.sigma**2 / 2) * (contract.T1 - contract.T0) + dynamics.sigma * np.sqrt(contract.T1 - contract.T0) * self.rng.normal(size=self.M)\n",
    "        S10 = S05 * np.exp(logreturn_S10)\n",
    "        payoff_general = np.maximum((S05 + S10) / 2 - contract.K, zeropayoff)\n",
    "\n",
    "        # Combine payoffs\n",
    "        payoff = np.copy(payoff_general)\n",
    "        payoff[special_case_indices] = payoff_special\n",
    "\n",
    "        payoffdiscounted = np.exp(-dynamics.r * contract.T1) * payoff\n",
    "        price = np.mean(payoffdiscounted)\n",
    "        standard_error = np.std(payoffdiscounted) / np.sqrt(self.M)\n",
    "        return price, standard_error\n"
   ]
  },
  {
   "cell_type": "code",
   "execution_count": 5,
   "metadata": {
    "id": "LR8WHSpv_n-o"
   },
   "outputs": [],
   "source": [
    "p3dynamics = GBM(sigma=0.70,S0=10,r=0.02)"
   ]
  },
  {
   "cell_type": "code",
   "execution_count": 6,
   "metadata": {
    "id": "2qPJ4byU_n-o"
   },
   "outputs": [],
   "source": [
    "p3contract = CallOnAverage(K=12,T0=0.5,T1=1.0)"
   ]
  },
  {
   "cell_type": "code",
   "execution_count": 7,
   "metadata": {
    "id": "j9o69w-i_n-p"
   },
   "outputs": [
    {
     "name": "stdout",
     "output_type": "stream",
     "text": [
      "1.567995896631187 0.012507517756089392\n"
     ]
    }
   ],
   "source": [
    "p3MC = MCengine(M=100000,seed=0)\n",
    "(p3price, p3standard_error) = p3MC.price_CallOnAverage_GBM_Conditional(p3contract,p3dynamics)\n",
    "print(p3price, p3standard_error)"
   ]
  },
  {
   "cell_type": "code",
   "execution_count": null,
   "metadata": {},
   "outputs": [],
   "source": []
  },
  {
   "cell_type": "markdown",
   "metadata": {},
   "source": [
    "# Problem 5"
   ]
  },
  {
   "cell_type": "code",
   "execution_count": 19,
   "metadata": {},
   "outputs": [],
   "source": [
    "def bs_call_formula(X, t, K, T, rGrow, r, sigma):\n",
    "    F = X*np.exp(rGrow*(T-t))\n",
    "    d1 = np.log(F/K)/(sigma*np.sqrt(T-t)) + sigma*np.sqrt(T-t)/2\n",
    "    d2 = np.log(F/K)/(sigma*np.sqrt(T-t)) - sigma*np.sqrt(T-t)/2\n",
    "    call_price = np.exp(-r*(T-t))*(F*norm.cdf(d1) - K*norm.cdf(d2))\n",
    "    return call_price\n",
    "\n",
    "def implied_volatility(call_price, X, t, K, T, rGrow, r):\n",
    "    # Define the objective function for the root-finding algorithm\n",
    "    def objective_function(sigma):\n",
    "        return bs_call_formula(X, t, K, T, rGrow, r, sigma) - call_price\n",
    "\n",
    "    # Initial guess for the volatility\n",
    "    sigma_initial = 0.2\n",
    "\n",
    "    # Use the Newton-Raphson method to find the root\n",
    "    implied_vol = newton(objective_function, sigma_initial)\n",
    "    \n",
    "    return implied_vol"
   ]
  },
  {
   "cell_type": "code",
   "execution_count": 26,
   "metadata": {},
   "outputs": [
    {
     "name": "stdout",
     "output_type": "stream",
     "text": [
      "7.418607894112\n",
      "0.317997649891402\n",
      "9.24976421293605\n"
     ]
    }
   ],
   "source": [
    "#call price for T1 \n",
    "bs_call = bs_call_formula(X = 100, t = 0, K = 100, T = 0.3, rGrow = 0, r = 0, sigma = 0.34)\n",
    "print(bs_call)\n",
    "\n",
    "#implied volatility for T2\n",
    "implied_vol = implied_volatility(call_price = 8.01, X = 100, t = 0, K = 100, T = 0.4, rGrow = 0, r = 0)\n",
    "print(implied_vol)\n",
    "\n",
    "#call price for T3\n",
    "bs_call2 = bs_call_formula(X = 100, t = 0, K = 100, T = 0.6, rGrow = 0, r = 0, sigma = 0.3)\n",
    "print(bs_call2)"
   ]
  },
  {
   "cell_type": "code",
   "execution_count": null,
   "metadata": {},
   "outputs": [],
   "source": []
  }
 ],
 "metadata": {
  "anaconda-cloud": {},
  "colab": {
   "provenance": []
  },
  "kernelspec": {
   "display_name": "Python 3 (ipykernel)",
   "language": "python",
   "name": "python3"
  },
  "language_info": {
   "codemirror_mode": {
    "name": "ipython",
    "version": 3
   },
   "file_extension": ".py",
   "mimetype": "text/x-python",
   "name": "python",
   "nbconvert_exporter": "python",
   "pygments_lexer": "ipython3",
   "version": "3.8.8"
  }
 },
 "nbformat": 4,
 "nbformat_minor": 1
}
