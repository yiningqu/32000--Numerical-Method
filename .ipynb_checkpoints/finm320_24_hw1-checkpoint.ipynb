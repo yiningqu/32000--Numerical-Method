{
 "cells": [
  {
   "cell_type": "code",
   "execution_count": 2,
   "metadata": {
    "id": "-NynHt7uaJEW"
   },
   "outputs": [
    {
     "name": "stderr",
     "output_type": "stream",
     "text": [
      "/opt/anaconda3/lib/python3.8/site-packages/scipy/__init__.py:146: UserWarning: A NumPy version >=1.16.5 and <1.23.0 is required for this version of SciPy (detected version 1.24.4\n",
      "  warnings.warn(f\"A NumPy version >={np_minversion} and <{np_maxversion}\"\n"
     ]
    }
   ],
   "source": [
    "import numpy as np\n",
    "from scipy.stats import norm\n",
    "from scipy.optimize import bisect, brentq\n",
    "from copy import copy"
   ]
  },
  {
   "cell_type": "markdown",
   "metadata": {
    "id": "lzNNfR6eaJEY"
   },
   "source": [
    "# Problem 1"
   ]
  },
  {
   "cell_type": "code",
   "execution_count": 3,
   "metadata": {
    "id": "FH5lK0IDaJEZ"
   },
   "outputs": [],
   "source": [
    "class UpAndOutPut:\n",
    "\n",
    "    def __init__(self, K, T, barrier, observationinterval):\n",
    "        self.K = K\n",
    "        self.T = T\n",
    "        self.barrier = barrier\n",
    "        self.observationinterval = observationinterval"
   ]
  },
  {
   "cell_type": "code",
   "execution_count": 4,
   "metadata": {
    "id": "zu38EM-xaJEZ"
   },
   "outputs": [],
   "source": [
    "hw1contract = UpAndOutPut(K=95, T=0.25, barrier=114, observationinterval=0.02)"
   ]
  },
  {
   "cell_type": "code",
   "execution_count": 5,
   "metadata": {
    "id": "3QnpHnhEaJEa"
   },
   "outputs": [],
   "source": [
    "class GBMdynamics:\n",
    "\n",
    "    def __init__(self, S, r, rGrow, sigma=None):\n",
    "        self.S = S\n",
    "        self.r = r\n",
    "        self.rGrow = rGrow\n",
    "        self.sigma = sigma\n",
    "\n",
    "    def update_sigma(self, sigma):\n",
    "        self.sigma = sigma\n",
    "        return self"
   ]
  },
  {
   "cell_type": "code",
   "execution_count": 6,
   "metadata": {
    "id": "OlOqBwRSaJEa"
   },
   "outputs": [],
   "source": [
    "hw1dynamics = GBMdynamics(S=100, sigma=0.4, rGrow=0, r=0)"
   ]
  },
  {
   "cell_type": "code",
   "execution_count": 70,
   "metadata": {
    "id": "yxrJL5bIaJEa"
   },
   "outputs": [],
   "source": [
    "class TreeEngine:\n",
    "\n",
    "    def __init__(self, N):\n",
    "        self.N = N\n",
    "\n",
    "    def price_upandout(self, dynamics, contract):\n",
    "\n",
    "        deltat = contract.T / self.N\n",
    "        # J is the level\n",
    "        # np.ceil rounds up to integer: eg. 3.1 -> 4\n",
    "        J = np.ceil(np.log(contract.barrier/dynamics.S)/(dynamics.sigma*np.sqrt(3*deltat))-0.5)\n",
    "        # ensure price is checked at barrier level at right place\n",
    "        deltax = np.log(contract.barrier/dynamics.S)/(J+0.5)\n",
    "        \n",
    "        # Possible stock price at maturity date T\n",
    "        Sgrid = dynamics.S*np.exp(np.linspace(self.N, -self.N, num=2*self.N+1, endpoint=True)*deltax)\n",
    "        #Here I decided to make the SMALLER indexes in this array correspond to HIGHER S\n",
    "        \n",
    "        numTimestepsPerObs = contract.observationinterval/deltat\n",
    "        if abs(numTimestepsPerObs-round(numTimestepsPerObs)) > 1e-8:\n",
    "            raise ValueError(\"This value of N fails to place the observation dates in the tree.\")\n",
    "\n",
    "        nu = dynamics.rGrow - dynamics.sigma**2 / 2 \n",
    "        Pu = 0.5 * ((dynamics.sigma**2 * deltat+ nu**2 * deltat**2)/deltax**2 + nu * deltat/ deltax)\n",
    "        Pd = 0.5 * ((dynamics.sigma**2 * deltat+ nu**2 * deltat**2)/deltax**2 - nu * deltat/ deltax)\n",
    "        Pm = 1 - (dynamics.sigma**2 * deltat + nu**2 * deltat**2)/deltax**2\n",
    "        \n",
    "        \n",
    "        optionprice = np.maximum(contract.K-Sgrid,0)   #an array of time-T option prices.\n",
    "\n",
    "        #Next, induct backwards to time 0, updating the optionprice array\n",
    "        #Hint: if x is an array, then what are x[2:] and x[1:-1] and x[:-2]\n",
    "        \n",
    "        for t in np.linspace(self.N-1, 0, num=self.N, endpoint=True)*deltat:  \n",
    "            Sgrid = Sgrid[1:-1]\n",
    "            optionprice = np.exp(-dynamics.r * deltat) * (\n",
    "                    Pu * optionprice[2:] + Pm * optionprice[1:-1] + Pd * optionprice[:-2])\n",
    "            optionprice[Sgrid >= contract.barrier] = 0\n",
    "                    \n",
    "                    \n",
    "        return optionprice[0]\n",
    "        #The [0] is assuming that we are shrinking the optionprice array in each iteration of the loop,\n",
    "        #until finally there is only 1 element in the array.\n",
    "        #If instead you are keeping unchanged the size of the optionprice array in each iteration,\n",
    "        #then you need to change the [0] to a different index.\n"
   ]
  },
  {
   "cell_type": "code",
   "execution_count": 71,
   "metadata": {
    "id": "xWliOTz8aJEb",
    "scrolled": false
   },
   "outputs": [
    {
     "data": {
      "text/plain": [
       "4.0570732595509424"
      ]
     },
     "execution_count": 71,
     "metadata": {},
     "output_type": "execute_result"
    }
   ],
   "source": [
    "hw1tree=TreeEngine(N=100)\n",
    "\n",
    "hw1tree.price_upandout(hw1dynamics, hw1contract)"
   ]
  },
  {
   "cell_type": "markdown",
   "metadata": {},
   "source": [
    "### Question c1\n",
    "The time-0 price of a continuously-monitored barrier option is generally smaller than the time-0 price of a discretely-monitored option. This is because the continuous monitoring increases the likelihood of the barrier being breached (especially for knock-out options), thereby reducing the option's value due to the higher risk of the option becoming worthless before maturity.\n",
    "\n",
    "### Question c2\n"
   ]
  },
  {
   "cell_type": "markdown",
   "metadata": {
    "id": "_uVXGWC0aJEb"
   },
   "source": [
    "# Problem 2"
   ]
  },
  {
   "cell_type": "code",
   "execution_count": null,
   "metadata": {
    "id": "ty9eGSAyaJEb"
   },
   "outputs": [],
   "source": [
    "# uses the same GBMdynamics class as in Problem 1"
   ]
  },
  {
   "cell_type": "code",
   "execution_count": 6,
   "metadata": {
    "id": "bGJcARkZaJEb"
   },
   "outputs": [],
   "source": [
    "class CallOption:\n",
    "\n",
    "    def __init__(self, K, T, price=None):\n",
    "        self.K = K\n",
    "        self.T = T\n",
    "        self.price = price\n"
   ]
  },
  {
   "cell_type": "code",
   "execution_count": 48,
   "metadata": {
    "id": "ykgmm3cseKDt"
   },
   "outputs": [],
   "source": [
    "class AnalyticEngine:\n",
    "\n",
    "    def __init__(self):\n",
    "        pass\n",
    "\n",
    "    def BSpriceCall(self, dynamics, contract):\n",
    "        # ignores contract.price if given, because this function calculates price based on the dynamics\n",
    "\n",
    "        F = dynamics.S*np.exp(dynamics.rGrow*contract.T)\n",
    "        std = dynamics.sigma*np.sqrt(contract.T)\n",
    "        d1 = np.log(F/contract.K)/std+std/2\n",
    "        d2 = d1-std\n",
    "        return np.exp(-dynamics.r*contract.T)*(F*norm.cdf(d1)-contract.K*norm.cdf(d2))\n",
    "\n",
    "    def IV(self, dynamics, contract):\n",
    "        # ignores dynamics.sigma, because this function solves for sigma.\n",
    "\n",
    "        if contract.price is None:\n",
    "            raise ValueError('Contract price must be given')\n",
    "\n",
    "        df = np.exp(-dynamics.r*contract.T)  #discount factor\n",
    "        F = dynamics.S / df\n",
    "        lowerbound = np.max([0,(F-contract.K)*df])\n",
    "        C = contract.price\n",
    "        if C<lowerbound:\n",
    "            return np.nan\n",
    "        if C==lowerbound:\n",
    "            return 0\n",
    "        if C>=F*df:\n",
    "            return np.nan\n",
    "\n",
    "        dytry = copy(dynamics)\n",
    "        # We \"try\" values of sigma until we find sigma that generates price C\n",
    "\n",
    "        # First find lower and upper bounds\n",
    "        sigma_try = 0.2\n",
    "        while self.BSpriceCall(dytry.update_sigma(sigma_try),contract)>C:\n",
    "            sigma_try /= 2\n",
    "        while self.BSpriceCall(dytry.update_sigma(sigma_try),contract)<C:\n",
    "            sigma_try *= 2\n",
    "        hi = sigma_try\n",
    "        lo = hi/2\n",
    "        # We have calculated \"lo\" and \"hi\" which bound the implied volatility from below and above.\n",
    "        # In other words, the implied volatility is somewhere in the interval [lo,hi].\n",
    "        # Then, to calculate the implied volatility within that interval,\n",
    "        # for purposes of this homework, you may either (A) write your own bisection algorithm,\n",
    "        # or (B) use scipy.optimize.bisect or (C) use scipy.optimize.brentq\n",
    "        # You will need to provide lo and hi to those solvers.\n",
    "        # There are other solvers that do not require you to bound the solution\n",
    "        # from below and above (for instance, scipy.optimize.fsolve is a useful solver).\n",
    "        # However, if you are able to bound the solution (of a single-variable problem),\n",
    "        # then bisection or Brent will be more reliable.\n",
    "\n",
    "        impliedVolatility =      # you fill this in, using bisect or brentq imported from scipy.optimize,\n",
    "                                 # or by writing your own bisection algorithm.\n",
    "                                 # See further instructions in last line of notebook which calls this function\n",
    "        return impliedVolatility\n"
   ]
  },
  {
   "cell_type": "code",
   "execution_count": null,
   "metadata": {
    "id": "17EZED_TaJEc"
   },
   "outputs": [],
   "source": [
    "#Test the BSpriceCall function\n",
    "hw1analytic = AnalyticEngine()\n",
    "dynamics2 = GBMdynamics(sigma=0.4, rGrow=0, S=100, r=0)\n",
    "contract2 = CallOption(K=100, T=0.5)\n",
    "hw1analytic.BSpriceCall(dynamics2,contract2)"
   ]
  },
  {
   "cell_type": "code",
   "execution_count": null,
   "metadata": {
    "id": "FJQkc6dXaJEc"
   },
   "outputs": [],
   "source": [
    "#Test the IV function\n",
    "contract2.price = 12\n",
    "hw1analytic.IV(dynamics2,contract2)    # This code, EXACTLY AS WRITTEN HERE, must execute without crashing"
   ]
  },
  {
   "cell_type": "code",
   "execution_count": null,
   "metadata": {
    "id": "w480Jqp6UcZm"
   },
   "outputs": [],
   "source": []
  }
 ],
 "metadata": {
  "anaconda-cloud": {},
  "colab": {
   "provenance": []
  },
  "kernelspec": {
   "display_name": "Python 3 (ipykernel)",
   "language": "python",
   "name": "python3"
  },
  "language_info": {
   "codemirror_mode": {
    "name": "ipython",
    "version": 3
   },
   "file_extension": ".py",
   "mimetype": "text/x-python",
   "name": "python",
   "nbconvert_exporter": "python",
   "pygments_lexer": "ipython3",
   "version": "3.8.8"
  },
  "toc": {
   "base_numbering": 1,
   "nav_menu": {},
   "number_sections": true,
   "sideBar": true,
   "skip_h1_title": false,
   "title_cell": "Table of Contents",
   "title_sidebar": "Contents",
   "toc_cell": false,
   "toc_position": {},
   "toc_section_display": true,
   "toc_window_display": false
  }
 },
 "nbformat": 4,
 "nbformat_minor": 1
}
