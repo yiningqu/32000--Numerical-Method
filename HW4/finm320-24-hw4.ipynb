{
 "cells": [
  {
   "cell_type": "markdown",
   "metadata": {
    "id": "qSa_q3DlcXGA"
   },
   "source": [
    "# Question 1\n",
    "\n",
    "## (a)\n",
    "\n",
    "$$\n",
    "dS_t = \\sigma S_t^{1+\\alpha} dW_t, \\quad S_0 = 100\n",
    "$$\n",
    "\n",
    "$$\n",
    "dC(S_t,t) = \\left( \\frac{\\partial C}{\\partial t} dt \\right) + \\left( \\frac{\\partial C}{\\partial S_t} dS_t \\right) + \\frac{1}{2} \\frac{\\partial^2 C}{\\partial S_t^2} b^2 S_t^{2+2\\alpha} dt\n",
    "$$\n",
    "\n",
    "$$\n",
    "= \\left( \\frac{\\partial C}{\\partial t} dt \\right) + \\left( \\frac{\\partial C}{\\partial S_t} \\sigma  S_t^{1+\\alpha} dW_t \\right) + \\frac{1}{2} \\frac{\\partial^2 C}{\\partial S_t^2} \\sigma ^2 S_t^{2+2\\alpha} dt\n",
    "$$\n",
    "\n",
    "$$\n",
    "= \\left( \\frac{\\partial C}{\\partial t} + \\frac{1}{2} \\frac{\\partial^2 C}{\\partial S_t^2} \\sigma ^2 S_t^{2+2\\alpha} \\right) dt + \\frac{\\partial C}{\\partial S_t} \\sigma  S_t^{1+\\alpha} dW_t\n",
    "$$\n",
    "\n",
    "Therefore, the drift term is given by $rC$ and the corresponding PDE is:\n",
    "\n",
    "$$\n",
    "\\frac{\\partial C}{\\partial t} + \\frac{1}{2} \\frac{\\partial^2 C}{\\partial S_t^2} \\sigma ^2 S_t^{2+2\\alpha} + rS \\frac{\\partial C}{\\partial S_t} = rC\n",
    "$$\n",
    "\n",
    "with the terminal condition:\n",
    "\n",
    "$$\n",
    "C(S_T, T) = (K - S_T)^+\n",
    "$$"
   ]
  },
  {
   "cell_type": "code",
   "execution_count": 1,
   "metadata": {},
   "outputs": [
    {
     "name": "stderr",
     "output_type": "stream",
     "text": [
      "/opt/anaconda3/lib/python3.8/site-packages/scipy/__init__.py:146: UserWarning: A NumPy version >=1.16.5 and <1.23.0 is required for this version of SciPy (detected version 1.24.4\n",
      "  warnings.warn(f\"A NumPy version >={np_minversion} and <{np_maxversion}\"\n"
     ]
    }
   ],
   "source": [
    "import numpy as np\n",
    "from scipy.sparse import diags\n",
    "from scipy.sparse.linalg import spsolve"
   ]
  },
  {
   "cell_type": "code",
   "execution_count": 2,
   "metadata": {
    "id": "9dEnJPKncXGG"
   },
   "outputs": [],
   "source": [
    "class CEV:\n",
    "\n",
    "    def __init__(self,volcoeff,alpha,rGrow,r,S0):\n",
    "        self.volcoeff = volcoeff\n",
    "        self.alpha = alpha\n",
    "        self.rGrow = rGrow\n",
    "        self.r = r\n",
    "        self.S0 = S0\n"
   ]
  },
  {
   "cell_type": "code",
   "execution_count": 3,
   "metadata": {
    "id": "D4_xjFRocXGH"
   },
   "outputs": [],
   "source": [
    "hw4dynamics = CEV(volcoeff=3, alpha=-0.5, rGrow=0, r=0.05, S0=100)"
   ]
  },
  {
   "cell_type": "code",
   "execution_count": 4,
   "metadata": {
    "id": "Prv5ncTccXGI"
   },
   "outputs": [],
   "source": [
    "class Put:\n",
    "\n",
    "    def __init__(self,T,K):\n",
    "        self.T = T;\n",
    "        self.K = K;"
   ]
  },
  {
   "cell_type": "code",
   "execution_count": 5,
   "metadata": {
    "id": "iGTD-xqjcXGI"
   },
   "outputs": [],
   "source": [
    "hw4contract=Put(T=0.25,K=100)"
   ]
  },
  {
   "cell_type": "code",
   "execution_count": 6,
   "metadata": {
    "id": "E7UkBLQBcXGJ"
   },
   "outputs": [],
   "source": [
    "class FD_CrankNicolson_Engine:\n",
    "\n",
    "    def __init__(self,SMax,SMin,deltaS,deltat):\n",
    "        self.SMax=SMax\n",
    "        self.SMin=SMin\n",
    "        self.deltaS=deltaS\n",
    "        self.deltat=deltat\n",
    "\n",
    "\n",
    "    #You complete the coding of this function:\n",
    "\n",
    "    def price_put_CEV(self,contract,dynamics):\n",
    "    # returns array of all initial spots,\n",
    "    # and the corresponding array of put prices\n",
    "\n",
    "        alpha, r, rGrow, volcoeff = dynamics.alpha, dynamics.r, dynamics.rGrow, dynamics.volcoeff\n",
    "\n",
    "        # SMin and SMax denote the smallest and largest S in the _interior_.\n",
    "        # The boundary conditions are imposed one level _beyond_,\n",
    "        # e.g. at S_lowboundary=SMin-deltaS, not at SMin.\n",
    "        # To relate to lecture notation, S_lowboundary is S_{-J}\n",
    "        # whereas SMin is S_{-J+1}\n",
    "\n",
    "        N=round(contract.T/self.deltat)\n",
    "        if abs(N-contract.T/self.deltat)>1e-12:\n",
    "            raise ValueError('Bad time step')\n",
    "        numS=round((self.SMax-self.SMin)/self.deltaS)+1\n",
    "        if abs(numS-(self.SMax-self.SMin)/self.deltaS-1)>1e-12:\n",
    "            raise ValueError('Bad time step')\n",
    "        S=np.linspace(self.SMax,self.SMin,numS)    #The FIRST indices in this array are for HIGH levels of S\n",
    "        S_lowboundary=self.SMin-self.deltaS\n",
    "\n",
    "        putprice=np.maximum(contract.K-S,0)\n",
    "\n",
    "        ratio1 = self.deltat/self.deltaS\n",
    "        ratio2 = self.deltat/self.deltaS**2\n",
    "        \n",
    "        # 因为现在用的是C(S,t)所以都要乘以S\n",
    "        f = 0.5 * volcoeff**2 * S**(2*(1 + alpha)) \n",
    "        g = rGrow * S \n",
    "        h = -r \n",
    "        F = 0.5*ratio2*f + 0.25*ratio1*g\n",
    "        G =     ratio2*f - 0.50*self.deltat*h\n",
    "        H = 0.5*ratio2*f - 0.25*ratio1*g\n",
    "\n",
    "        #Right-hand-side matrix\n",
    "        RHSmatrix = diags([H[:-1], 1-G, F[1:]], [1,0,-1], shape=(numS,numS), format=\"csr\")\n",
    "\n",
    "        #Left-hand-side matrix\n",
    "        LHSmatrix = diags([-H[:-1], 1+G, -F[1:]], [1,0,-1], shape=(numS,numS), format=\"csr\")\n",
    "        # diags creates SPARSE matrices\n",
    "\n",
    "        for t in np.arange(N-1,-1,-1)*self.deltat:\n",
    "\n",
    "            rhs = RHSmatrix * putprice\n",
    "\n",
    "            #Now let's add the boundary condition vectors.\n",
    "            #They are nonzero only in the last component:\n",
    "            rhs[-1]=rhs[-1]+2*H[-1]*(contract.K-S_lowboundary)\n",
    "\n",
    "            putprice = spsolve(LHSmatrix, rhs)    \n",
    "            # numpy.linalg.solve, which expects arrays as inputs,\n",
    "            # is fine for small matrix equations, and for matrix equations without special structure.\n",
    "            # But for large matrix equations in which the matrix has special structure,\n",
    "            # we may want a more intelligent solver that can run faster\n",
    "            # by taking advantage of the special structure of the matrix.\n",
    "            # Specifically, in this case, let's try to use a solver that recognizes the SPARSE MATRIX structure.\n",
    "            # Try spsolve, imported from scipy.sparse.linalg\n",
    "            \n",
    "            # 因为是American所以要看是直接卖掉还是hold\n",
    "            putprice = np.maximum(putprice, contract.K-S)\n",
    "\n",
    "        return(S, putprice)"
   ]
  },
  {
   "cell_type": "code",
   "execution_count": 7,
   "metadata": {
    "id": "nwaxRJ-PcXGK"
   },
   "outputs": [],
   "source": [
    "hw4FD = FD_CrankNicolson_Engine(SMax=200,SMin=50,deltaS=0.1,deltat=0.0005)"
   ]
  },
  {
   "cell_type": "code",
   "execution_count": 8,
   "metadata": {
    "id": "fpAfjYMLcXGL"
   },
   "outputs": [],
   "source": [
    "(S0_all, putprice) = hw4FD.price_put_CEV(hw4contract,hw4dynamics)"
   ]
  },
  {
   "cell_type": "code",
   "execution_count": 9,
   "metadata": {
    "id": "Lrnc0OuDcXGM"
   },
   "outputs": [
    {
     "name": "stdout",
     "output_type": "stream",
     "text": [
      "[[100.1      5.8704]\n",
      " [100.       5.9183]\n",
      " [ 99.9      5.9665]]\n"
     ]
    }
   ],
   "source": [
    "# pricer_put_CEV_CrankNicolson gives us option prices for ALL S0 from SMin to SMax\n",
    "# But let's display only for a few S0 near 100:\n",
    "\n",
    "displayStart = hw4dynamics.S0-hw4FD.deltaS*1.5\n",
    "displayEnd   = hw4dynamics.S0+hw4FD.deltaS*1.5\n",
    "displayrows  = (S0_all>displayStart) & (S0_all<displayEnd)\n",
    "np.set_printoptions(precision=4, suppress=True)\n",
    "print(np.stack((S0_all, putprice),axis=1)[displayrows])"
   ]
  },
  {
   "cell_type": "markdown",
   "metadata": {},
   "source": [
    "## (c)\n",
    "\n",
    "$$\n",
    "\\begin{aligned}\n",
    "\\Delta &:= \\frac{\\partial C}{\\partial S} \\approx \\frac{C(S+\\Delta S, t) - C(S-\\Delta S, t)}{2\\Delta S} \\\\\n",
    "&= \\frac{5.8704 - 5.9665}{2 \\cdot 0.1} = -0.4805\n",
    "\\end{aligned}\n",
    "$$\n",
    "\n",
    "$$\n",
    "\\begin{aligned}\n",
    "\\Gamma &:= \\frac{\\partial^2 C}{\\partial S^2} \\approx \\frac{C(S+\\Delta S,t) - 2C(S,t) + C(S-\\Delta S,t)}{(\\Delta S)^2} \\\\\n",
    "&= \\frac{5.8704 - 2 \\cdot 5.9183 + 5.9665}{0.1^2} = 0.03\n",
    "\\end{aligned}\n",
    "$$\n",
    "\n",
    "## (d)\n"
   ]
  },
  {
   "cell_type": "code",
   "execution_count": 10,
   "metadata": {},
   "outputs": [
    {
     "name": "stdout",
     "output_type": "stream",
     "text": [
      "[[100.1      5.3973]\n",
      " [100.       5.442 ]\n",
      " [ 99.9      5.487 ]]\n"
     ]
    }
   ],
   "source": [
    "hw4dynamics2 = CEV(volcoeff=0.3, alpha=0, rGrow=0.05, r=0.05, S0=100)\n",
    "\n",
    "(S0_all, putprice) = hw4FD.price_put_CEV(hw4contract,hw4dynamics2)\n",
    "\n",
    "displayStart = hw4dynamics2.S0-hw4FD.deltaS*1.5 \n",
    "displayEnd   = hw4dynamics2.S0+hw4FD.deltaS*1.5\n",
    "displayrows  = (S0_all>displayStart) & (S0_all<displayEnd)\n",
    "np.set_printoptions(precision=4, suppress=True)\n",
    "print(np.stack((S0_all, putprice),axis=1)[displayrows])"
   ]
  },
  {
   "cell_type": "markdown",
   "metadata": {},
   "source": [
    "# Question 2\n",
    "\n",
    "## (a)"
   ]
  },
  {
   "cell_type": "code",
   "execution_count": 11,
   "metadata": {},
   "outputs": [
    {
     "name": "stdout",
     "output_type": "stream",
     "text": [
      "The expectation is 77.27%\n",
      "The standard deviation is 41.91%\n"
     ]
    }
   ],
   "source": [
    "def calculate_expectation_and_std_simple(wins, total):\n",
    "    # Calculate the expectation\n",
    "    E = wins / total\n",
    "    \n",
    "    # Calculate the standard deviation\n",
    "    std = np.sqrt((total - wins) / total * (0 - E) ** 2 + wins / total * (1 - E) ** 2)\n",
    "    \n",
    "    return E, std\n",
    "\n",
    "# Define parameters\n",
    "wins = 34\n",
    "total = 44\n",
    "\n",
    "# Calculate expectation and standard deviation\n",
    "expectation, std_deviation = calculate_expectation_and_std_simple(wins, total)\n",
    "\n",
    "# Format the results\n",
    "print(f\"The expectation is {expectation:.2%}\")\n",
    "print(f\"The standard deviation is {std_deviation:.2%}\")"
   ]
  },
  {
   "cell_type": "markdown",
   "metadata": {},
   "source": [
    "This scnario can be modeled as a Bernoulli process since Patrik's outcome is binary, either winning or losing. Extending this concept, it can be framed as a Binomial Distribution with only one trial, denoted as $n=1$. Here, the variable $X$, which ranges from 0 to 1, signifies the proportion of the pot that Patrik secures.\n",
    "\n",
    "For a Binomial Distribution, we have:\n",
    "$$\n",
    "\\mathbb{E}[X] = x \\times p = 1 \\times \\frac{34}{44} + 0\\times \\frac{10}{44}  = 0.7727\n",
    "$$\n",
    "$$\n",
    "\\text{Var}[X] = \\sigma^2[X] = \\mathbb{E}[X^2] - (\\mathbb{E}[X])^2 = x^2 \\times p \\times q = \\frac{34}{44} \\times \\frac{10}{44} = 0.1756\n",
    "$$\n",
    "\n",
    "$$\n",
    "\\text{Std}[X] = \\sigma[X] = \\sqrt{\\text{Var}[X]} = 0.4191\n",
    "$$\n",
    "\n",
    "\n",
    "\n",
    "\n",
    "## (b)"
   ]
  },
  {
   "cell_type": "code",
   "execution_count": 12,
   "metadata": {},
   "outputs": [
    {
     "name": "stdout",
     "output_type": "stream",
     "text": [
      "The expectation is 77.27%\n",
      "The standard deviation is 24.20%\n"
     ]
    }
   ],
   "source": [
    "import math\n",
    "\n",
    "def calculate_fraction_expectation_and_std(wins, total, trials):\n",
    "    # Calculate expectation\n",
    "    expectation = trials * (wins / total) * (1/trials)\n",
    "    \n",
    "    # Calculate variance\n",
    "    variance = trials * ((wins / total) * (1 - wins / total)) / (trials**2)\n",
    "    \n",
    "    # Standard deviation\n",
    "    std_deviation = math.sqrt(variance)\n",
    "    \n",
    "    return expectation, std_deviation\n",
    "\n",
    "# Define parameters\n",
    "wins = 34\n",
    "total = 44\n",
    "trials = 3\n",
    "\n",
    "# Calculate expectation and standard deviation\n",
    "expectation, std_deviation = calculate_fraction_expectation_and_std(wins, total, trials)\n",
    "\n",
    "# Print the results with formatting\n",
    "print(f\"The expectation is {expectation:.2%}\")\n",
    "print(f\"The standard deviation is {std_deviation:.2%}\")\n"
   ]
  },
  {
   "cell_type": "markdown",
   "metadata": {},
   "source": [
    "For the total expectation, with \\( n = 3 \\), by replacement, we have:\n",
    "\n",
    "$$\n",
    "\\mathbb{E} [X] = \\mathbb{E}[X_1] + \\mathbb{E}[X_2] + \\mathbb{E}[X_3] = x \\times n \\times p = \\frac{1}{3} \\times 3 \\times \\frac{34}{44} = 0.77273\n",
    "$$\n",
    "\n",
    "$$\n",
    "\\text{Var}[X] = \\text{Var}[X_1] + \\text{Var}[X_2] + \\text{Var}[X_3] = x^2 \\times n \\times p \\times q = \\left(\\frac{1}{3}\\right)^2 \\times 3 \\times \\frac{34}{44} \\times \\frac{10}{44} = 0.05854\n",
    "$$\n",
    "\n",
    "$$\n",
    "\\text{Std}[X] = \\sqrt{\\text{VAR}[X]} = 0.24195\n",
    "$$\n",
    "\n",
    "## (c)"
   ]
  },
  {
   "cell_type": "code",
   "execution_count": 13,
   "metadata": {},
   "outputs": [
    {
     "name": "stdout",
     "output_type": "stream",
     "text": [
      "The expectation is 77.27%.\n",
      "The standard deviation is 23.63%.\n"
     ]
    }
   ],
   "source": [
    "import math\n",
    "def calculate_hypergeometric_expectation_std(total_wins, total_losses, num_draws):\n",
    "    total_outcomes = total_wins + total_losses\n",
    "    E = 0\n",
    "    VAR = 0\n",
    "    \n",
    "    # Calculate the expectation\n",
    "    for i in range(num_draws + 1):\n",
    "        pi = math.comb(total_wins, i) * math.comb(total_losses, num_draws - i) / math.comb(total_outcomes, num_draws)\n",
    "        E += pi * i / num_draws\n",
    "    \n",
    "    # Calculate the variance\n",
    "    for i in range(num_draws + 1):\n",
    "        pi = math.comb(total_wins, i) * math.comb(total_losses, num_draws - i) / math.comb(total_outcomes, num_draws)\n",
    "        VAR += pi * ((i / num_draws) - E) ** 2\n",
    "    \n",
    "    # Calculate standard deviation\n",
    "    std = math.sqrt(VAR)\n",
    "    \n",
    "    return E, std\n",
    "\n",
    "# usage with provided values\n",
    "total_wins = 34\n",
    "total_losses = 10\n",
    "num_draws = 3\n",
    "E, std = calculate_hypergeometric_expectation_std(total_wins, total_losses, num_draws)\n",
    "\n",
    "# Formatting the results\n",
    "print(f\"The expectation is {E:.2%}.\")\n",
    "print(f\"The standard deviation is {std:.2%}.\")\n",
    "\n",
    "\n"
   ]
  },
  {
   "cell_type": "markdown",
   "metadata": {},
   "source": [
    "For the total expectation without replacement:\n",
    "\n",
    "The corresponding payout (fractional total pot) for each $X$ is 0, $\\frac{1}{3}$, $\\frac{2}{3}$, and 1. We have:\n",
    "\n",
    "$$\n",
    "P(X = 0) = \\frac{{\\binom{34}{0} \\binom{10}{3}}}{{\\binom{44}{3}}} = 0.00906\n",
    "$$\n",
    "\n",
    "$$\n",
    "P(X = 1) = \\frac{{\\binom{34}{1} \\binom{10}{2}}}{{\\binom{44}{3}}} = 0.11552\n",
    "$$\n",
    "\n",
    "$$\n",
    "P(X = 2) = \\frac{{\\binom{34}{2} \\binom{10}{1}}}{{\\binom{44}{3}}} = 0.42359\n",
    "$$\n",
    "\n",
    "$$\n",
    "P(X = 3) = \\frac{{\\binom{34}{3} \\binom{10}{0}}}{{\\binom{44}{3}}} = 0.45183\n",
    "$$\n",
    "\n",
    "\n",
    "$$\n",
    "\\mathbb{E}[X] = 0 \\times P(X = 0) + \\frac{1}{3} \\times P(X = 1) + \\frac{2}{3} \\times P(X = 2) + 1 \\times P(X = 3) = 0.77273\n",
    "$$\n",
    "\n",
    "$$\n",
    "\\mathbb{E}[X^2] = 0^2 \\times P(X = 0) + \\left( \\frac{1}{3} \\right)^2 \\times P(X = 1) + \\left( \\frac{2}{3} \\right)^2 \\times P(X = 2) + 1^2 \\times P(X = 3) = 0.65292\n",
    "$$\n",
    "\n",
    "$$\n",
    "\\text{Var}[X] = \\mathbb{E}[X^2] - (\\mathbb{E}[X])^2 = 0.05582\n",
    "$$\n",
    "\n",
    "$$\n",
    "\\text{Std}[X] = \\sqrt{\\text{Var}[X]} = 0.23626\n",
    "$$\n",
    "\n",
    "The standard deviation is smaller without replacement. This result makes sense because the reduced variability in the card deck due to not replacing cards leads to less variance in outcomes, making extreme results slightly less probable.\n"
   ]
  }
 ],
 "metadata": {
  "anaconda-cloud": {},
  "colab": {
   "provenance": []
  },
  "kernelspec": {
   "display_name": "Python 3 (ipykernel)",
   "language": "python",
   "name": "python3"
  },
  "language_info": {
   "codemirror_mode": {
    "name": "ipython",
    "version": 3
   },
   "file_extension": ".py",
   "mimetype": "text/x-python",
   "name": "python",
   "nbconvert_exporter": "python",
   "pygments_lexer": "ipython3",
   "version": "3.8.8"
  },
  "toc": {
   "base_numbering": 1,
   "nav_menu": {},
   "number_sections": true,
   "sideBar": true,
   "skip_h1_title": false,
   "title_cell": "Table of Contents",
   "title_sidebar": "Contents",
   "toc_cell": false,
   "toc_position": {},
   "toc_section_display": true,
   "toc_window_display": false
  }
 },
 "nbformat": 4,
 "nbformat_minor": 1
}
