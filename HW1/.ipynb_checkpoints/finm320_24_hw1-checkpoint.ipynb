{
 "cells": [
  {
   "cell_type": "code",
   "execution_count": 1,
   "metadata": {
    "id": "-NynHt7uaJEW"
   },
   "outputs": [
    {
     "name": "stderr",
     "output_type": "stream",
     "text": [
      "/opt/anaconda3/lib/python3.8/site-packages/scipy/__init__.py:146: UserWarning: A NumPy version >=1.16.5 and <1.23.0 is required for this version of SciPy (detected version 1.24.4\n",
      "  warnings.warn(f\"A NumPy version >={np_minversion} and <{np_maxversion}\"\n"
     ]
    }
   ],
   "source": [
    "import numpy as np\n",
    "from scipy.stats import norm\n",
    "from scipy.optimize import bisect, brentq\n",
    "from copy import copy"
   ]
  },
  {
   "cell_type": "markdown",
   "metadata": {
    "id": "lzNNfR6eaJEY"
   },
   "source": [
    "# Problem 1"
   ]
  },
  {
   "cell_type": "code",
   "execution_count": 2,
   "metadata": {
    "id": "FH5lK0IDaJEZ"
   },
   "outputs": [],
   "source": [
    "class UpAndOutPut:\n",
    "\n",
    "    def __init__(self, K, T, barrier, observationinterval):\n",
    "        self.K = K\n",
    "        self.T = T\n",
    "        self.barrier = barrier\n",
    "        self.observationinterval = observationinterval"
   ]
  },
  {
   "cell_type": "code",
   "execution_count": 3,
   "metadata": {
    "id": "zu38EM-xaJEZ"
   },
   "outputs": [],
   "source": [
    "hw1contract = UpAndOutPut(K=95, T=0.25, barrier=114, observationinterval=0.02)"
   ]
  },
  {
   "cell_type": "code",
   "execution_count": 4,
   "metadata": {
    "id": "3QnpHnhEaJEa"
   },
   "outputs": [],
   "source": [
    "class GBMdynamics:\n",
    "\n",
    "    def __init__(self, S, r, rGrow, sigma=None):\n",
    "        self.S = S\n",
    "        self.r = r\n",
    "        self.rGrow = rGrow\n",
    "        self.sigma = sigma\n",
    "\n",
    "    def update_sigma(self, sigma):\n",
    "        self.sigma = sigma\n",
    "        return self"
   ]
  },
  {
   "cell_type": "code",
   "execution_count": 5,
   "metadata": {
    "id": "OlOqBwRSaJEa"
   },
   "outputs": [],
   "source": [
    "hw1dynamics = GBMdynamics(S=100, sigma=0.4, rGrow=0, r=0)"
   ]
  },
  {
   "cell_type": "code",
   "execution_count": 6,
   "metadata": {
    "id": "yxrJL5bIaJEa"
   },
   "outputs": [],
   "source": [
    "class TreeEngine:\n",
    "\n",
    "    def __init__(self, N):\n",
    "        self.N = N\n",
    "\n",
    "    def price_upandout(self, dynamics, contract):\n",
    "\n",
    "        deltat = contract.T / self.N\n",
    "        # J is the level\n",
    "        # np.ceil rounds up to integer: eg. 3.1 -> 4\n",
    "        J = np.ceil(np.log(contract.barrier/dynamics.S)/(dynamics.sigma*np.sqrt(3*deltat))-0.5)\n",
    "        # ensure price is checked at barrier level at right place\n",
    "        deltax = np.log(contract.barrier/dynamics.S)/(J+0.5)\n",
    "        \n",
    "        # Possible stock price at maturity date T\n",
    "        Sgrid = dynamics.S*np.exp(np.linspace(self.N, -self.N, num=2*self.N+1, endpoint=True)*deltax)\n",
    "        #Here I decided to make the SMALLER indexes in this array correspond to HIGHER S\n",
    "        \n",
    "        numTimestepsPerObs = contract.observationinterval/deltat\n",
    "        if abs(numTimestepsPerObs-round(numTimestepsPerObs)) > 1e-8:\n",
    "            raise ValueError(\"This value of N fails to place the observation dates in the tree.\")\n",
    "\n",
    "        nu = dynamics.rGrow - dynamics.sigma**2 / 2 \n",
    "        Pu = 0.5 * ((dynamics.sigma**2 * deltat+ nu**2 * deltat**2)/deltax**2 + nu * deltat/ deltax)\n",
    "        Pd = 0.5 * ((dynamics.sigma**2 * deltat+ nu**2 * deltat**2)/deltax**2 - nu * deltat/ deltax)\n",
    "        Pm = 1 - (dynamics.sigma**2 * deltat + nu**2 * deltat**2)/deltax**2\n",
    "        \n",
    "        \n",
    "        optionprice = np.maximum(contract.K-Sgrid,0)   #an array of time-T option prices.\n",
    "\n",
    "        #Next, induct backwards to time 0, updating the optionprice array\n",
    "        #Hint: if x is an array, then what are x[2:] and x[1:-1] and x[:-2]\n",
    "        \n",
    "        for t in np.linspace(self.N-1, 0, num=self.N, endpoint=True)*deltat:\n",
    "            Sgrid = Sgrid[1:-1]\n",
    "            optionprice_new = optionprice[1:-1].copy()\n",
    "            optionprice_new = np.exp(-dynamics.r * deltat) * (optionprice[:-2] * Pu + optionprice[1:-1] * Pm + optionprice[2:] * Pd)\n",
    "            if abs(t % contract.observationinterval) < 1e-8:\n",
    "                optionprice_new[Sgrid >= contract.barrier] = 0\n",
    "            optionprice = optionprice_new\n",
    "                    \n",
    "                    \n",
    "        return optionprice[0]\n",
    "        #The [0] is assuming that we are shrinking the optionprice array in each iteration of the loop,\n",
    "        #until finally there is only 1 element in the array.\n",
    "        #If instead you are keeping unchanged the size of the optionprice array in each iteration,\n",
    "        #then you need to change the [0] to a different index.\n"
   ]
  },
  {
   "cell_type": "markdown",
   "metadata": {},
   "source": [
    "### Question a"
   ]
  },
  {
   "cell_type": "code",
   "execution_count": 7,
   "metadata": {
    "id": "xWliOTz8aJEb",
    "scrolled": false
   },
   "outputs": [
    {
     "data": {
      "text/plain": [
       "5.301058572352042"
      ]
     },
     "execution_count": 7,
     "metadata": {},
     "output_type": "execute_result"
    }
   ],
   "source": [
    "hw1tree=TreeEngine(N=100000)\n",
    "\n",
    "up_and_out_put = hw1tree.price_upandout(hw1dynamics, hw1contract)\n",
    "up_and_out_put"
   ]
  },
  {
   "cell_type": "markdown",
   "metadata": {},
   "source": [
    "### Question b"
   ]
  },
  {
   "cell_type": "code",
   "execution_count": 8,
   "metadata": {},
   "outputs": [
    {
     "data": {
      "text/plain": [
       "0.2184798593080437"
      ]
     },
     "execution_count": 8,
     "metadata": {},
     "output_type": "execute_result"
    }
   ],
   "source": [
    "# Vanilla put = up-and-out put + up-and-in put\n",
    "# up-and-in put = Vanilla put - up-and-out put\n",
    "vanilla_contract = UpAndOutPut(K=95, T=0.25, barrier=100000000, observationinterval=0.02)\n",
    "vanilla_put = hw1tree.price_upandout(hw1dynamics, vanilla_contract)\n",
    "up_and_in_put = vanilla_put - up_and_out_put\n",
    "up_and_in_put"
   ]
  },
  {
   "cell_type": "markdown",
   "metadata": {},
   "source": [
    "### Question c1\n",
    "The time-0 price of a continuously-monitored barrier option is generally smaller than the time-0 price of a discretely-monitored option. The continuous monitoring increases the likelihood of the barrier being breached (especially for knock-out options), thereby reducing the option's value due to the higher risk of the option becoming worthless before maturity. The discrete monitaring dates is a subset of the continuous monitaring dates, so the paths whose values are zero in the discrete case is a subset of the paths with value zero in the continuous case.\n",
    "\n",
    "### Question c2\n",
    "\n",
    "Scenario 1: Here, the stock price $S$ never reaches the barrier level before the expiry time $T$. For a non-knockout up-and-out put option, the outcome is identical to that of a standard vanilla put option, provided $S_T \\leq 114$. This means, for the call option, since $S_T$ cannot exceed 114 without triggering the barrier, the call option's value, represented as $(S_T - 136.8)^+$, equals 0. Consequently, the value from the vanilla put option in the portfolio is $(95-S_T)^+$, effectively replicating the barrier option's payoff in this scenario.\n",
    "\n",
    "Scenario 2: When $S$ hits or exceeds the barrier prior to $T$, the payoff defaults to zero, regardless of the specific time the barrier is breached. In this case, the goal is to adjust $\\alpha$ so that the portfolio's value, composed of the vanilla put and $-\\alpha$ units of the vanilla call, equals zero at any given time within $[0, T]$.\n",
    "\n",
    "To solve for $\\alpha$, the strategy is to equalize the portfolio's value to zero at $t=0$, using the barrier level as the asset price. This establishes $\\alpha$ as the ratio of the put option's value $P_t$ to the call option's value $C_t$, i.e., $\\alpha = \\frac{P_t}{C_t}$.\n",
    "\n",
    "By calculating this ratio at $t=0$ and assuming a zero interest rate ($r=0$), we find $\\alpha$ analytically as:\n",
    "\n",
    "$\\alpha = \\frac{P_0}{C_0} = \\frac{95\\cdot N (- \\frac{\\text{log}(114/95)}{0.4\\cdot\\sqrt{0.25}} + \\frac{0.4\\cdot\\sqrt{0.25}}{2})- 114 \\cdot N (- \\frac{\\text{log}(114/95)}{0.4\\cdot\\sqrt{0.25}} - \\frac{0.4\\cdot\\sqrt{0.25}}{2})}{114 \\cdot N (\\frac{\\text{log}(114/136.8)}{0.4\\cdot\\sqrt{0.25}} + \\frac{0.4\\cdot\\sqrt{0.25}}{2}) - 136.8\\cdot N (\\frac{\\text{log}(114/136.8)}{0.4\\cdot\\sqrt{0.25}} - \\frac{0.4\\cdot\\sqrt{0.25}}{2}) }  = \\frac{5}{6}\\approx 0.8333$"
   ]
  },
  {
   "cell_type": "code",
   "execution_count": 9,
   "metadata": {},
   "outputs": [
    {
     "name": "stdout",
     "output_type": "stream",
     "text": [
      "alpha is 0.833\n",
      "time-0 value of the continuously-monitored barrier option is 5.032\n"
     ]
    }
   ],
   "source": [
    "# P(St=114) - alpha * C(St=114) = 0\n",
    "# alpha = P(St=114) / C(St=114)\n",
    "def black_scholes_call(S, K, T, r, sigma):\n",
    "    # Calculate d1 and d2\n",
    "    d1 = (np.log(S / K) + (r + 0.5 * sigma**2) * T) / (sigma * np.sqrt(T))\n",
    "    d2 = d1 - sigma * np.sqrt(T)\n",
    "    \n",
    "    # Calculate the call price\n",
    "    call_price = (S * norm.cdf(d1) - K * np.exp(-r * T) * norm.cdf(d2))\n",
    "    return call_price\n",
    "\n",
    "def black_scholes_put(S, K, T, r, sigma):\n",
    "    # Calculate d1 and d2\n",
    "    d1 = (np.log(S / K) + (r + 0.5 * sigma**2) * T) / (sigma * np.sqrt(T))\n",
    "    d2 = d1 - sigma * np.sqrt(T)\n",
    "    \n",
    "    # Calculate the put price\n",
    "    put_price = (K * np.exp(-r * T) * norm.cdf(-d2) - S * norm.cdf(-d1))\n",
    "    return put_price\n",
    "\n",
    "put_price = black_scholes_put(S=114, K=95, T=0.25, r=0, sigma=0.4)\n",
    "call_price = black_scholes_call(S=114, K=136.8, T=0.25, r=0, sigma=0.4)\n",
    "alpha = put_price/call_price\n",
    "print(\"alpha is \" + str(round(alpha,3)))\n",
    "\n",
    "put_price_rep = black_scholes_put(S=100, K=95, T=0.25, r=0, sigma=0.4)\n",
    "call_price_rep = black_scholes_call(S=100, K=136.8, T=0.25, r=0, sigma=0.4)\n",
    "option_price = put_price_rep - alpha * call_price_rep\n",
    "print(\"time-0 value of the continuously-monitored barrier option is \" + str(round(option_price,3)))"
   ]
  },
  {
   "cell_type": "markdown",
   "metadata": {
    "id": "_uVXGWC0aJEb"
   },
   "source": [
    "# Problem 2"
   ]
  },
  {
   "cell_type": "code",
   "execution_count": 10,
   "metadata": {
    "id": "ty9eGSAyaJEb"
   },
   "outputs": [],
   "source": [
    "# uses the same GBMdynamics class as in Problem 1"
   ]
  },
  {
   "cell_type": "code",
   "execution_count": 11,
   "metadata": {
    "id": "bGJcARkZaJEb"
   },
   "outputs": [],
   "source": [
    "class CallOption:\n",
    "\n",
    "    def __init__(self, K, T, price=None):\n",
    "        self.K = K\n",
    "        self.T = T\n",
    "        self.price = price\n"
   ]
  },
  {
   "cell_type": "code",
   "execution_count": 12,
   "metadata": {
    "id": "ykgmm3cseKDt"
   },
   "outputs": [],
   "source": [
    "class AnalyticEngine:\n",
    "\n",
    "    def __init__(self):\n",
    "        pass\n",
    "\n",
    "    def BSpriceCall(self, dynamics, contract):\n",
    "        # ignores contract.price if given, because this function calculates price based on the dynamics\n",
    "\n",
    "        F = dynamics.S*np.exp(dynamics.rGrow*contract.T)\n",
    "        std = dynamics.sigma*np.sqrt(contract.T)\n",
    "        d1 = np.log(F/contract.K)/std+std/2\n",
    "        d2 = d1-std\n",
    "        #return call option price using black scholes\n",
    "        return np.exp(-dynamics.r*contract.T)*(F*norm.cdf(d1)-contract.K*norm.cdf(d2))\n",
    "\n",
    "    def IV(self, dynamics, contract):\n",
    "        # ignores dynamics.sigma, because this function solves for sigma.\n",
    "\n",
    "        if contract.price is None:\n",
    "            raise ValueError('Contract price must be given')\n",
    "\n",
    "        df = np.exp(-dynamics.r*contract.T)  #discount factor\n",
    "        F = dynamics.S / df\n",
    "        lowerbound = np.max([0,(F-contract.K)*df])\n",
    "        C = contract.price\n",
    "        if C<lowerbound:\n",
    "            return np.nan\n",
    "        if C==lowerbound:\n",
    "            return 0\n",
    "        if C>=F*df:\n",
    "            return np.nan\n",
    "\n",
    "        dytry = copy(dynamics)\n",
    "        # We \"try\" values of sigma until we find sigma that generates price C\n",
    "\n",
    "        # First find lower and upper bounds\n",
    "        sigma_try = 0.2\n",
    "        while self.BSpriceCall(dytry.update_sigma(sigma_try),contract)>C:\n",
    "            sigma_try /= 2\n",
    "        while self.BSpriceCall(dytry.update_sigma(sigma_try),contract)<C:\n",
    "            sigma_try *= 2\n",
    "        hi = sigma_try\n",
    "        lo = hi/2\n",
    "        # We have calculated \"lo\" and \"hi\" which bound the implied volatility from below and above.\n",
    "        # In other words, the implied volatility is somewhere in the interval [lo,hi].\n",
    "        # Then, to calculate the implied volatility within that interval,\n",
    "        # for purposes of this homework, you may either (A) write your own bisection algorithm,\n",
    "        # or (B) use scipy.optimize.bisect or (C) use scipy.optimize.brentq\n",
    "        # You will need to provide lo and hi to those solvers.\n",
    "        # There are other solvers that do not require you to bound the solution\n",
    "        # from below and above (for instance, scipy.optimize.fsolve is a useful solver).\n",
    "        # However, if you are able to bound the solution (of a single-variable problem),\n",
    "        # then bisection or Brent will be more reliable.\n",
    "        \n",
    "        \n",
    "        #returns the difference between the calculated Black-Scholes price and the market price for a given volatility\n",
    "        def IV_root(sigma):\n",
    "            return self.BSpriceCall(dytry.update_sigma(sigma),contract) - C\n",
    "        \n",
    "        impliedVolatility = bisect(IV_root, lo, hi)      \n",
    "        \n",
    "        return impliedVolatility\n"
   ]
  },
  {
   "cell_type": "code",
   "execution_count": 13,
   "metadata": {
    "id": "17EZED_TaJEc"
   },
   "outputs": [
    {
     "data": {
      "text/plain": [
       "11.246291601828489"
      ]
     },
     "execution_count": 13,
     "metadata": {},
     "output_type": "execute_result"
    }
   ],
   "source": [
    "#Test the BSpriceCall function\n",
    "hw1analytic = AnalyticEngine()\n",
    "dynamics2 = GBMdynamics(sigma=0.4, rGrow=0, S=100, r=0)\n",
    "contract2 = CallOption(K=100, T=0.5)\n",
    "hw1analytic.BSpriceCall(dynamics2,contract2)"
   ]
  },
  {
   "cell_type": "code",
   "execution_count": 14,
   "metadata": {
    "id": "FJQkc6dXaJEc"
   },
   "outputs": [
    {
     "data": {
      "text/plain": [
       "0.427005424113304"
      ]
     },
     "execution_count": 14,
     "metadata": {},
     "output_type": "execute_result"
    }
   ],
   "source": [
    "#Test the IV function\n",
    "contract2.price = 12\n",
    "hw1analytic.IV(dynamics2,contract2)    # This code, EXACTLY AS WRITTEN HERE, must execute without crashing"
   ]
  },
  {
   "cell_type": "markdown",
   "metadata": {
    "id": "w480Jqp6UcZm"
   },
   "source": [
    "### Question a"
   ]
  },
  {
   "cell_type": "code",
   "execution_count": 15,
   "metadata": {},
   "outputs": [
    {
     "name": "stdout",
     "output_type": "stream",
     "text": [
      "The time-0 Black-Scholes implied volatilities for 0.5 year European call is 0.40013278092228577\n",
      "The time-0 Black-Scholes implied volatilities for 1 year European call is 0.3019384309925955\n"
     ]
    }
   ],
   "source": [
    "contract2.price = 11.25\n",
    "contract3 = CallOption(K=100, T=1, price=12)\n",
    "IV1 = hw1analytic.IV(dynamics2,contract2)\n",
    "IV2 = hw1analytic.IV(dynamics2,contract3)\n",
    "print(\"The time-0 Black-Scholes implied volatilities for 0.5 year European call is \" + str(IV1))\n",
    "print(\"The time-0 Black-Scholes implied volatilities for 1 year European call is \" + str(IV2))"
   ]
  },
  {
   "cell_type": "markdown",
   "metadata": {},
   "source": [
    "### Question b"
   ]
  },
  {
   "cell_type": "code",
   "execution_count": 16,
   "metadata": {},
   "outputs": [
    {
     "name": "stdout",
     "output_type": "stream",
     "text": [
      "The time 0 price of the 0.75-expiry call is 12.082\n"
     ]
    }
   ],
   "source": [
    "# Part (b)\n",
    "contract4 = CallOption(K=100, T=0.75)\n",
    "dynamics3 = GBMdynamics(sigma= (IV1 + IV2)/2, rGrow=0, S=100, r=0)\n",
    "price_75 = round(hw1analytic.BSpriceCall(dynamics3,contract4), 3)\n",
    "print(\"The time 0 price of the 0.75-expiry call is \" + str(price_75))"
   ]
  },
  {
   "cell_type": "markdown",
   "metadata": {},
   "source": [
    "### Question c\n",
    "\n",
    "Assume cash settlement. \n",
    "\n",
    "At time 0, short 1 unit of the 0.75-expiry call option in part (b), and long 1 unit of the 1-year expiry call option in part (a). The net value at time 0 is calculated as 12 - 12.082 = -0.082.\n",
    "\n",
    "When $S_{0.75} <= 100$, the 0.75-year expiry call option expires worthless, but the 1-year expiry call option still has value which result in a zero or positive net value at time 1. This is Type-2 arbitrage\n",
    "\n",
    "When $S_{0.75} > 100$, the 0.75-year expiry call option is executed. Thus, we sell 1-year expiry call option to pay the money $S_{0.75} - 100$. The net value =  price of 1-year expiry call at $0.75 - (S_{0.75} - 100) >= (S_0.75 - 100) - (S_0.75 - 100) = 0$ because price of a call option is always at least as great as its intrinsic value. Therefore, the net value at time 0.75 is non-negative, leading to Type-2 arbitrage"
   ]
  },
  {
   "cell_type": "code",
   "execution_count": null,
   "metadata": {},
   "outputs": [],
   "source": []
  }
 ],
 "metadata": {
  "anaconda-cloud": {},
  "colab": {
   "provenance": []
  },
  "kernelspec": {
   "display_name": "Python 3 (ipykernel)",
   "language": "python",
   "name": "python3"
  },
  "language_info": {
   "codemirror_mode": {
    "name": "ipython",
    "version": 3
   },
   "file_extension": ".py",
   "mimetype": "text/x-python",
   "name": "python",
   "nbconvert_exporter": "python",
   "pygments_lexer": "ipython3",
   "version": "3.8.8"
  },
  "toc": {
   "base_numbering": 1,
   "nav_menu": {},
   "number_sections": true,
   "sideBar": true,
   "skip_h1_title": false,
   "title_cell": "Table of Contents",
   "title_sidebar": "Contents",
   "toc_cell": false,
   "toc_position": {},
   "toc_section_display": true,
   "toc_window_display": false
  }
 },
 "nbformat": 4,
 "nbformat_minor": 1
}
