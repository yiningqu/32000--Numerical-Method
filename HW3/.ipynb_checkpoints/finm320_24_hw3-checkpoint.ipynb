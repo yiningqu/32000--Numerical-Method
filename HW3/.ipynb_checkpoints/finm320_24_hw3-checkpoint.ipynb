{
 "cells": [
  {
   "cell_type": "markdown",
   "metadata": {
    "id": "MjZ7LuUcTu17"
   },
   "source": [
    "## **Problem 1**\n",
    "\n",
    "### (a)\n",
    "\n",
    "The short rate (the instantaneous spot rate of interest) follows the process\n",
    "\n",
    "$dr_t= \\alpha(r_t, t)dt + \\beta(r_t, t)dW_t$.\n",
    "\n",
    "Applying Ito's rule, we can get:\n",
    "\n",
    "$$dC_t = \\frac{\\partial{C}}{\\partial{t}}dt +\\frac{\\partial{C}}{\\partial{r_t}}dr_t + \\frac{1}{2}\\frac{\\partial{^2C}}{\\partial{r_t^2}}(dr_t)^2$$\n",
    "$$= \\frac{\\partial{C}}{\\partial{t}}dt +\\frac{\\partial{C}}{\\partial{r_t}} (\\alpha(r_t, t)dt + \\beta(r_t, t)dW_t) + \\frac{1}{2}\\frac{\\partial{^2C}}{\\partial{r_t^2}} (\\beta^2(r_t, t)dt)$$\n",
    "$$= (\\frac{\\partial{C}}{\\partial{t}} + \\frac{\\partial{C}}{\\partial{r_t}} \\alpha(r_t, t) + \\frac{1}{2}\\frac{\\partial{^2C}}{\\partial{r_t^2}} \\beta^2(r_t, t)) dt + \\frac{\\partial{C}}{\\partial{r_t}} \\beta(r_t, t)dW_t$$\n",
    "\n",
    "\n",
    "Setting drift equal to $rC$, we obtain the PDE:\n",
    "\n",
    "$$\\frac{\\partial{C}}{\\partial{t}} + \\frac{\\partial{C}}{\\partial{r_t}} \\alpha(r_t, t) + \\frac{1}{2}\\frac{\\partial{^2C}}{\\partial{r_t^2}} \\beta^2(r_t, t) = rC$$\n",
    "\n",
    "$\\alpha(r_t, t) = \\kappa(\\theta - r_t), \\beta(r_t, t) = \\sigma$.  We have\n",
    "\n",
    "\n",
    "$$C^{j}_{n} = \\frac{1}{1+r_t\\Delta t}(q_u C^{j+1}_{n+1} + q_m C^{j}_{n+1} + q_d C^{j-1}_{n+1})$$\n",
    "\n",
    "where\n",
    "\n",
    "$$q_u = \\frac{1}{2}[\\frac{\\sigma^2 \\Delta t}{(\\Delta r_t)^2} + \\frac{\\nu \\Delta t}{\\Delta r_t}]$$\n",
    "\n",
    "$$q_m = 1- \\frac{\\sigma^2 \\Delta t}{(\\Delta r_t)^2}$$\n",
    "\n",
    "$$q_d = \\frac{1}{2}[\\frac{\\sigma^2 \\Delta t}{(\\Delta r_t)^2} - \\frac{\\nu \\Delta t}{\\Delta r_t}]$$\n"
   ]
  },
  {
   "cell_type": "code",
   "execution_count": 1,
   "metadata": {},
   "outputs": [],
   "source": [
    "import numpy as np"
   ]
  },
  {
   "cell_type": "code",
   "execution_count": 2,
   "metadata": {
    "id": "3LaJWkN1Tu1_"
   },
   "outputs": [],
   "source": [
    "class Vasicek:\n",
    "\n",
    "    def __init__(self,kappa,theta,sigma):\n",
    "        self.kappa=kappa\n",
    "        self.theta=theta\n",
    "        self.sigma=sigma"
   ]
  },
  {
   "cell_type": "code",
   "execution_count": 3,
   "metadata": {
    "id": "el5nStVUTu2A"
   },
   "outputs": [],
   "source": [
    "hw3dynamics = Vasicek(kappa=3,theta=0.05,sigma=0.03)"
   ]
  },
  {
   "cell_type": "code",
   "execution_count": 4,
   "metadata": {
    "id": "riJtW90ITu2B"
   },
   "outputs": [],
   "source": [
    "class Bond:\n",
    "\n",
    "    def __init__(self, T):\n",
    "        self.T=T\n"
   ]
  },
  {
   "cell_type": "code",
   "execution_count": 5,
   "metadata": {
    "id": "-o3SCZyDTu2B"
   },
   "outputs": [],
   "source": [
    "hw3contract = Bond(T=5)"
   ]
  },
  {
   "cell_type": "code",
   "execution_count": 6,
   "metadata": {
    "id": "ppGipd6OTu2C"
   },
   "outputs": [],
   "source": [
    "class FDexplicitEngine:\n",
    "\n",
    "    def __init__(self, rMax, rMin, deltar, deltat, useUpwind):\n",
    "        self.rMax=rMax\n",
    "        self.rMin=rMin\n",
    "        self.deltar=deltar\n",
    "        self.deltat=deltat\n",
    "        self.useUpwind=useUpwind\n",
    "\n",
    "    def price_bond_vasicek(self,contract,dynamics):\n",
    "    # You complete the coding of this function\n",
    "    #\n",
    "    # Returns array of all initial short rates,\n",
    "    # and the corresponding array of zero-coupon\n",
    "    # T-maturity bond prices\n",
    "\n",
    "        T = contract.T\n",
    "        N=round(T/self.deltat)\n",
    "        if abs(N-T/self.deltat) > 1e-12:\n",
    "            raise ValueError(\"Bad delta t\")\n",
    "\n",
    "        r=np.arange(self.rMax,self.rMin-self.deltar/2,-self.deltar)   #I'm making the FIRST indices of the array correspond to HIGH levels of r\n",
    "        bondprice=np.ones(np.size(r))\n",
    "        \n",
    "        nu = dynamics.kappa*(dynamics.theta - r)\n",
    "        sigma = dynamics.sigma\n",
    "        a = sigma**2 * self.deltat / (self.deltar**2)\n",
    "        b = nu * self.deltat / self.deltar\n",
    "        \n",
    "        if self.useUpwind:\n",
    "            qu = (1/2)*(a+b+abs(b))\n",
    "            qd = (1/2)*(a-b+abs(b))\n",
    "            qm = 1-qu-qd\n",
    "        else:\n",
    "            qu= (1/2)*(a+b)\n",
    "            qd= (1/2)*(a-b)\n",
    "            qm= 1-a\n",
    "\n",
    "        for t in np.arange(N-1,-1,-1)*self.deltat:\n",
    "            bondprice=1/(1+r*self.deltat)*(qd*np.roll(bondprice,-1)+qm*bondprice+qu*np.roll(bondprice,1))\n",
    "\n",
    "            # It is not obvious in this case,\n",
    "            # what boundary conditions to use at the top and bottom\n",
    "            # so let us assume \"linearity\" boundary conditions\n",
    "            bondprice[0]=2*bondprice[1]-bondprice[2]\n",
    "            bondprice[-1]=2*bondprice[-2]-bondprice[-3]\n",
    "\n",
    "        return (r, bondprice)"
   ]
  },
  {
   "cell_type": "code",
   "execution_count": 7,
   "metadata": {
    "id": "MaN40DRPTu2C"
   },
   "outputs": [],
   "source": [
    "hw3FD = FDexplicitEngine(rMax=0.35,rMin=-0.25,deltar=0.01,deltat=0.01,useUpwind=False)"
   ]
  },
  {
   "cell_type": "code",
   "execution_count": 8,
   "metadata": {
    "id": "5-2f6MdVTu2D"
   },
   "outputs": [],
   "source": [
    "(r1, bondprice1) = hw3FD.price_bond_vasicek(hw3contract,hw3dynamics)"
   ]
  },
  {
   "cell_type": "code",
   "execution_count": 9,
   "metadata": {},
   "outputs": [],
   "source": [
    "np.set_printoptions(precision=4,suppress=True)\n",
    "displayrows=(r1<0.15+hw3FD.deltar/2) & (r1>0.0-hw3FD.deltar/2)"
   ]
  },
  {
   "cell_type": "code",
   "execution_count": 10,
   "metadata": {
    "id": "fFU_iyFVTu2E"
   },
   "outputs": [
    {
     "name": "stdout",
     "output_type": "stream",
     "text": [
      "[[ 1.5000e-01 -1.4273e+09]\n",
      " [ 1.4000e-01  1.6361e+08]\n",
      " [ 1.3000e-01  2.2294e+07]\n",
      " [ 1.2000e-01 -1.3724e+06]\n",
      " [ 1.1000e-01 -1.3361e+05]\n",
      " [ 1.0000e-01  3.2966e+03]\n",
      " [ 9.0000e-02  1.3021e+02]\n",
      " [ 8.0000e-02  7.7128e-01]\n",
      " [ 7.0000e-02  7.7385e-01]\n",
      " [ 6.0000e-02  7.7643e-01]\n",
      " [ 5.0000e-02  7.7902e-01]\n",
      " [ 4.0000e-02  7.8162e-01]\n",
      " [ 3.0000e-02  7.8423e-01]\n",
      " [ 2.0000e-02  7.8685e-01]\n",
      " [ 1.0000e-02  1.4165e+03]\n",
      " [-3.3307e-16  5.1498e+04]]\n"
     ]
    }
   ],
   "source": [
    "print(np.stack((r1, bondprice1),axis=1)[displayrows])"
   ]
  },
  {
   "cell_type": "markdown",
   "metadata": {},
   "source": [
    "## (c)"
   ]
  },
  {
   "cell_type": "code",
   "execution_count": 11,
   "metadata": {},
   "outputs": [],
   "source": [
    "hw3FD2 = FDexplicitEngine(rMax=0.35,rMin=-0.25,deltar=0.01,deltat=0.01,useUpwind=True)"
   ]
  },
  {
   "cell_type": "code",
   "execution_count": 12,
   "metadata": {},
   "outputs": [],
   "source": [
    "(r2, bondprice2) = hw3FD2.price_bond_vasicek(hw3contract,hw3dynamics)"
   ]
  },
  {
   "cell_type": "code",
   "execution_count": 13,
   "metadata": {},
   "outputs": [],
   "source": [
    "np.set_printoptions(precision=4,suppress=True)\n",
    "displayrows=(r2<0.15+hw3FD2.deltar/2) & (r2>0.0-hw3FD2.deltar/2)"
   ]
  },
  {
   "cell_type": "code",
   "execution_count": 14,
   "metadata": {},
   "outputs": [
    {
     "name": "stdout",
     "output_type": "stream",
     "text": [
      "[[ 0.15    0.7536]\n",
      " [ 0.14    0.7561]\n",
      " [ 0.13    0.7586]\n",
      " [ 0.12    0.7611]\n",
      " [ 0.11    0.7637]\n",
      " [ 0.1     0.7662]\n",
      " [ 0.09    0.7688]\n",
      " [ 0.08    0.7713]\n",
      " [ 0.07    0.7739]\n",
      " [ 0.06    0.7765]\n",
      " [ 0.05    0.7791]\n",
      " [ 0.04    0.7817]\n",
      " [ 0.03    0.7843]\n",
      " [ 0.02    0.7869]\n",
      " [ 0.01    0.7895]\n",
      " [-0.      0.7922]]\n"
     ]
    }
   ],
   "source": [
    "print(np.stack((r2, bondprice2),axis=1)[displayrows])"
   ]
  },
  {
   "cell_type": "markdown",
   "metadata": {},
   "source": [
    "## (d)"
   ]
  },
  {
   "cell_type": "markdown",
   "metadata": {},
   "source": [
    "By Taylor's theorem, we have:\n",
    "\n",
    "$f(x+h)=f(x)+hf'(x)+O(h^2)$\n",
    "\n",
    "$f(x+h)-f(x)-hf'(x)=O(h^2)$\n",
    "\n",
    "$\\big|\\frac{f(x+h)-f(x)}{h}-f'(x)\\big|=|\\frac{O(h^2)}{h}|=O(h)$\n",
    "\n",
    "By Taylor's theorem, we have:\n",
    "\n",
    "$f(x+h)=f(x)+hf'(x)+\\frac{1}{2}h^2f''(x)+O(h^3)$\n",
    "\n",
    "$f(x-h)=f(x)-hf'(x)+\\frac{1}{2}h^2f''(x)+O(h^3)$\n",
    "\n",
    "By subtracting these two functions we can get: \n",
    "\n",
    "$f(x+h)-f(x-h)=2hf'(x)+O(h^3)$\n",
    "\n",
    "$f(x+h)-f(x-h) -2hf'(x)=O(h^3)$\n",
    "\n",
    "$\\big|\\frac{f(x+h)-f(x-h)}{2h}-f'(x)\\big|=|\\frac{O(h^3)}{2h}|=O(h^2)$"
   ]
  },
  {
   "cell_type": "markdown",
   "metadata": {},
   "source": [
    "## (e)"
   ]
  },
  {
   "cell_type": "code",
   "execution_count": 15,
   "metadata": {},
   "outputs": [
    {
     "name": "stdout",
     "output_type": "stream",
     "text": [
      "[[   0.1    3296.5929]]\n",
      "[[0.1    0.7662]]\n"
     ]
    }
   ],
   "source": [
    "# dr = 0.01, dt = 0.01, rmax = 0.35, rmin = -0.25\n",
    "# find where r is 0.10\n",
    "displayrows=(abs(r1-0.10)<1e-8)\n",
    "\n",
    "# central difference\n",
    "print(np.stack((r1, bondprice1),axis=1)[displayrows])\n",
    "# upwind calculation\n",
    "print(np.stack((r2, bondprice2),axis=1)[displayrows])"
   ]
  },
  {
   "cell_type": "markdown",
   "metadata": {},
   "source": [
    "The upwind calculation is deemed to be more accurate.\n",
    "\n",
    "From the outputs displayed above, it is evident that the central difference method yields a highly unusual result 3296.5929, which appears to be implausible. In contrast, the upwind calculation produces a similar value 0.7662 to the exact bond price 0.7661. "
   ]
  },
  {
   "cell_type": "markdown",
   "metadata": {},
   "source": [
    "## (f)\n",
    "\n",
    "\"less\"\n",
    "\n",
    "\"greater\"\n",
    "\n",
    "\n",
    "## (g)"
   ]
  },
  {
   "cell_type": "code",
   "execution_count": 16,
   "metadata": {},
   "outputs": [
    {
     "name": "stdout",
     "output_type": "stream",
     "text": [
      "The price of the bond when r0 equals 0.12: 0.761143773472767\n",
      "Yield to maturity (YTM) of the bond for r0 at 0.12: 0.05458660238621129\n"
     ]
    }
   ],
   "source": [
    "T = 5\n",
    "displayrows = (abs(r1 - 0.12) < 1e-8)\n",
    "bondprice_12 = bondprice2[displayrows][0]\n",
    "print('The price of the bond when r0 equals 0.12:', bondprice_12)\n",
    "ytm_12 = np.log(1/bondprice_12) / T\n",
    "print('Yield to maturity (YTM) of the bond for r0 at 0.12:', ytm_12)"
   ]
  },
  {
   "cell_type": "code",
   "execution_count": 17,
   "metadata": {},
   "outputs": [
    {
     "name": "stdout",
     "output_type": "stream",
     "text": [
      "The price of the bond when r0 equals 0.02: 0.7869156415550577\n",
      "Yield to maturity (YTM) of the bond for r0 at 0.02: 0.04792684524038049\n"
     ]
    }
   ],
   "source": [
    "T = 5\n",
    "displayrows = (abs(r1 - 0.02) < 1e-8)\n",
    "bondprice_02 = bondprice2[displayrows][0]\n",
    "print('The price of the bond when r0 equals 0.02:', bondprice_02)\n",
    "ytm_02 = np.log(1/bondprice_02) / T\n",
    "print('Yield to maturity (YTM) of the bond for r0 at 0.02:', ytm_02)"
   ]
  },
  {
   "cell_type": "markdown",
   "metadata": {},
   "source": [
    "Understanding yield to maturity (YTM) as the anticipated average of the instantaneous spot rates from the present until time T can help explain its behavior. A lower initial spot rate, represented as r, usually shifts upward to align with the long-term average as time progresses. On the other hand, a higher initial spot rate tends to gravitate downwards towards this average.\n",
    "\n",
    "In the context of the Vasicek model $dr_t = 3(0.05-r_t)dt+0.03dW_t$, where the average level is 0.05, the starting point of r at time 0 influences its subsequent movement. For instance, if $r_0 = 0.02$, the drift is positive, indicating that r is likely to rise over time, leading to a YTM higher than 0.02. Conversely, if $r_0 = 0.12$, the drift is negative, suggesting that r is likely to decline over time, resulting in a YTM lower than 0.12. do not change the meaning and rephrase it "
   ]
  },
  {
   "cell_type": "markdown",
   "metadata": {},
   "source": [
    "# Problem 2\n",
    "\n",
    "## (a)\n",
    "B-S call option (time-0) ：\n",
    "\n",
    " $$\\Delta = N(d1)$$\n",
    " \n",
    " where $d1 = \\frac{log(F/K)}{\\sigma \\sqrt{T}} + \\frac{\\sigma \\sqrt{T}}{2}, F = S_0 e^{r(T)}$. \n",
    "\n",
    "Therefore, we have \n",
    "\n",
    "$$d1 = N^{-1}(\\Delta) = \\frac{log(S_0 e^{r(T)}/K)}{\\sigma \\sqrt{T}} + \\frac{\\sigma \\sqrt{T}}{2}$$\n",
    "\n",
    "$$K = S_0 e^{-(r + \\frac{1}{2}\\sigma^2)T + \\sigma\\sqrt{T} N^{-1}(\\Delta)}$$\n",
    "\n"
   ]
  },
  {
   "cell_type": "code",
   "execution_count": 18,
   "metadata": {},
   "outputs": [
    {
     "name": "stderr",
     "output_type": "stream",
     "text": [
      "/opt/anaconda3/lib/python3.8/site-packages/scipy/__init__.py:146: UserWarning: A NumPy version >=1.16.5 and <1.23.0 is required for this version of SciPy (detected version 1.24.4\n",
      "  warnings.warn(f\"A NumPy version >={np_minversion} and <{np_maxversion}\"\n"
     ]
    }
   ],
   "source": [
    "from scipy.stats import norm\n",
    "from scipy.optimize import brentq\n",
    "import numpy as np\n",
    "\n",
    "# Define the Black-Scholes function to calculate d1, d2 and call option price\n",
    "def black_scholes(S0, K, T, r, sigma):\n",
    "    d1 = (np.log(S0 / K) + (r + 0.5 * sigma**2) * T) / (sigma * np.sqrt(T))\n",
    "    d2 = d1 - sigma * np.sqrt(T)\n",
    "    return d1, d2\n",
    "\n",
    "# Part (a): Function to find the strike price K for a given delta Δ\n",
    "def find_strike(S0, delta, T, r, sigma):\n",
    "    def f(K):\n",
    "        d1, _ = black_scholes(S0, K, T, r, sigma)\n",
    "        return norm.cdf(d1) - delta\n",
    "    # Use brentq root finding method to solve for K\n",
    "    return brentq(f, S0 / 2, S0 * 2)"
   ]
  },
  {
   "cell_type": "markdown",
   "metadata": {},
   "source": [
    "## (b)"
   ]
  },
  {
   "cell_type": "code",
   "execution_count": 19,
   "metadata": {},
   "outputs": [
    {
     "name": "stdout",
     "output_type": "stream",
     "text": [
      "The strike of a 25-delta call is: 326.74\n",
      "The strike of a 75-delta call is: 279.611\n",
      "The premium of a 25-delta call is: 4.883\n",
      "The premium of a 75-delta call is: 26.104\n"
     ]
    }
   ],
   "source": [
    "# Define parameters given in the problem\n",
    "S0 = 300  # Initial stock price\n",
    "T = 1/12  # Time to expiry in years\n",
    "sigma = 0.4  # Volatility\n",
    "r = 0.01  # Interest rate\n",
    "\n",
    "# Part (b): Find strike prices for 25-delta and 75-delta calls\n",
    "delta_25 = 0.25\n",
    "delta_75 = 0.75\n",
    "\n",
    "K_25_delta = find_strike(S0, delta_25, T, r, sigma)\n",
    "K_75_delta = find_strike(S0, delta_75, T, r, sigma)\n",
    "\n",
    "# Calculate the premiums for these options\n",
    "def option_premium(S0, K, T, r, sigma):\n",
    "    d1, d2 = black_scholes(S0, K, T, r, sigma)\n",
    "    C = S0 * norm.cdf(d1) - K * np.exp(-r * T) * norm.cdf(d2)\n",
    "    return C\n",
    "\n",
    "premium_25_delta = option_premium(S0, K_25_delta, T, r, sigma)\n",
    "premium_75_delta = option_premium(S0, K_75_delta, T, r, sigma)\n",
    "print(\"The strike of a 25-delta call is: \" + str(round(K_25_delta,3)))\n",
    "print(\"The strike of a 75-delta call is: \" + str(round(K_75_delta,3)))\n",
    "print(\"The premium of a 25-delta call is: \" + str(round(premium_25_delta,3)))\n",
    "print(\"The premium of a 75-delta call is: \" + str(round(premium_75_delta,3)))"
   ]
  },
  {
   "cell_type": "markdown",
   "metadata": {},
   "source": [
    "## (c)"
   ]
  },
  {
   "cell_type": "markdown",
   "metadata": {},
   "source": [
    "The 25-delta option gives you more leverage compared to the 75-delta option. Leverage here is understood as the ratio of the percentage change in the option price to the percentage change in the underlying asset price. The higher the leverage, the more sensitive the option price is to changes in the underlying asset price. "
   ]
  },
  {
   "cell_type": "code",
   "execution_count": 20,
   "metadata": {},
   "outputs": [
    {
     "name": "stdout",
     "output_type": "stream",
     "text": [
      "The leverage (lambda) for the 25-delta option is: 15.361\n",
      "The leverage (lambda) for the 25-delta option is: 8.62\n"
     ]
    }
   ],
   "source": [
    "# Part (c): Calculate the lambdas of the two options\n",
    "lambda_25_delta = delta_25 * S0 / premium_25_delta\n",
    "lambda_75_delta = delta_75 * S0 / premium_75_delta\n",
    "\n",
    "print(\"The leverage (lambda) for the 25-delta option is: \" + str(round(lambda_25_delta,3)))\n",
    "print(\"The leverage (lambda) for the 25-delta option is: \" + str(round(lambda_75_delta,3)))"
   ]
  }
 ],
 "metadata": {
  "anaconda-cloud": {},
  "colab": {
   "provenance": []
  },
  "kernelspec": {
   "display_name": "Python 3 (ipykernel)",
   "language": "python",
   "name": "python3"
  },
  "language_info": {
   "codemirror_mode": {
    "name": "ipython",
    "version": 3
   },
   "file_extension": ".py",
   "mimetype": "text/x-python",
   "name": "python",
   "nbconvert_exporter": "python",
   "pygments_lexer": "ipython3",
   "version": "3.8.8"
  },
  "toc": {
   "base_numbering": 1,
   "nav_menu": {},
   "number_sections": true,
   "sideBar": true,
   "skip_h1_title": false,
   "title_cell": "Table of Contents",
   "title_sidebar": "Contents",
   "toc_cell": false,
   "toc_position": {},
   "toc_section_display": true,
   "toc_window_display": false
  }
 },
 "nbformat": 4,
 "nbformat_minor": 1
}
